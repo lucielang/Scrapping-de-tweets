{
 "cells": [
  {
   "cell_type": "code",
   "execution_count": null,
   "metadata": {},
   "outputs": [
    {
     "name": "stderr",
     "output_type": "stream",
     "text": [
      "[nltk_data] Downloading package punkt to /home/onyxia/nltk_data...\n",
      "[nltk_data]   Package punkt is already up-to-date!\n",
      "[nltk_data] Downloading package stopwords to /home/onyxia/nltk_data...\n",
      "[nltk_data]   Package stopwords is already up-to-date!\n"
     ]
    }
   ],
   "source": [
    "import csv\n",
    "import pandas as pd\n",
    "import nltk\n",
    "nltk.download('punkt_tab')\n",
    "nltk.download('stopwords')\n",
    "from nltk.probability import FreqDist\n",
    "from nltk.tokenize import word_tokenize\n",
    "from nltk.corpus import stopwords"
   ]
  },
  {
   "cell_type": "code",
   "execution_count": 25,
   "metadata": {},
   "outputs": [
    {
     "data": {
      "text/plain": [
       "0        [despite, the, fact, that, i, pick, up, new, f...\n",
       "1        [i, made, a, bluesky, account, would, rather, ...\n",
       "2        [transparency, or, smoke, mirrors, musk, often...\n",
       "3        [it, is, double, hilarious, if, you, think, of...\n",
       "4        [i, was, bootedshadow, banned, from, twitter, ...\n",
       "                               ...                        \n",
       "13042    [the, trevor, project, a, prominent, lgbtq, ri...\n",
       "13043    [please, also, nerf, scams, by, removing, bitc...\n",
       "13044    [go, amd, see, who, second, largest, investor,...\n",
       "13045    [youre, posting, this, on, x, elon, musk, has,...\n",
       "13046    [if, musk, starts, charging, for, x, aka, twit...\n",
       "Name: cleaned_tweet, Length: 13047, dtype: object"
      ]
     },
     "execution_count": 25,
     "metadata": {},
     "output_type": "execute_result"
    }
   ],
   "source": [
    "df = pd.read_csv('labeled_data_with_predictions.csv')\n",
    "tokenized_word = df['cleaned_tweet'].apply(lambda x: word_tokenize(str(x)))\n",
    "\n",
    "stop_words=set(stopwords.words(\"english\"))\n",
    "\n",
    "filtered_sent=[]\n",
    "\n",
    "tokenized_word"
   ]
  }
 ],
 "metadata": {
  "kernelspec": {
   "display_name": "base",
   "language": "python",
   "name": "python3"
  },
  "language_info": {
   "codemirror_mode": {
    "name": "ipython",
    "version": 3
   },
   "file_extension": ".py",
   "mimetype": "text/x-python",
   "name": "python",
   "nbconvert_exporter": "python",
   "pygments_lexer": "ipython3",
   "version": "3.12.7"
  }
 },
 "nbformat": 4,
 "nbformat_minor": 2
}
