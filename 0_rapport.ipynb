{
 "cells": [
  {
   "cell_type": "markdown",
   "metadata": {},
   "source": [
    "# Rapport du projet de programmation\n",
    "\n",
    "## Introduction\n",
    "\n",
    "Le projet de programmation que nous avons entrepris se veut proposer des formes d'analyses et de réponses au sujet des thématiques et problématiques qui touchent l'utilisation des réseaux sociaux à des fins d'information, notamment Twitter. En effet, la construction de véritables empires médiatiques est croissante et tend à se normaliser. Le choix de s'intéresser\n",
    "Quelle attitude des utilisateurs face à cela ? \n",
    "\n",
    "## Scrapping \n",
    "Afin de construire les bases de données nécessaires à notre analyse, nous avons décidé de mettre en place une méthode de scrapping en utilisant le package selenium. Cela nous est paru nécessaire d'utiliser cette méthode dans notre projet pour obtenir les types d'informations spécifiques que nous voulions recueillir. \n",
    "Ainsi, dans la base de données, nous avons en colonne :\n",
    "- le nom de l'utilisateur\n",
    "- \n",
    "\n",
    "## NLP\n",
    "\n",
    "### Code\n",
    "\n",
    "### Entraînement\n",
    "- Choix \n",
    "\n",
    "## Visualisation\n"
   ]
  },
  {
   "cell_type": "markdown",
   "metadata": {},
   "source": [
    "On commence par installer les différentes bibliothèques qui seront nécessaires à l'exécution du code :"
   ]
  },
  {
   "cell_type": "code",
   "execution_count": null,
   "metadata": {},
   "outputs": [],
   "source": [
    "!pip install pandas\n",
    "!pip install matplotlib\n",
    "!pip install datetime"
   ]
  },
  {
   "cell_type": "markdown",
   "metadata": {},
   "source": [
    "Une fois ceci fait, la première étape va consister à scrapper twitter. La façon dont nous avons décidé de scrapper Twitter a été la suivante :\n",
    "- Tout d'abord, nous avons souhaité récolté les tweets dans leur ordre de publication, c'est-à-dire dans l'onglet \"Récents\" de la page de recherche de Twitter. Pour cela, nous avons créé un compte Twitter : l'utilisateur et le mot de passe sont remplis lors de l'exécution du code. \n",
    "- Ensuite, nous ne voulions que les tweets en anglais, ce qui était nécessaire pour l'étape de NLP, donc nous avons appliqué le filtre **nom du filtre**.\n",
    "- bref philipa tu pourras expliquer \n",
    "\n",
    "**ATTENTION : par pitié ne pas exécuter ce code ça prend littéralement des heures**"
   ]
  },
  {
   "cell_type": "code",
   "execution_count": null,
   "metadata": {},
   "outputs": [],
   "source": [
    "CODE SCRAPPING"
   ]
  },
  {
   "cell_type": "markdown",
   "metadata": {},
   "source": [
    "Une fois le code exécuté, nous nous retrouvons avec une base de données en format excel **Nettoyer la table ? quelles dates on garde ? mettre des 0 là où y a des trous => mieux si philipa s'en charge?**. Nous avons ainsi en colonnes blablabla. **présenter une sortie du tableau excel ?**"
   ]
  },
  {
   "cell_type": "code",
   "execution_count": 10,
   "metadata": {},
   "outputs": [
    {
     "data": {
      "text/html": [
       "<div>\n",
       "<style scoped>\n",
       "    .dataframe tbody tr th:only-of-type {\n",
       "        vertical-align: middle;\n",
       "    }\n",
       "\n",
       "    .dataframe tbody tr th {\n",
       "        vertical-align: top;\n",
       "    }\n",
       "\n",
       "    .dataframe thead th {\n",
       "        text-align: right;\n",
       "    }\n",
       "</style>\n",
       "<table border=\"1\" class=\"dataframe\">\n",
       "  <thead>\n",
       "    <tr style=\"text-align: right;\">\n",
       "      <th></th>\n",
       "      <th>Username</th>\n",
       "      <th>Date</th>\n",
       "      <th>Content</th>\n",
       "    </tr>\n",
       "  </thead>\n",
       "  <tbody>\n",
       "    <tr>\n",
       "      <th>0</th>\n",
       "      <td>HBHANTI Macron Verts Gauches Woke !</td>\n",
       "      <td>6m</td>\n",
       "      <td>Et dépenser moins en évitant sans cesse les taxes et impôts c'est possible aussi à Bordeaux sans cette écologie punitive ??</td>\n",
       "    </tr>\n",
       "    <tr>\n",
       "      <th>1</th>\n",
       "      <td>Titube</td>\n",
       "      <td>1h</td>\n",
       "      <td>Vous pourriez respecter le vote des électeurs américains. Les français ont voté Macron . On ne peut donc pas se permettre de donner des leçons de démocratie,  d'ecologie, de justice ou d'économie.</td>\n",
       "    </tr>\n",
       "    <tr>\n",
       "      <th>2</th>\n",
       "      <td>Lisa Sister</td>\n",
       "      <td>2h</td>\n",
       "      <td>Vous êtes en parfaite connexion avec Macron qui applaudit l'élection de Trump. C'est très affligeant mais cela confirme la personne politique que vous êtes. Mais bien entendu l'écologie que vous représentez n'est pas celle de la majorité des écologistes.\\nVive Marine Tondelier</td>\n",
       "    </tr>\n",
       "    <tr>\n",
       "      <th>3</th>\n",
       "      <td>Foudroyeur2Naine</td>\n",
       "      <td>6h</td>\n",
       "      <td>Je vais te faire un exemple pour ton petit cervelet (comme à l’école) : \\nMacron est climatosceptique (Ici Trump)\\nAntoine Armand (Ici Elon musk) ne l’est pas. Oui ? Donc ? \\nMinistre de l’économie quel est le rapport avec l’écologie ?</td>\n",
       "    </tr>\n",
       "    <tr>\n",
       "      <th>4</th>\n",
       "      <td>Nathalie BIHET</td>\n",
       "      <td>7h</td>\n",
       "      <td>Sache que je ne vote que lorsque le parti animaliste est représenté, je n'ai jamais voté Macron. Trump déteste l'écologie et les animaux, et étant végan j'ai beaucoup de mal avec lui tout comme avez Macron. Enfin bref chacun ses idées</td>\n",
       "    </tr>\n",
       "    <tr>\n",
       "      <th>5</th>\n",
       "      <td>Florence Regnier</td>\n",
       "      <td>8h</td>\n",
       "      <td>Non, pas de la montée. De sa présence au 2nd tour. et de ce fait de la réélection de Macron, pour lequel vous avez revoté. LFI n'a pas attendu les écolos pour faire de l'écologie.</td>\n",
       "    </tr>\n",
       "    <tr>\n",
       "      <th>6</th>\n",
       "      <td>Zodiaquue</td>\n",
       "      <td>10h</td>\n",
       "      <td>Qu'est ce que tu es con et haineux qvec ton mépris imminde. Tu as fait réélire Macron et tu nous parles de débilité, tu as jamais lu un programme de ta vie, tu fais tellement pitié.\\nSinon,l'écologie c'est une priorité pour Musk qui était bridé par le gouvernement Biden.</td>\n",
       "    </tr>\n",
       "    <tr>\n",
       "      <th>7</th>\n",
       "      <td>jeffe50</td>\n",
       "      <td>11h</td>\n",
       "      <td>Vivement 2027 qu’on dégage LFI et toutes la bande à Macron, avec leur putain d’écologie ils on détruit l’industrie européenne, mis la France en faillite, mais ils ont de la merde dans les yeux, mais ils croient toujours que l’avenir c’est eux</td>\n",
       "    </tr>\n",
       "    <tr>\n",
       "      <th>8</th>\n",
       "      <td>FreeGaet</td>\n",
       "      <td>12h</td>\n",
       "      <td>Oui.\\nFaut arrêter de croire que Macron est de droite.\\n\\nTrump veut retirer tous les droits aux migrants sauf celui de rentrer chez eux, il veut supprimer les subventions aux universités US gangrenées par le wokisme et n'a pas la moindre considération pour l'écologie.</td>\n",
       "    </tr>\n",
       "    <tr>\n",
       "      <th>9</th>\n",
       "      <td>Xedo</td>\n",
       "      <td>13h</td>\n",
       "      <td>Même si son passage a l’écologie n’est pas glorieux, elle ne porte pas en tant que ministre la déroute du nucléaire français, imputable AUSSI aux présidents de droite, Chirac Sarko, Hollande, politique de droite et Macron qui est incapable de corriger le tir..,</td>\n",
       "    </tr>\n",
       "    <tr>\n",
       "      <th>10</th>\n",
       "      <td>guff gu</td>\n",
       "      <td>14h</td>\n",
       "      <td>Les gauchos communistes en ont pris un coup. Fini l ecologie punitive. L Eu va être larguée par tous les pays, USA et Brics et va rester à se regarder le nombril avec Macron 1 et et son discours planétaire à Nore Dame</td>\n",
       "    </tr>\n",
       "    <tr>\n",
       "      <th>11</th>\n",
       "      <td>Bièrenger</td>\n",
       "      <td>14h</td>\n",
       "      <td>Compliqué de traiter les américains de demeurés quand on connaît un peuple qui a élu Macron 2x mais bon, tu sens qu'on va encore bien avancer niveau écologie et environnement, sans oublier le reste..</td>\n",
       "    </tr>\n",
       "    <tr>\n",
       "      <th>12</th>\n",
       "      <td>GeneDuc</td>\n",
       "      <td>15h</td>\n",
       "      <td>#Ecologie #Macron</td>\n",
       "    </tr>\n",
       "    <tr>\n",
       "      <th>13</th>\n",
       "      <td>Albert je déteste l'écologie politique</td>\n",
       "      <td>16h</td>\n",
       "      <td>Il semblerait qu'on paye l'électricité 2 fois plus cher en France qu'aux Usa. Bravo l'Europe, bravo Von der Leyen, bravo Macron et bravo les escrologistes!</td>\n",
       "    </tr>\n",
       "    <tr>\n",
       "      <th>14</th>\n",
       "      <td>macron_menteur</td>\n",
       "      <td>Nov 5</td>\n",
       "      <td>Mdr  bouffonne</td>\n",
       "    </tr>\n",
       "  </tbody>\n",
       "</table>\n",
       "</div>"
      ],
      "text/plain": [
       "                                  Username   Date                                                                                                                                                                                                                                                                                Content\n",
       "0      HBHANTI Macron Verts Gauches Woke !     6m                                                                                                                                                            Et dépenser moins en évitant sans cesse les taxes et impôts c'est possible aussi à Bordeaux sans cette écologie punitive ??\n",
       "1                                   Titube     1h                                                                                   Vous pourriez respecter le vote des électeurs américains. Les français ont voté Macron . On ne peut donc pas se permettre de donner des leçons de démocratie,  d'ecologie, de justice ou d'économie.\n",
       "2                              Lisa Sister     2h  Vous êtes en parfaite connexion avec Macron qui applaudit l'élection de Trump. C'est très affligeant mais cela confirme la personne politique que vous êtes. Mais bien entendu l'écologie que vous représentez n'est pas celle de la majorité des écologistes.\\nVive Marine Tondelier\n",
       "3                         Foudroyeur2Naine     6h                                            Je vais te faire un exemple pour ton petit cervelet (comme à l’école) : \\nMacron est climatosceptique (Ici Trump)\\nAntoine Armand (Ici Elon musk) ne l’est pas. Oui ? Donc ? \\nMinistre de l’économie quel est le rapport avec l’écologie ?\n",
       "4                           Nathalie BIHET     7h                                             Sache que je ne vote que lorsque le parti animaliste est représenté, je n'ai jamais voté Macron. Trump déteste l'écologie et les animaux, et étant végan j'ai beaucoup de mal avec lui tout comme avez Macron. Enfin bref chacun ses idées\n",
       "5                         Florence Regnier     8h                                                                                                    Non, pas de la montée. De sa présence au 2nd tour. et de ce fait de la réélection de Macron, pour lequel vous avez revoté. LFI n'a pas attendu les écolos pour faire de l'écologie.\n",
       "6                                Zodiaquue    10h        Qu'est ce que tu es con et haineux qvec ton mépris imminde. Tu as fait réélire Macron et tu nous parles de débilité, tu as jamais lu un programme de ta vie, tu fais tellement pitié.\\nSinon,l'écologie c'est une priorité pour Musk qui était bridé par le gouvernement Biden.\n",
       "7                                  jeffe50    11h                                    Vivement 2027 qu’on dégage LFI et toutes la bande à Macron, avec leur putain d’écologie ils on détruit l’industrie européenne, mis la France en faillite, mais ils ont de la merde dans les yeux, mais ils croient toujours que l’avenir c’est eux \n",
       "8                                 FreeGaet    12h          Oui.\\nFaut arrêter de croire que Macron est de droite.\\n\\nTrump veut retirer tous les droits aux migrants sauf celui de rentrer chez eux, il veut supprimer les subventions aux universités US gangrenées par le wokisme et n'a pas la moindre considération pour l'écologie.\n",
       "9                                     Xedo    13h                  Même si son passage a l’écologie n’est pas glorieux, elle ne porte pas en tant que ministre la déroute du nucléaire français, imputable AUSSI aux présidents de droite, Chirac Sarko, Hollande, politique de droite et Macron qui est incapable de corriger le tir..,\n",
       "10                                 guff gu    14h                                                              Les gauchos communistes en ont pris un coup. Fini l ecologie punitive. L Eu va être larguée par tous les pays, USA et Brics et va rester à se regarder le nombril avec Macron 1 et et son discours planétaire à Nore Dame\n",
       "11                               Bièrenger    14h                                                                                Compliqué de traiter les américains de demeurés quand on connaît un peuple qui a élu Macron 2x mais bon, tu sens qu'on va encore bien avancer niveau écologie et environnement, sans oublier le reste..\n",
       "12                                 GeneDuc    15h                                                                                                                                                                                                                                                                      #Ecologie #Macron\n",
       "13  Albert je déteste l'écologie politique    16h                                                                                                                            Il semblerait qu'on paye l'électricité 2 fois plus cher en France qu'aux Usa. Bravo l'Europe, bravo Von der Leyen, bravo Macron et bravo les escrologistes!\n",
       "14                          macron_menteur  Nov 5                                                                                                                                                                                                                                                                         Mdr  bouffonne"
      ]
     },
     "execution_count": 10,
     "metadata": {},
     "output_type": "execute_result"
    }
   ],
   "source": [
    "import pandas as pd\n",
    "\n",
    "# Modifier les paramètres pour afficher plus de contenu dans chaque cellule\n",
    "pd.set_option('display.max_colwidth', None)  # Affiche tout le contenu des colonnes\n",
    "pd.set_option('display.max_columns', None)  # Affiche toutes les colonnes\n",
    "pd.set_option('display.width', 1000)  # Ajuste la largeur totale de l'affichage\n",
    "\n",
    "# Charger et afficher le fichier Excel\n",
    "df = pd.read_excel('tweets_macron_ecologie.xlsx')\n",
    "df.head(15)\n"
   ]
  },
  {
   "cell_type": "markdown",
   "metadata": {},
   "source": [
    "Voilà à quoi ressemble notre sortie : l'étape d'après est le NLP."
   ]
  },
  {
   "cell_type": "markdown",
   "metadata": {},
   "source": [
    "## NLP"
   ]
  },
  {
   "cell_type": "markdown",
   "metadata": {},
   "source": [
    "## Visualisation\n",
    "Une fois la base de données nettoyée après avoir été obtenue par scrapping, l'objectif est de l'organiser et de créer les variables nécessaires à la création d'indices, eux-mêmes nécessaires à la réalisation de statistiques descriptives et d'analyses.\n",
    "\n",
    "### Rajout d'une colonne YearWeek\n",
    "Les dates que nous obtenons directement après avoir scrappé ne sont pas dans un format \"date\" qui simplifie les calculs. Nous utilisons donc le module *datetime* de Python, notamment la fonction *datetime.strptime* pour convertir une chaîne de caractères représentant une date ou une heure en un objet datetime. En effet, nous avons été particulièrement vigilants au fait que notre code devait faire en sorte d'assigner la bonne date aux dates apparaissant sous le format \"6mn\", \"1h\" : dans notre code, nous faisons en sorte de prendre en compte la date suivant la précédente. Ainsi, nous avons pu régler des problèmes de date d'exécution du code.\n",
    "Nous avons choisi d'analyser nos données en les groupant par semaine, ce qui permet d'avoir une analyse assez fine des tendances sans être trop exposés aux fluctuations journalières.\n",
    "\n",
    "Dans le code suivant, nous avons créé une nouvelle table avec un rajout de la colonne yearweek. \n"
   ]
  },
  {
   "cell_type": "markdown",
   "metadata": {},
   "source": [
    "code 0_rap_convertdate"
   ]
  },
  {
   "cell_type": "markdown",
   "metadata": {},
   "source": [
    "## Premiers graphiques\n",
    "Une fois ceci fait, nous pouvons sortir nos premiers graphiques :\n",
    "- d'abord le **nombre de tweets par semaine**, ce qui permet de relever certaines tendances\n",
    "- puis sur un autre graphique nous représentons le **nombre de likes, de retweets et de réponses par semaine** en **valeur absolue** puis en **valeur pondérée** par le nombre de tweets."
   ]
  },
  {
   "cell_type": "code",
   "execution_count": null,
   "metadata": {},
   "outputs": [],
   "source": [
    "code 1_rap_nbrtweets\n",
    "code 2_rap_nbrlikes"
   ]
  },
  {
   "cell_type": "markdown",
   "metadata": {},
   "source": [
    "CONCLUSION de ces premiers éléments"
   ]
  },
  {
   "cell_type": "markdown",
   "metadata": {},
   "source": [
    "\n",
    "- ensuite, nous avons décidé de **créer différents indices** pour aborder autrement les données. \n",
    "1. un taux d'engagement égal à la somme de likes, de retweets, de réponses le tout sur le nombre de vues, exprimé en pourcentages. Nous mettons en place un taux d'engagement par semaine. \n",
    "2. un taux de croissance des interactions : nous nous sommes ici restreints à la variation de likes d'une semaine à l'autre\n",
    "**PONDERER PAR LE NOMBRE DE TWEETS**"
   ]
  },
  {
   "cell_type": "code",
   "execution_count": null,
   "metadata": {},
   "outputs": [],
   "source": [
    "code 3_rap_indices"
   ]
  },
  {
   "cell_type": "markdown",
   "metadata": {},
   "source": [
    "Une fois ces indices créés, nous les représentons sur un même graphique :"
   ]
  },
  {
   "cell_type": "code",
   "execution_count": null,
   "metadata": {},
   "outputs": [],
   "source": [
    "4_graph_indices"
   ]
  }
 ],
 "metadata": {
  "kernelspec": {
   "display_name": "Python 3",
   "language": "python",
   "name": "python3"
  },
  "language_info": {
   "codemirror_mode": {
    "name": "ipython",
    "version": 3
   },
   "file_extension": ".py",
   "mimetype": "text/x-python",
   "name": "python",
   "nbconvert_exporter": "python",
   "pygments_lexer": "ipython3",
   "version": "3.12.0"
  }
 },
 "nbformat": 4,
 "nbformat_minor": 2
}
