{
 "cells": [
  {
   "cell_type": "markdown",
   "metadata": {},
   "source": [
    "# Rapport du projet de programmation\n",
    "\n",
    "## Introduction\n",
    "\n",
    "Le projet de programmation que nous avons entrepris se veut proposer des formes d'analyses et de réponses au sujet des thématiques et problématiques qui touchent l'utilisation des réseaux sociaux à des fins d'information, notamment Twitter. En effet, la construction de véritables empires médiatiques est croissante et tend à se normaliser. Le choix de s'intéresser directement à ce qui se passe sur un des réseaux sociaux les plus utilisés au monde nous a donc semblé pertinent dans la mesure où Twitter est sujet à de multiples controverses. **comment ça se fait que quand tu viens de créer un compte tu tombes sur une page de trump ou de elon musk fin bon pas à moi (en vrai jsuis chaud qu'on en parle)** Dans les événements récents, de nombreuses personnalités ont notamment appelé à quitter Twitter (de grands journaux tels que le *Guardian*, des journalistes ainsi que des personnalités politiques). Mais qu'en est-il des utilisateurs ? Quelle attitude adoptent-ils face à cela ?\n",
    "\n",
    "Les enjeux de ce projet portent ainsi concrètement sur le niveau de prises de position, qu'elles aillent dans un sens favorable ou défavorable à ce que nous disons être une main mise d'Elon Musk sur Twitter. De fait, ce projet interroge aussi une forme d'éveil citoyen et politique des utilisateurs face aux informations qu'ils reçoivent, mais aussi le niveau d'implication et de mobilisation dans ce type de discussions.\n",
    "Ainsi, ce projet suit une ligne directrice orientée, car nous partons effectivement du principe que les utilisateurs se posent la question et réagissent à la mouvance qui consiste à quitter Twitter (nous-même partons du fait que nous identifions un problème de désinformation sur Twitter).\n",
    "\n",
    "**présentation du plan d'action**\n",
    "Concrètement, nous avons décidé de scrapper Twitter pour obtenir une base de données qui remonte jusqu'à.... : nous avons ainsi collecté le nom d'utilisateur, la date, le contenu du tweet, le nombre de likes, de réponses, de retweets et de vues.\n",
    "\n",
    "Pour analyser les tweets, nous avons mis en place du NLP pour tenter d'obtenir une information supplémentaire sur les contenus des tweets, et ne pas seulement s'en tenir à des informations très descriptives reflétées par le nombre de likes, réponses, retweets et vues."
   ]
  },
  {
   "cell_type": "markdown",
   "metadata": {},
   "source": [
    "On commence par installer les différentes bibliothèques qui seront nécessaires à l'exécution du code :"
   ]
  },
  {
   "cell_type": "code",
   "execution_count": null,
   "metadata": {},
   "outputs": [],
   "source": [
    "!pip install pandas\n",
    "!pip install matplotlib\n",
    "!pip install datetime\n",
    "!pip install openpyxl"
   ]
  },
  {
   "cell_type": "markdown",
   "metadata": {},
   "source": [
    "Une fois ceci fait, la première étape va consister à scrapper Twitter. La façon dont nous avons procédé a été la suivante :\n",
    "\n",
    "- Tout d'abord nous avons installé le framework Selenium, afin de naviguer automatiquement sur le site de Twitter et faire défiler les tweets sur la page qui nous intéressait. En effet nous souhaitions récolter les tweets dans leur ordre de publication, c'est-à-dire dans l'onglet \"Récents\" de la page de recherche de Twitter. \n",
    "- Pour cela, nous avons créé un compte Twitter : l'utilisateur et le mot de passe sont remplis lors de l'exécution du code. Dans la barre de recherche nous avons donc entré les mots clés que nous voulions voir ressortir dans les tweets (les mots liés au fait de quitter Twitter et le mot \"Musk\"), de janvier 2024 à décembre 2024. \n",
    "- Afin de récupérer les tweets et les stocker dans un dataframe, nous avons identifié l'auteur, le contenu, la date, le nombre de vues, de likes, de reposts et de commentaires de chaque tweet en trouvant l'emplacement de ces éléments dans la structure HTML de la page web, puis avons placé chacun d'eux dans une liste. Cela nous a permis d'obtenir un tableau mis sous format Excel.\n",
    "\n",
    "**ATTENTION : Le code met du temps à tourner, nous avons donc fourni directement les bases de données dont nous nous servons sous format Excel**"
   ]
  },
  {
   "cell_type": "code",
   "execution_count": null,
   "metadata": {},
   "outputs": [],
   "source": [
    "from selenium import webdriver\n",
    "from selenium.webdriver.common.keys import Keys\n",
    "from selenium.webdriver.common.by import By\n",
    "import time\n",
    "import pandas as pd\n",
    "\n",
    "driver = webdriver.Chrome()\n",
    "driver.get('https://x.com/i/flow/login')\n",
    "time.sleep(10)\n",
    "\n",
    "# Connexion\n",
    "username_input = driver.find_element('name', 'text')\n",
    "username_input.send_keys('philipa.seilles@ensae.fr')\n",
    "username_input.send_keys(Keys.RETURN)\n",
    "time.sleep(5)\n",
    "\n",
    "webdriver.ActionChains(driver).send_keys('car_pelet').perform()\n",
    "webdriver.ActionChains(driver).send_keys(Keys.RETURN).perform()\n",
    "time.sleep(5)\n",
    "\n",
    "password_input = driver.find_element('name', 'password')\n",
    "password_input.send_keys('w7a4731O')\n",
    "password_input.send_keys(Keys.RETURN)\n",
    "time.sleep(5)\n",
    "\n",
    "# Navigue vers la recherche\n",
    "explore_button = driver.find_element(By.XPATH, \"//a[@href='/explore']\")\n",
    "explore_button.click()\n",
    "time.sleep(5)\n",
    "\n",
    "search_bar = driver.find_element(By.XPATH, \"//input[@aria-label='Search query']\")\n",
    "search_bar.send_keys(\"(leaving OR leave OR quitting) twitter musk until:2024-12-03 since:2024-01-01\")\n",
    "search_bar.send_keys(Keys.RETURN)\n",
    "time.sleep(7)\n",
    "\n",
    "link = driver.find_element(By.XPATH, \"(//div[@class='css-175oi2r r-18u37iz r-16y2uox r-1wbh5a2 r-tzz3ar r-1pi2tsx r-buy8e9 r-mfh4gg r-2eszeu r-10m9thr r-lltvgl']//a)[2]\")\n",
    "link.click()\n",
    "time.sleep(6)\n",
    "\n",
    "# Listes pour stocker les données des tweets\n",
    "usernames = []\n",
    "dates = []\n",
    "contents = []\n",
    "comments = []\n",
    "repost = []\n",
    "likes = []\n",
    "views = []\n",
    "\n",
    "# Ensemble pour vérifier l'unicité des tweets\n",
    "tweets_seen = set()\n",
    "\n",
    "\n",
    "# Fonction pour collecter des tweets\n",
    "def collect_tweets():\n",
    "    new_tweets_found = False \n",
    "    tweet_elements = driver.find_elements(By.XPATH, \"(//div[contains(@class, 'css-175oi2r r-1igl3o0 r-qklmqi r-1adg3ll r-1ny4l3l')])\")\n",
    "    for element in tweet_elements:\n",
    "        try:\n",
    "            username_recup = element.find_element(By.XPATH, \".//a[contains(@class, 'css-175oi2r r-1wbh5a2 r-dnmrzs r-1ny4l3l r-1loqt21')]\").text\n",
    "            date_recup = element.find_element(By.XPATH, \".//div[contains(@class, 'css-175oi2r r-18u37iz r-1q142lx')]\").text\n",
    "            content_recup = element.find_element(By.XPATH, \".//div[contains(@class, 'css-146c3p1 r-8akbws r-krxsd3 r-dnmrzs r-1udh08x r-bcqeeo r-1ttztb7 r-qvutc0 r-37j5jr r-a023e6 r-rjixqe r-16dba41 r-bnwqim')]\").text\n",
    "            stats_recup = element.find_elements(By.XPATH, \".//div[contains(@class, 'css-175oi2r r-xoduu5 r-1udh08x')]\")\n",
    "            comments_recup = stats_recup[0].text\n",
    "            repost_recup = stats_recup[1].text\n",
    "            likes_recup = stats_recup[2].text\n",
    "            views_recup = stats_recup[3].text\n",
    "            tweet_tuple = (username_recup, date_recup, content_recup)\n",
    "            \n",
    "            # Vérifier si le tweet a déjà été vu\n",
    "            if tweet_tuple not in tweets_seen:\n",
    "                tweets_seen.add(tweet_tuple) \n",
    "                usernames.append(username_recup)\n",
    "                dates.append(date_recup)\n",
    "                contents.append(content_recup)\n",
    "                comments.append(comments_recup)\n",
    "                repost.append(repost_recup)\n",
    "                likes.append(likes_recup)\n",
    "                views.append(views_recup)\n",
    "                new_tweets_found = True  # Détecter un nouveau tweet\n",
    "\n",
    "        except Exception as e:\n",
    "            continue\n",
    "    return new_tweets_found  # Retourne True si de nouveaux tweets ont été ajoutés\n",
    "\n",
    "\n",
    "# Boucle pour défiler et collecter jusqu'à obtenir 10 000 tweets\n",
    "max_no_new_tweets = 5  # Nombre maximal de tentatives sans nouveaux tweets avant de s'arrêter\n",
    "no_new_tweets_count = 0  # Compteur pour les tentatives sans nouveaux tweets\n",
    "\n",
    "while len(usernames) < 10000 and no_new_tweets_count < max_no_new_tweets:\n",
    "    if collect_tweets(): \n",
    "        no_new_tweets_count = 0  # Réinitialiser le compteur si des tweets ont été collectés\n",
    "    else:\n",
    "        no_new_tweets_count += 1  # Si aucun tweet n'est collecté, incrémenter le compteur\n",
    "\n",
    "    # Scrolling pour charger davantage de tweets si aucun nouveau tweet n'est trouvé\n",
    "    for _ in range(5):  # Défiler 5 fois\n",
    "        driver.execute_script(\"window.scrollBy(0, window.innerHeight);\")  # Défiler de la hauteur de la fenêtre\n",
    "        time.sleep(1)  # Attendre le chargement des nouveaux tweets        \n",
    "        # Récupérer des nouveaux tweets après chaque défilement\n",
    "        if collect_tweets():  # Si de nouveaux tweets sont trouvés après le défilement\n",
    "            no_new_tweets_count = 0  # Réinitialiser le compteur\n",
    "            break  # Sort de la boucle si de nouveaux tweets sont trouvés\n",
    "\n",
    "    if no_new_tweets_count >= max_no_new_tweets:  # Si le nombre de tentatives sans nouveaux tweets est trop élevé\n",
    "        print(\"Aucun nouveau tweet trouvé après plusieurs tentatives, arrêt.\")\n",
    "        break\n",
    "\n",
    "print(f\"Total des tweets récupérés : {len(usernames)}\")\n",
    "driver.quit()\n",
    "\n",
    "# Créer un DataFrame et enregistrer les données dans un fichier Excel\n",
    "data = {\n",
    "    'Username': usernames,\n",
    "    'Date': dates,\n",
    "    'Content': contents,\n",
    "    'Comments': comments,\n",
    "    'Repost': repost,\n",
    "    'Likes': likes,\n",
    "    'Views': views\n",
    "}\n",
    "\n",
    "df = pd.DataFrame(data)\n",
    "df.to_excel(\"tweets_leave.xlsx\", index=False)\n",
    "print(\"Fichier tweets_leave.xlsx créé avec succès.\")"
   ]
  },
  {
   "cell_type": "markdown",
   "metadata": {},
   "source": [
    "Nous exécutons le code plusieurs fois en changeant les mots clefs : **rajouter les mots clefs**:\n",
    "- quit twitter musk\n",
    "- leave or leaving toussa\n",
    "- remain blabla\n",
    "Nous allons garder plusieurs tables :\n",
    "- une table avec les mots clefs \"quit\" et \"leave\" : nous gardons ici de façon générale les personnes qui disent quitter Twitter\n",
    "- une table qui regroupe les personnes qui disent rester sur Twitter (mots clefs \"remain on\", \"still on\")\n",
    "- une table qui regroupe ces deux tables, qui réunit donc les personnes qui *s'expriment* sur le sujet, et qui se posent donc la question de rester ou non sur Twitter.\n",
    "\n",
    "Pour regrouper les tables, nous les ajoutons les unes aux autres, convertissons le tout dans un format date qui permet ensuite de trier et de réarranger la table dans le bon ordre temporel.\n",
    "\n",
    "Nous ajoutons à cela une phase de nettoyage de ces tables : les cases vides susceptibles d'apparaître dans les colonnes \"Likes\", \"Views\", etc... sont remplacées par des 0 (il n'y a eu en effet aucun like par exemple).\n",
    " **Nettoyer la table ? quelles dates on garde ? mettre des 0 là où y a des trous => mieux si philipa s'en charge?**. Nous avons ainsi en colonnes blablabla. **présenter une sortie du tableau excel ?**"
   ]
  },
  {
   "cell_type": "markdown",
   "metadata": {},
   "source": [
    "Ci-dessous nous présentons une sortie de notre table **mettre le nom de la table**"
   ]
  },
  {
   "cell_type": "code",
   "execution_count": 10,
   "metadata": {},
   "outputs": [
    {
     "data": {
      "text/html": [
       "<div>\n",
       "<style scoped>\n",
       "    .dataframe tbody tr th:only-of-type {\n",
       "        vertical-align: middle;\n",
       "    }\n",
       "\n",
       "    .dataframe tbody tr th {\n",
       "        vertical-align: top;\n",
       "    }\n",
       "\n",
       "    .dataframe thead th {\n",
       "        text-align: right;\n",
       "    }\n",
       "</style>\n",
       "<table border=\"1\" class=\"dataframe\">\n",
       "  <thead>\n",
       "    <tr style=\"text-align: right;\">\n",
       "      <th></th>\n",
       "      <th>Username</th>\n",
       "      <th>Date</th>\n",
       "      <th>Content</th>\n",
       "    </tr>\n",
       "  </thead>\n",
       "  <tbody>\n",
       "    <tr>\n",
       "      <th>0</th>\n",
       "      <td>HBHANTI Macron Verts Gauches Woke !</td>\n",
       "      <td>6m</td>\n",
       "      <td>Et dépenser moins en évitant sans cesse les taxes et impôts c'est possible aussi à Bordeaux sans cette écologie punitive ??</td>\n",
       "    </tr>\n",
       "    <tr>\n",
       "      <th>1</th>\n",
       "      <td>Titube</td>\n",
       "      <td>1h</td>\n",
       "      <td>Vous pourriez respecter le vote des électeurs américains. Les français ont voté Macron . On ne peut donc pas se permettre de donner des leçons de démocratie,  d'ecologie, de justice ou d'économie.</td>\n",
       "    </tr>\n",
       "    <tr>\n",
       "      <th>2</th>\n",
       "      <td>Lisa Sister</td>\n",
       "      <td>2h</td>\n",
       "      <td>Vous êtes en parfaite connexion avec Macron qui applaudit l'élection de Trump. C'est très affligeant mais cela confirme la personne politique que vous êtes. Mais bien entendu l'écologie que vous représentez n'est pas celle de la majorité des écologistes.\\nVive Marine Tondelier</td>\n",
       "    </tr>\n",
       "    <tr>\n",
       "      <th>3</th>\n",
       "      <td>Foudroyeur2Naine</td>\n",
       "      <td>6h</td>\n",
       "      <td>Je vais te faire un exemple pour ton petit cervelet (comme à l’école) : \\nMacron est climatosceptique (Ici Trump)\\nAntoine Armand (Ici Elon musk) ne l’est pas. Oui ? Donc ? \\nMinistre de l’économie quel est le rapport avec l’écologie ?</td>\n",
       "    </tr>\n",
       "    <tr>\n",
       "      <th>4</th>\n",
       "      <td>Nathalie BIHET</td>\n",
       "      <td>7h</td>\n",
       "      <td>Sache que je ne vote que lorsque le parti animaliste est représenté, je n'ai jamais voté Macron. Trump déteste l'écologie et les animaux, et étant végan j'ai beaucoup de mal avec lui tout comme avez Macron. Enfin bref chacun ses idées</td>\n",
       "    </tr>\n",
       "    <tr>\n",
       "      <th>5</th>\n",
       "      <td>Florence Regnier</td>\n",
       "      <td>8h</td>\n",
       "      <td>Non, pas de la montée. De sa présence au 2nd tour. et de ce fait de la réélection de Macron, pour lequel vous avez revoté. LFI n'a pas attendu les écolos pour faire de l'écologie.</td>\n",
       "    </tr>\n",
       "    <tr>\n",
       "      <th>6</th>\n",
       "      <td>Zodiaquue</td>\n",
       "      <td>10h</td>\n",
       "      <td>Qu'est ce que tu es con et haineux qvec ton mépris imminde. Tu as fait réélire Macron et tu nous parles de débilité, tu as jamais lu un programme de ta vie, tu fais tellement pitié.\\nSinon,l'écologie c'est une priorité pour Musk qui était bridé par le gouvernement Biden.</td>\n",
       "    </tr>\n",
       "    <tr>\n",
       "      <th>7</th>\n",
       "      <td>jeffe50</td>\n",
       "      <td>11h</td>\n",
       "      <td>Vivement 2027 qu’on dégage LFI et toutes la bande à Macron, avec leur putain d’écologie ils on détruit l’industrie européenne, mis la France en faillite, mais ils ont de la merde dans les yeux, mais ils croient toujours que l’avenir c’est eux</td>\n",
       "    </tr>\n",
       "    <tr>\n",
       "      <th>8</th>\n",
       "      <td>FreeGaet</td>\n",
       "      <td>12h</td>\n",
       "      <td>Oui.\\nFaut arrêter de croire que Macron est de droite.\\n\\nTrump veut retirer tous les droits aux migrants sauf celui de rentrer chez eux, il veut supprimer les subventions aux universités US gangrenées par le wokisme et n'a pas la moindre considération pour l'écologie.</td>\n",
       "    </tr>\n",
       "    <tr>\n",
       "      <th>9</th>\n",
       "      <td>Xedo</td>\n",
       "      <td>13h</td>\n",
       "      <td>Même si son passage a l’écologie n’est pas glorieux, elle ne porte pas en tant que ministre la déroute du nucléaire français, imputable AUSSI aux présidents de droite, Chirac Sarko, Hollande, politique de droite et Macron qui est incapable de corriger le tir..,</td>\n",
       "    </tr>\n",
       "    <tr>\n",
       "      <th>10</th>\n",
       "      <td>guff gu</td>\n",
       "      <td>14h</td>\n",
       "      <td>Les gauchos communistes en ont pris un coup. Fini l ecologie punitive. L Eu va être larguée par tous les pays, USA et Brics et va rester à se regarder le nombril avec Macron 1 et et son discours planétaire à Nore Dame</td>\n",
       "    </tr>\n",
       "    <tr>\n",
       "      <th>11</th>\n",
       "      <td>Bièrenger</td>\n",
       "      <td>14h</td>\n",
       "      <td>Compliqué de traiter les américains de demeurés quand on connaît un peuple qui a élu Macron 2x mais bon, tu sens qu'on va encore bien avancer niveau écologie et environnement, sans oublier le reste..</td>\n",
       "    </tr>\n",
       "    <tr>\n",
       "      <th>12</th>\n",
       "      <td>GeneDuc</td>\n",
       "      <td>15h</td>\n",
       "      <td>#Ecologie #Macron</td>\n",
       "    </tr>\n",
       "    <tr>\n",
       "      <th>13</th>\n",
       "      <td>Albert je déteste l'écologie politique</td>\n",
       "      <td>16h</td>\n",
       "      <td>Il semblerait qu'on paye l'électricité 2 fois plus cher en France qu'aux Usa. Bravo l'Europe, bravo Von der Leyen, bravo Macron et bravo les escrologistes!</td>\n",
       "    </tr>\n",
       "    <tr>\n",
       "      <th>14</th>\n",
       "      <td>macron_menteur</td>\n",
       "      <td>Nov 5</td>\n",
       "      <td>Mdr  bouffonne</td>\n",
       "    </tr>\n",
       "  </tbody>\n",
       "</table>\n",
       "</div>"
      ],
      "text/plain": [
       "                                  Username   Date                                                                                                                                                                                                                                                                                Content\n",
       "0      HBHANTI Macron Verts Gauches Woke !     6m                                                                                                                                                            Et dépenser moins en évitant sans cesse les taxes et impôts c'est possible aussi à Bordeaux sans cette écologie punitive ??\n",
       "1                                   Titube     1h                                                                                   Vous pourriez respecter le vote des électeurs américains. Les français ont voté Macron . On ne peut donc pas se permettre de donner des leçons de démocratie,  d'ecologie, de justice ou d'économie.\n",
       "2                              Lisa Sister     2h  Vous êtes en parfaite connexion avec Macron qui applaudit l'élection de Trump. C'est très affligeant mais cela confirme la personne politique que vous êtes. Mais bien entendu l'écologie que vous représentez n'est pas celle de la majorité des écologistes.\\nVive Marine Tondelier\n",
       "3                         Foudroyeur2Naine     6h                                            Je vais te faire un exemple pour ton petit cervelet (comme à l’école) : \\nMacron est climatosceptique (Ici Trump)\\nAntoine Armand (Ici Elon musk) ne l’est pas. Oui ? Donc ? \\nMinistre de l’économie quel est le rapport avec l’écologie ?\n",
       "4                           Nathalie BIHET     7h                                             Sache que je ne vote que lorsque le parti animaliste est représenté, je n'ai jamais voté Macron. Trump déteste l'écologie et les animaux, et étant végan j'ai beaucoup de mal avec lui tout comme avez Macron. Enfin bref chacun ses idées\n",
       "5                         Florence Regnier     8h                                                                                                    Non, pas de la montée. De sa présence au 2nd tour. et de ce fait de la réélection de Macron, pour lequel vous avez revoté. LFI n'a pas attendu les écolos pour faire de l'écologie.\n",
       "6                                Zodiaquue    10h        Qu'est ce que tu es con et haineux qvec ton mépris imminde. Tu as fait réélire Macron et tu nous parles de débilité, tu as jamais lu un programme de ta vie, tu fais tellement pitié.\\nSinon,l'écologie c'est une priorité pour Musk qui était bridé par le gouvernement Biden.\n",
       "7                                  jeffe50    11h                                    Vivement 2027 qu’on dégage LFI et toutes la bande à Macron, avec leur putain d’écologie ils on détruit l’industrie européenne, mis la France en faillite, mais ils ont de la merde dans les yeux, mais ils croient toujours que l’avenir c’est eux \n",
       "8                                 FreeGaet    12h          Oui.\\nFaut arrêter de croire que Macron est de droite.\\n\\nTrump veut retirer tous les droits aux migrants sauf celui de rentrer chez eux, il veut supprimer les subventions aux universités US gangrenées par le wokisme et n'a pas la moindre considération pour l'écologie.\n",
       "9                                     Xedo    13h                  Même si son passage a l’écologie n’est pas glorieux, elle ne porte pas en tant que ministre la déroute du nucléaire français, imputable AUSSI aux présidents de droite, Chirac Sarko, Hollande, politique de droite et Macron qui est incapable de corriger le tir..,\n",
       "10                                 guff gu    14h                                                              Les gauchos communistes en ont pris un coup. Fini l ecologie punitive. L Eu va être larguée par tous les pays, USA et Brics et va rester à se regarder le nombril avec Macron 1 et et son discours planétaire à Nore Dame\n",
       "11                               Bièrenger    14h                                                                                Compliqué de traiter les américains de demeurés quand on connaît un peuple qui a élu Macron 2x mais bon, tu sens qu'on va encore bien avancer niveau écologie et environnement, sans oublier le reste..\n",
       "12                                 GeneDuc    15h                                                                                                                                                                                                                                                                      #Ecologie #Macron\n",
       "13  Albert je déteste l'écologie politique    16h                                                                                                                            Il semblerait qu'on paye l'électricité 2 fois plus cher en France qu'aux Usa. Bravo l'Europe, bravo Von der Leyen, bravo Macron et bravo les escrologistes!\n",
       "14                          macron_menteur  Nov 5                                                                                                                                                                                                                                                                         Mdr  bouffonne"
      ]
     },
     "execution_count": 10,
     "metadata": {},
     "output_type": "execute_result"
    }
   ],
   "source": [
    "import pandas as pd\n",
    "\n",
    "# Modifier les paramètres pour afficher plus de contenu dans chaque cellule\n",
    "pd.set_option('display.max_colwidth', None)  # Affiche tout le contenu des colonnes\n",
    "pd.set_option('display.max_columns', None)  # Affiche toutes les colonnes\n",
    "pd.set_option('display.width', 1000)  # Ajuste la largeur totale de l'affichage\n",
    "\n",
    "# Charger et afficher le fichier Excel\n",
    "df = pd.read_excel('tweets_macron_ecologie.xlsx')\n",
    "df.head(15)\n"
   ]
  },
  {
   "cell_type": "markdown",
   "metadata": {},
   "source": [
    "Voilà à quoi ressemble notre sortie : l'étape d'après est le NLP."
   ]
  },
  {
   "cell_type": "markdown",
   "metadata": {},
   "source": [
    "## NLP"
   ]
  },
  {
   "cell_type": "markdown",
   "metadata": {},
   "source": [
    "## Visualisation\n",
    "Une fois la base de données nettoyée après avoir été obtenue par scrapping, l'objectif est de l'organiser et de créer les variables nécessaires à la création d'indices, eux-mêmes nécessaires à la réalisation de statistiques descriptives et d'analyses.\n",
    "\n",
    "### Rajout d'une colonne YearWeek\n",
    "Les dates que nous obtenons directement après avoir scrappé ne sont pas dans un format \"date\" qui simplifie les calculs. Nous utilisons donc le module *datetime* de Python, notamment la fonction *datetime.strptime* pour convertir une chaîne de caractères représentant une date ou une heure en un objet datetime. En effet, nous avons été particulièrement vigilants au fait que notre code devait faire en sorte d'assigner la bonne date aux dates apparaissant sous le format \"6mn\", \"1h\" : dans notre code, nous faisons en sorte de prendre en compte la date suivant la précédente. Ainsi, nous avons pu régler des problèmes de date d'exécution du code.\n",
    "Nous avons choisi d'analyser nos données en les groupant par semaine, ce qui permet d'avoir une analyse assez fine des tendances sans être trop exposés aux fluctuations journalières.\n",
    "\n",
    "Dans le code suivant, nous avons créé une nouvelle table avec un rajout de la colonne yearweek. \n"
   ]
  },
  {
   "cell_type": "markdown",
   "metadata": {},
   "source": [
    "code 0_rap_convertdate"
   ]
  },
  {
   "cell_type": "markdown",
   "metadata": {},
   "source": [
    "## Premiers graphiques\n",
    "Une fois ceci fait, nous pouvons sortir nos premiers graphiques :\n",
    "- d'abord le **nombre de tweets par semaine**, ce qui permet de relever certaines tendances\n",
    "- puis sur un autre graphique nous représentons le **nombre de likes, de retweets et de réponses par semaine** en **valeur absolue** puis en **valeur pondérée** par le nombre de tweets."
   ]
  },
  {
   "cell_type": "code",
   "execution_count": null,
   "metadata": {},
   "outputs": [],
   "source": [
    "code 1_rap_nbrtweets\n",
    "code 2_rap_nbrlikes"
   ]
  },
  {
   "cell_type": "markdown",
   "metadata": {},
   "source": [
    "CONCLUSION de ces premiers éléments"
   ]
  },
  {
   "cell_type": "markdown",
   "metadata": {},
   "source": [
    "\n",
    "- ensuite, nous avons décidé de **créer différents indices** pour aborder autrement les données. \n",
    "1. un taux d'engagement égal à la somme de likes, de retweets, de réponses le tout sur le nombre de vues, exprimé en pourcentages. Nous mettons en place un taux d'engagement par semaine. \n",
    "2. un taux de croissance des interactions : nous nous sommes ici restreints à la variation de likes d'une semaine à l'autre\n",
    "**PONDERER PAR LE NOMBRE DE TWEETS**"
   ]
  },
  {
   "cell_type": "code",
   "execution_count": null,
   "metadata": {},
   "outputs": [],
   "source": [
    "code 3_rap_indices"
   ]
  },
  {
   "cell_type": "markdown",
   "metadata": {},
   "source": [
    "Une fois ces indices créés, nous les représentons sur un même graphique :"
   ]
  },
  {
   "cell_type": "code",
   "execution_count": null,
   "metadata": {},
   "outputs": [],
   "source": [
    "4_graph_indices"
   ]
  }
 ],
 "metadata": {
  "kernelspec": {
   "display_name": "Python 3",
   "language": "python",
   "name": "python3"
  },
  "language_info": {
   "codemirror_mode": {
    "name": "ipython",
    "version": 3
   },
   "file_extension": ".py",
   "mimetype": "text/x-python",
   "name": "python",
   "nbconvert_exporter": "python",
   "pygments_lexer": "ipython3",
   "version": "3.12.0"
  }
 },
 "nbformat": 4,
 "nbformat_minor": 2
}
