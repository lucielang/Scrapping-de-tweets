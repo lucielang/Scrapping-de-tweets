{
 "cells": [
  {
   "cell_type": "code",
   "execution_count": 4,
   "metadata": {},
   "outputs": [],
   "source": [
    "import csv\n",
    "import pandas as pd"
   ]
  },
  {
   "cell_type": "code",
   "execution_count": 31,
   "metadata": {},
   "outputs": [
    {
     "ename": "ValueError",
     "evalue": "Il n'y a pas le même nombre de lignes dans les deux dataframes",
     "output_type": "error",
     "traceback": [
      "\u001b[0;31m---------------------------------------------------------------------------\u001b[0m",
      "\u001b[0;31mValueError\u001b[0m                                Traceback (most recent call last)",
      "Cell \u001b[0;32mIn[31], line 10\u001b[0m\n\u001b[1;32m      7\u001b[0m df_date \u001b[38;5;241m=\u001b[39m df_date\u001b[38;5;241m.\u001b[39mdrop(\u001b[38;5;124m'\u001b[39m\u001b[38;5;124mDate\u001b[39m\u001b[38;5;124m'\u001b[39m, axis\u001b[38;5;241m=\u001b[39m\u001b[38;5;241m1\u001b[39m)\n\u001b[1;32m      9\u001b[0m \u001b[38;5;28;01mif\u001b[39;00m \u001b[38;5;28mlen\u001b[39m(df_date) \u001b[38;5;241m!=\u001b[39m \u001b[38;5;28mlen\u001b[39m(df_nlp):\n\u001b[0;32m---> 10\u001b[0m     \u001b[38;5;28;01mraise\u001b[39;00m \u001b[38;5;167;01mValueError\u001b[39;00m(\u001b[38;5;124m\"\u001b[39m\u001b[38;5;124mIl n\u001b[39m\u001b[38;5;124m'\u001b[39m\u001b[38;5;124my a pas le même nombre de lignes dans les deux dataframes\u001b[39m\u001b[38;5;124m\"\u001b[39m)\n\u001b[1;32m     12\u001b[0m df_fusion \u001b[38;5;241m=\u001b[39m pd\u001b[38;5;241m.\u001b[39mconcat([df_date, df_nlp], axis\u001b[38;5;241m=\u001b[39m\u001b[38;5;241m1\u001b[39m)\n\u001b[1;32m     13\u001b[0m df_fusion\u001b[38;5;241m.\u001b[39mto_csv(\u001b[38;5;124m'\u001b[39m\u001b[38;5;124mtables_fusion.csv\u001b[39m\u001b[38;5;124m'\u001b[39m, index \u001b[38;5;241m=\u001b[39m \u001b[38;5;28;01mFalse\u001b[39;00m)\n",
      "\u001b[0;31mValueError\u001b[0m: Il n'y a pas le même nombre de lignes dans les deux dataframes"
     ]
    }
   ],
   "source": [
    "read_file = pd.read_excel(\"tweets_fusionnes.xlsx\")\n",
    "read_file.to_csv(\"tweets_fusionnes.csv\", index = None, header = True) #conversion Excel en CSV\n",
    "\n",
    "df_date = pd.read_csv(\"tweets_fusionnes.csv\")\n",
    "df_nlp = pd.read_csv(\"labeled_data_with_predictions.csv\")\n",
    "\n",
    "df_date = df_date.drop('Date', axis=1)\n",
    "\n",
    "if len(df_date) != len(df_nlp):\n",
    "    raise ValueError(\"Il n'y a pas le même nombre de lignes dans les deux dataframes\")\n",
    "\n",
    "df_fusion = pd.concat([df_date, df_nlp], axis=1)\n",
    "df_fusion.to_csv('tables_fusion.csv', index = False)\n",
    "\n",
    "print(df_fusion.head())\n"
   ]
  }
 ],
 "metadata": {
  "kernelspec": {
   "display_name": "base",
   "language": "python",
   "name": "python3"
  },
  "language_info": {
   "codemirror_mode": {
    "name": "ipython",
    "version": 3
   },
   "file_extension": ".py",
   "mimetype": "text/x-python",
   "name": "python",
   "nbconvert_exporter": "python",
   "pygments_lexer": "ipython3",
   "version": "3.12.7"
  }
 },
 "nbformat": 4,
 "nbformat_minor": 2
}
