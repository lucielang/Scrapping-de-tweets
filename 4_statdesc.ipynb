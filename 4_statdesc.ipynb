{
 "cells": [
  {
   "cell_type": "markdown",
   "metadata": {},
   "source": [
    "# Statistiques descriptives \n",
    "\n",
    "En première analyse, nous avons voulu regarder les évolutions de plusieurs paramètres pour en apprendre davantage sur notre base de données. \n",
    "Ainsi, dans le reste du Notebook, on trouvera les informations suivantes :\n",
    "- nous avons compté le nombre de tweets par semaine, dont les évolutions sont effectivement représentatives de ce qui s'est factuellement passé en 2024 ;\n",
    "- ensuite nous avons représenté le nombre et les évolutions des interactions, au total et en moyenne : nous avons pu voir qu'à certaines périodes, certains types de réaction étaient privilégiés et d'autres non, et que cela pouvait varier. Nous avons ainsi été amenés à appréhender différentes échelles temporelles pour tenter de l'expliquer au mieux;\n",
    "- enfin, pour compléter ces statistiques, nous avons calculé le taux d'engagement et observé ses évolutions."
   ]
  },
  {
   "cell_type": "code",
   "execution_count": 7,
   "metadata": {},
   "outputs": [
    {
     "name": "stdout",
     "output_type": "stream",
     "text": [
      "Requirement already satisfied: pandas in /opt/conda/lib/python3.12/site-packages (2.2.3)\n",
      "Requirement already satisfied: numpy>=1.26.0 in /opt/conda/lib/python3.12/site-packages (from pandas) (2.2.0)\n",
      "Requirement already satisfied: python-dateutil>=2.8.2 in /opt/conda/lib/python3.12/site-packages (from pandas) (2.9.0.post0)\n",
      "Requirement already satisfied: pytz>=2020.1 in /opt/conda/lib/python3.12/site-packages (from pandas) (2024.1)\n",
      "Requirement already satisfied: tzdata>=2022.7 in /opt/conda/lib/python3.12/site-packages (from pandas) (2024.2)\n",
      "Requirement already satisfied: six>=1.5 in /opt/conda/lib/python3.12/site-packages (from python-dateutil>=2.8.2->pandas) (1.17.0)\n",
      "Requirement already satisfied: matplotlib in /opt/conda/lib/python3.12/site-packages (3.9.4)\n",
      "Requirement already satisfied: contourpy>=1.0.1 in /opt/conda/lib/python3.12/site-packages (from matplotlib) (1.3.1)\n",
      "Requirement already satisfied: cycler>=0.10 in /opt/conda/lib/python3.12/site-packages (from matplotlib) (0.12.1)\n",
      "Requirement already satisfied: fonttools>=4.22.0 in /opt/conda/lib/python3.12/site-packages (from matplotlib) (4.55.3)\n",
      "Requirement already satisfied: kiwisolver>=1.3.1 in /opt/conda/lib/python3.12/site-packages (from matplotlib) (1.4.7)\n",
      "Requirement already satisfied: numpy>=1.23 in /opt/conda/lib/python3.12/site-packages (from matplotlib) (2.2.0)\n",
      "Requirement already satisfied: packaging>=20.0 in /opt/conda/lib/python3.12/site-packages (from matplotlib) (24.2)\n",
      "Requirement already satisfied: pillow>=8 in /opt/conda/lib/python3.12/site-packages (from matplotlib) (11.0.0)\n",
      "Requirement already satisfied: pyparsing>=2.3.1 in /opt/conda/lib/python3.12/site-packages (from matplotlib) (3.2.0)\n",
      "Requirement already satisfied: python-dateutil>=2.7 in /opt/conda/lib/python3.12/site-packages (from matplotlib) (2.9.0.post0)\n",
      "Requirement already satisfied: six>=1.5 in /opt/conda/lib/python3.12/site-packages (from python-dateutil>=2.7->matplotlib) (1.17.0)\n",
      "Requirement already satisfied: numpy in /opt/conda/lib/python3.12/site-packages (2.2.0)\n",
      "Requirement already satisfied: seaborn in /opt/conda/lib/python3.12/site-packages (0.13.2)\n",
      "Requirement already satisfied: numpy!=1.24.0,>=1.20 in /opt/conda/lib/python3.12/site-packages (from seaborn) (2.2.0)\n",
      "Requirement already satisfied: pandas>=1.2 in /opt/conda/lib/python3.12/site-packages (from seaborn) (2.2.3)\n",
      "Requirement already satisfied: matplotlib!=3.6.1,>=3.4 in /opt/conda/lib/python3.12/site-packages (from seaborn) (3.9.4)\n",
      "Requirement already satisfied: contourpy>=1.0.1 in /opt/conda/lib/python3.12/site-packages (from matplotlib!=3.6.1,>=3.4->seaborn) (1.3.1)\n",
      "Requirement already satisfied: cycler>=0.10 in /opt/conda/lib/python3.12/site-packages (from matplotlib!=3.6.1,>=3.4->seaborn) (0.12.1)\n",
      "Requirement already satisfied: fonttools>=4.22.0 in /opt/conda/lib/python3.12/site-packages (from matplotlib!=3.6.1,>=3.4->seaborn) (4.55.3)\n",
      "Requirement already satisfied: kiwisolver>=1.3.1 in /opt/conda/lib/python3.12/site-packages (from matplotlib!=3.6.1,>=3.4->seaborn) (1.4.7)\n",
      "Requirement already satisfied: packaging>=20.0 in /opt/conda/lib/python3.12/site-packages (from matplotlib!=3.6.1,>=3.4->seaborn) (24.2)\n",
      "Requirement already satisfied: pillow>=8 in /opt/conda/lib/python3.12/site-packages (from matplotlib!=3.6.1,>=3.4->seaborn) (11.0.0)\n",
      "Requirement already satisfied: pyparsing>=2.3.1 in /opt/conda/lib/python3.12/site-packages (from matplotlib!=3.6.1,>=3.4->seaborn) (3.2.0)\n",
      "Requirement already satisfied: python-dateutil>=2.7 in /opt/conda/lib/python3.12/site-packages (from matplotlib!=3.6.1,>=3.4->seaborn) (2.9.0.post0)\n",
      "Requirement already satisfied: pytz>=2020.1 in /opt/conda/lib/python3.12/site-packages (from pandas>=1.2->seaborn) (2024.1)\n",
      "Requirement already satisfied: tzdata>=2022.7 in /opt/conda/lib/python3.12/site-packages (from pandas>=1.2->seaborn) (2024.2)\n",
      "Requirement already satisfied: six>=1.5 in /opt/conda/lib/python3.12/site-packages (from python-dateutil>=2.7->matplotlib!=3.6.1,>=3.4->seaborn) (1.17.0)\n",
      "Requirement already satisfied: plotly in /opt/conda/lib/python3.12/site-packages (5.24.1)\n",
      "Requirement already satisfied: tenacity>=6.2.0 in /opt/conda/lib/python3.12/site-packages (from plotly) (9.0.0)\n",
      "Requirement already satisfied: packaging in /opt/conda/lib/python3.12/site-packages (from plotly) (24.2)\n",
      "Requirement already satisfied: display in /opt/conda/lib/python3.12/site-packages (1.0.0)\n"
     ]
    },
    {
     "name": "stdout",
     "output_type": "stream",
     "text": [
      "Requirement already satisfied: openpyxl in /opt/conda/lib/python3.12/site-packages (3.1.5)\n",
      "Requirement already satisfied: et-xmlfile in /opt/conda/lib/python3.12/site-packages (from openpyxl) (2.0.0)\n",
      "Requirement already satisfied: nbformat in /opt/conda/lib/python3.12/site-packages (5.10.4)\n",
      "Requirement already satisfied: fastjsonschema>=2.15 in /opt/conda/lib/python3.12/site-packages (from nbformat) (2.21.1)\n",
      "Requirement already satisfied: jsonschema>=2.6 in /opt/conda/lib/python3.12/site-packages (from nbformat) (4.23.0)\n",
      "Requirement already satisfied: jupyter-core!=5.0.*,>=4.12 in /opt/conda/lib/python3.12/site-packages (from nbformat) (5.7.2)\n",
      "Requirement already satisfied: traitlets>=5.1 in /opt/conda/lib/python3.12/site-packages (from nbformat) (5.14.3)\n",
      "Requirement already satisfied: attrs>=22.2.0 in /opt/conda/lib/python3.12/site-packages (from jsonschema>=2.6->nbformat) (24.2.0)\n",
      "Requirement already satisfied: jsonschema-specifications>=2023.03.6 in /opt/conda/lib/python3.12/site-packages (from jsonschema>=2.6->nbformat) (2024.10.1)\n",
      "Requirement already satisfied: referencing>=0.28.4 in /opt/conda/lib/python3.12/site-packages (from jsonschema>=2.6->nbformat) (0.35.1)\n",
      "Requirement already satisfied: rpds-py>=0.7.1 in /opt/conda/lib/python3.12/site-packages (from jsonschema>=2.6->nbformat) (0.22.3)\n",
      "Requirement already satisfied: platformdirs>=2.5 in /opt/conda/lib/python3.12/site-packages (from jupyter-core!=5.0.*,>=4.12->nbformat) (4.3.6)\n"
     ]
    }
   ],
   "source": [
    "!pip install pandas\n",
    "!pip install matplotlib\n",
    "!pip install numpy\n",
    "!pip install seaborn\n",
    "!pip install plotly\n",
    "!pip install display\n",
    "!pip install openpyxl\n",
    "!pip install nbformat"
   ]
  },
  {
   "cell_type": "code",
   "execution_count": null,
   "metadata": {},
   "outputs": [],
   "source": [
    "import pandas as pd\n",
    "import plotly.graph_objects as go\n",
    "import plotly.io as pio\n",
    "import plotly.express as px\n",
    "import seaborn as sns\n",
    "import matplotlib.pyplot as plt\n",
    "\n",
    "# Charger les données\n",
    "df = pd.read_excel('/home/onyxia/work/Scrapping_tweets/Scrapping_tweets/data_fin/tweets_fusionnes.xlsx')\n",
    "dfmois = pd.read_excel('/home/onyxia/work/Scrapping_tweets/Scrapping_tweets/data_fin/tweets_fusionnes.xlsx')"
   ]
  },
  {
   "cell_type": "markdown",
   "metadata": {},
   "source": [
    "## 1. Nombre de tweets par semaine\n",
    "\n",
    "On commence par représenter l'évolution du nombre de tweets par semaine, ce que nous effectuons avec plotly :"
   ]
  },
  {
   "cell_type": "code",
   "execution_count": 5,
   "metadata": {},
   "outputs": [
    {
     "data": {
      "application/vnd.plotly.v1+json": {
       "config": {
        "plotlyServerURL": "https://plot.ly"
       },
       "data": [
        {
         "line": {
          "color": "royalblue",
          "width": 2
         },
         "marker": {
          "color": "blue",
          "size": 8,
          "symbol": "star"
         },
         "mode": "lines+markers",
         "name": "Nombre de tweets",
         "type": "scatter",
         "x": [
          "2024-01-01T00:00:00",
          "2024-01-08T00:00:00",
          "2024-01-15T00:00:00",
          "2024-01-22T00:00:00",
          "2024-01-29T00:00:00",
          "2024-02-05T00:00:00",
          "2024-02-12T00:00:00",
          "2024-02-19T00:00:00",
          "2024-02-26T00:00:00",
          "2024-03-04T00:00:00",
          "2024-03-11T00:00:00",
          "2024-03-18T00:00:00",
          "2024-03-25T00:00:00",
          "2024-04-01T00:00:00",
          "2024-04-08T00:00:00",
          "2024-04-15T00:00:00",
          "2024-04-22T00:00:00",
          "2024-04-29T00:00:00",
          "2024-05-06T00:00:00",
          "2024-05-13T00:00:00",
          "2024-05-20T00:00:00",
          "2024-05-27T00:00:00",
          "2024-06-03T00:00:00",
          "2024-06-10T00:00:00",
          "2024-06-17T00:00:00",
          "2024-06-24T00:00:00",
          "2024-07-01T00:00:00",
          "2024-07-08T00:00:00",
          "2024-07-15T00:00:00",
          "2024-07-22T00:00:00",
          "2024-07-29T00:00:00",
          "2024-08-05T00:00:00",
          "2024-08-12T00:00:00",
          "2024-08-19T00:00:00",
          "2024-08-26T00:00:00",
          "2024-09-02T00:00:00",
          "2024-09-09T00:00:00",
          "2024-09-16T00:00:00",
          "2024-09-23T00:00:00",
          "2024-09-30T00:00:00",
          "2024-10-07T00:00:00",
          "2024-10-14T00:00:00",
          "2024-10-21T00:00:00",
          "2024-10-28T00:00:00",
          "2024-11-04T00:00:00",
          "2024-11-11T00:00:00",
          "2024-11-18T00:00:00",
          "2024-11-25T00:00:00"
         ],
         "y": [
          148,
          150,
          113,
          115,
          85,
          125,
          109,
          112,
          120,
          143,
          130,
          131,
          143,
          115,
          108,
          106,
          140,
          155,
          137,
          92,
          112,
          102,
          111,
          148,
          117,
          74,
          70,
          94,
          215,
          186,
          246,
          636,
          772,
          343,
          295,
          413,
          279,
          252,
          252,
          166,
          306,
          499,
          457,
          245,
          942,
          2293,
          1044,
          565
         ]
        }
       ],
       "layout": {
        "height": 600,
        "hovermode": "x unified",
        "legend": {
         "bgcolor": "rgba(255,255,255,0.7)",
         "bordercolor": "black",
         "borderwidth": 1,
         "title": {
          "text": "Type d'Interaction"
         },
         "x": 0.01,
         "y": 0.99
        },
        "margin": {
         "b": 50,
         "l": 50,
         "r": 50,
         "t": 50
        },
        "plot_bgcolor": "white",
        "template": {
         "data": {
          "bar": [
           {
            "error_x": {
             "color": "#2a3f5f"
            },
            "error_y": {
             "color": "#2a3f5f"
            },
            "marker": {
             "line": {
              "color": "white",
              "width": 0.5
             },
             "pattern": {
              "fillmode": "overlay",
              "size": 10,
              "solidity": 0.2
             }
            },
            "type": "bar"
           }
          ],
          "barpolar": [
           {
            "marker": {
             "line": {
              "color": "white",
              "width": 0.5
             },
             "pattern": {
              "fillmode": "overlay",
              "size": 10,
              "solidity": 0.2
             }
            },
            "type": "barpolar"
           }
          ],
          "carpet": [
           {
            "aaxis": {
             "endlinecolor": "#2a3f5f",
             "gridcolor": "#C8D4E3",
             "linecolor": "#C8D4E3",
             "minorgridcolor": "#C8D4E3",
             "startlinecolor": "#2a3f5f"
            },
            "baxis": {
             "endlinecolor": "#2a3f5f",
             "gridcolor": "#C8D4E3",
             "linecolor": "#C8D4E3",
             "minorgridcolor": "#C8D4E3",
             "startlinecolor": "#2a3f5f"
            },
            "type": "carpet"
           }
          ],
          "choropleth": [
           {
            "colorbar": {
             "outlinewidth": 0,
             "ticks": ""
            },
            "type": "choropleth"
           }
          ],
          "contour": [
           {
            "colorbar": {
             "outlinewidth": 0,
             "ticks": ""
            },
            "colorscale": [
             [
              0,
              "#0d0887"
             ],
             [
              0.1111111111111111,
              "#46039f"
             ],
             [
              0.2222222222222222,
              "#7201a8"
             ],
             [
              0.3333333333333333,
              "#9c179e"
             ],
             [
              0.4444444444444444,
              "#bd3786"
             ],
             [
              0.5555555555555556,
              "#d8576b"
             ],
             [
              0.6666666666666666,
              "#ed7953"
             ],
             [
              0.7777777777777778,
              "#fb9f3a"
             ],
             [
              0.8888888888888888,
              "#fdca26"
             ],
             [
              1,
              "#f0f921"
             ]
            ],
            "type": "contour"
           }
          ],
          "contourcarpet": [
           {
            "colorbar": {
             "outlinewidth": 0,
             "ticks": ""
            },
            "type": "contourcarpet"
           }
          ],
          "heatmap": [
           {
            "colorbar": {
             "outlinewidth": 0,
             "ticks": ""
            },
            "colorscale": [
             [
              0,
              "#0d0887"
             ],
             [
              0.1111111111111111,
              "#46039f"
             ],
             [
              0.2222222222222222,
              "#7201a8"
             ],
             [
              0.3333333333333333,
              "#9c179e"
             ],
             [
              0.4444444444444444,
              "#bd3786"
             ],
             [
              0.5555555555555556,
              "#d8576b"
             ],
             [
              0.6666666666666666,
              "#ed7953"
             ],
             [
              0.7777777777777778,
              "#fb9f3a"
             ],
             [
              0.8888888888888888,
              "#fdca26"
             ],
             [
              1,
              "#f0f921"
             ]
            ],
            "type": "heatmap"
           }
          ],
          "heatmapgl": [
           {
            "colorbar": {
             "outlinewidth": 0,
             "ticks": ""
            },
            "colorscale": [
             [
              0,
              "#0d0887"
             ],
             [
              0.1111111111111111,
              "#46039f"
             ],
             [
              0.2222222222222222,
              "#7201a8"
             ],
             [
              0.3333333333333333,
              "#9c179e"
             ],
             [
              0.4444444444444444,
              "#bd3786"
             ],
             [
              0.5555555555555556,
              "#d8576b"
             ],
             [
              0.6666666666666666,
              "#ed7953"
             ],
             [
              0.7777777777777778,
              "#fb9f3a"
             ],
             [
              0.8888888888888888,
              "#fdca26"
             ],
             [
              1,
              "#f0f921"
             ]
            ],
            "type": "heatmapgl"
           }
          ],
          "histogram": [
           {
            "marker": {
             "pattern": {
              "fillmode": "overlay",
              "size": 10,
              "solidity": 0.2
             }
            },
            "type": "histogram"
           }
          ],
          "histogram2d": [
           {
            "colorbar": {
             "outlinewidth": 0,
             "ticks": ""
            },
            "colorscale": [
             [
              0,
              "#0d0887"
             ],
             [
              0.1111111111111111,
              "#46039f"
             ],
             [
              0.2222222222222222,
              "#7201a8"
             ],
             [
              0.3333333333333333,
              "#9c179e"
             ],
             [
              0.4444444444444444,
              "#bd3786"
             ],
             [
              0.5555555555555556,
              "#d8576b"
             ],
             [
              0.6666666666666666,
              "#ed7953"
             ],
             [
              0.7777777777777778,
              "#fb9f3a"
             ],
             [
              0.8888888888888888,
              "#fdca26"
             ],
             [
              1,
              "#f0f921"
             ]
            ],
            "type": "histogram2d"
           }
          ],
          "histogram2dcontour": [
           {
            "colorbar": {
             "outlinewidth": 0,
             "ticks": ""
            },
            "colorscale": [
             [
              0,
              "#0d0887"
             ],
             [
              0.1111111111111111,
              "#46039f"
             ],
             [
              0.2222222222222222,
              "#7201a8"
             ],
             [
              0.3333333333333333,
              "#9c179e"
             ],
             [
              0.4444444444444444,
              "#bd3786"
             ],
             [
              0.5555555555555556,
              "#d8576b"
             ],
             [
              0.6666666666666666,
              "#ed7953"
             ],
             [
              0.7777777777777778,
              "#fb9f3a"
             ],
             [
              0.8888888888888888,
              "#fdca26"
             ],
             [
              1,
              "#f0f921"
             ]
            ],
            "type": "histogram2dcontour"
           }
          ],
          "mesh3d": [
           {
            "colorbar": {
             "outlinewidth": 0,
             "ticks": ""
            },
            "type": "mesh3d"
           }
          ],
          "parcoords": [
           {
            "line": {
             "colorbar": {
              "outlinewidth": 0,
              "ticks": ""
             }
            },
            "type": "parcoords"
           }
          ],
          "pie": [
           {
            "automargin": true,
            "type": "pie"
           }
          ],
          "scatter": [
           {
            "fillpattern": {
             "fillmode": "overlay",
             "size": 10,
             "solidity": 0.2
            },
            "type": "scatter"
           }
          ],
          "scatter3d": [
           {
            "line": {
             "colorbar": {
              "outlinewidth": 0,
              "ticks": ""
             }
            },
            "marker": {
             "colorbar": {
              "outlinewidth": 0,
              "ticks": ""
             }
            },
            "type": "scatter3d"
           }
          ],
          "scattercarpet": [
           {
            "marker": {
             "colorbar": {
              "outlinewidth": 0,
              "ticks": ""
             }
            },
            "type": "scattercarpet"
           }
          ],
          "scattergeo": [
           {
            "marker": {
             "colorbar": {
              "outlinewidth": 0,
              "ticks": ""
             }
            },
            "type": "scattergeo"
           }
          ],
          "scattergl": [
           {
            "marker": {
             "colorbar": {
              "outlinewidth": 0,
              "ticks": ""
             }
            },
            "type": "scattergl"
           }
          ],
          "scattermapbox": [
           {
            "marker": {
             "colorbar": {
              "outlinewidth": 0,
              "ticks": ""
             }
            },
            "type": "scattermapbox"
           }
          ],
          "scatterpolar": [
           {
            "marker": {
             "colorbar": {
              "outlinewidth": 0,
              "ticks": ""
             }
            },
            "type": "scatterpolar"
           }
          ],
          "scatterpolargl": [
           {
            "marker": {
             "colorbar": {
              "outlinewidth": 0,
              "ticks": ""
             }
            },
            "type": "scatterpolargl"
           }
          ],
          "scatterternary": [
           {
            "marker": {
             "colorbar": {
              "outlinewidth": 0,
              "ticks": ""
             }
            },
            "type": "scatterternary"
           }
          ],
          "surface": [
           {
            "colorbar": {
             "outlinewidth": 0,
             "ticks": ""
            },
            "colorscale": [
             [
              0,
              "#0d0887"
             ],
             [
              0.1111111111111111,
              "#46039f"
             ],
             [
              0.2222222222222222,
              "#7201a8"
             ],
             [
              0.3333333333333333,
              "#9c179e"
             ],
             [
              0.4444444444444444,
              "#bd3786"
             ],
             [
              0.5555555555555556,
              "#d8576b"
             ],
             [
              0.6666666666666666,
              "#ed7953"
             ],
             [
              0.7777777777777778,
              "#fb9f3a"
             ],
             [
              0.8888888888888888,
              "#fdca26"
             ],
             [
              1,
              "#f0f921"
             ]
            ],
            "type": "surface"
           }
          ],
          "table": [
           {
            "cells": {
             "fill": {
              "color": "#EBF0F8"
             },
             "line": {
              "color": "white"
             }
            },
            "header": {
             "fill": {
              "color": "#C8D4E3"
             },
             "line": {
              "color": "white"
             }
            },
            "type": "table"
           }
          ]
         },
         "layout": {
          "annotationdefaults": {
           "arrowcolor": "#2a3f5f",
           "arrowhead": 0,
           "arrowwidth": 1
          },
          "autotypenumbers": "strict",
          "coloraxis": {
           "colorbar": {
            "outlinewidth": 0,
            "ticks": ""
           }
          },
          "colorscale": {
           "diverging": [
            [
             0,
             "#8e0152"
            ],
            [
             0.1,
             "#c51b7d"
            ],
            [
             0.2,
             "#de77ae"
            ],
            [
             0.3,
             "#f1b6da"
            ],
            [
             0.4,
             "#fde0ef"
            ],
            [
             0.5,
             "#f7f7f7"
            ],
            [
             0.6,
             "#e6f5d0"
            ],
            [
             0.7,
             "#b8e186"
            ],
            [
             0.8,
             "#7fbc41"
            ],
            [
             0.9,
             "#4d9221"
            ],
            [
             1,
             "#276419"
            ]
           ],
           "sequential": [
            [
             0,
             "#0d0887"
            ],
            [
             0.1111111111111111,
             "#46039f"
            ],
            [
             0.2222222222222222,
             "#7201a8"
            ],
            [
             0.3333333333333333,
             "#9c179e"
            ],
            [
             0.4444444444444444,
             "#bd3786"
            ],
            [
             0.5555555555555556,
             "#d8576b"
            ],
            [
             0.6666666666666666,
             "#ed7953"
            ],
            [
             0.7777777777777778,
             "#fb9f3a"
            ],
            [
             0.8888888888888888,
             "#fdca26"
            ],
            [
             1,
             "#f0f921"
            ]
           ],
           "sequentialminus": [
            [
             0,
             "#0d0887"
            ],
            [
             0.1111111111111111,
             "#46039f"
            ],
            [
             0.2222222222222222,
             "#7201a8"
            ],
            [
             0.3333333333333333,
             "#9c179e"
            ],
            [
             0.4444444444444444,
             "#bd3786"
            ],
            [
             0.5555555555555556,
             "#d8576b"
            ],
            [
             0.6666666666666666,
             "#ed7953"
            ],
            [
             0.7777777777777778,
             "#fb9f3a"
            ],
            [
             0.8888888888888888,
             "#fdca26"
            ],
            [
             1,
             "#f0f921"
            ]
           ]
          },
          "colorway": [
           "#636efa",
           "#EF553B",
           "#00cc96",
           "#ab63fa",
           "#FFA15A",
           "#19d3f3",
           "#FF6692",
           "#B6E880",
           "#FF97FF",
           "#FECB52"
          ],
          "font": {
           "color": "#2a3f5f"
          },
          "geo": {
           "bgcolor": "white",
           "lakecolor": "white",
           "landcolor": "white",
           "showlakes": true,
           "showland": true,
           "subunitcolor": "#C8D4E3"
          },
          "hoverlabel": {
           "align": "left"
          },
          "hovermode": "closest",
          "mapbox": {
           "style": "light"
          },
          "paper_bgcolor": "white",
          "plot_bgcolor": "white",
          "polar": {
           "angularaxis": {
            "gridcolor": "#EBF0F8",
            "linecolor": "#EBF0F8",
            "ticks": ""
           },
           "bgcolor": "white",
           "radialaxis": {
            "gridcolor": "#EBF0F8",
            "linecolor": "#EBF0F8",
            "ticks": ""
           }
          },
          "scene": {
           "xaxis": {
            "backgroundcolor": "white",
            "gridcolor": "#DFE8F3",
            "gridwidth": 2,
            "linecolor": "#EBF0F8",
            "showbackground": true,
            "ticks": "",
            "zerolinecolor": "#EBF0F8"
           },
           "yaxis": {
            "backgroundcolor": "white",
            "gridcolor": "#DFE8F3",
            "gridwidth": 2,
            "linecolor": "#EBF0F8",
            "showbackground": true,
            "ticks": "",
            "zerolinecolor": "#EBF0F8"
           },
           "zaxis": {
            "backgroundcolor": "white",
            "gridcolor": "#DFE8F3",
            "gridwidth": 2,
            "linecolor": "#EBF0F8",
            "showbackground": true,
            "ticks": "",
            "zerolinecolor": "#EBF0F8"
           }
          },
          "shapedefaults": {
           "line": {
            "color": "#2a3f5f"
           }
          },
          "ternary": {
           "aaxis": {
            "gridcolor": "#DFE8F3",
            "linecolor": "#A2B1C6",
            "ticks": ""
           },
           "baxis": {
            "gridcolor": "#DFE8F3",
            "linecolor": "#A2B1C6",
            "ticks": ""
           },
           "bgcolor": "white",
           "caxis": {
            "gridcolor": "#DFE8F3",
            "linecolor": "#A2B1C6",
            "ticks": ""
           }
          },
          "title": {
           "x": 0.05
          },
          "xaxis": {
           "automargin": true,
           "gridcolor": "#EBF0F8",
           "linecolor": "#EBF0F8",
           "ticks": "",
           "title": {
            "standoff": 15
           },
           "zerolinecolor": "#EBF0F8",
           "zerolinewidth": 2
          },
          "yaxis": {
           "automargin": true,
           "gridcolor": "#EBF0F8",
           "linecolor": "#EBF0F8",
           "ticks": "",
           "title": {
            "standoff": 15
           },
           "zerolinecolor": "#EBF0F8",
           "zerolinewidth": 2
          }
         }
        },
        "title": {
         "text": "Nombre de tweets par semaine"
        },
        "width": 1100,
        "xaxis": {
         "linecolor": "gray",
         "linewidth": 2,
         "showline": true,
         "tickangle": -45,
         "tickformat": "%b %d",
         "ticktext": [
          "Jan 01",
          "Jan 08",
          "Jan 15",
          "Jan 22",
          "Jan 29",
          "Feb 05",
          "Feb 12",
          "Feb 19",
          "Feb 26",
          "Mar 04",
          "Mar 11",
          "Mar 18",
          "Mar 25",
          "Apr 01",
          "Apr 08",
          "Apr 15",
          "Apr 22",
          "Apr 29",
          "May 06",
          "May 13",
          "May 20",
          "May 27",
          "Jun 03",
          "Jun 10",
          "Jun 17",
          "Jun 24",
          "Jul 01",
          "Jul 08",
          "Jul 15",
          "Jul 22",
          "Jul 29",
          "Aug 05",
          "Aug 12",
          "Aug 19",
          "Aug 26",
          "Sep 02",
          "Sep 09",
          "Sep 16",
          "Sep 23",
          "Sep 30",
          "Oct 07",
          "Oct 14",
          "Oct 21",
          "Oct 28",
          "Nov 04",
          "Nov 11",
          "Nov 18",
          "Nov 25"
         ],
         "tickvals": [
          "2024-01-01T00:00:00",
          "2024-01-08T00:00:00",
          "2024-01-15T00:00:00",
          "2024-01-22T00:00:00",
          "2024-01-29T00:00:00",
          "2024-02-05T00:00:00",
          "2024-02-12T00:00:00",
          "2024-02-19T00:00:00",
          "2024-02-26T00:00:00",
          "2024-03-04T00:00:00",
          "2024-03-11T00:00:00",
          "2024-03-18T00:00:00",
          "2024-03-25T00:00:00",
          "2024-04-01T00:00:00",
          "2024-04-08T00:00:00",
          "2024-04-15T00:00:00",
          "2024-04-22T00:00:00",
          "2024-04-29T00:00:00",
          "2024-05-06T00:00:00",
          "2024-05-13T00:00:00",
          "2024-05-20T00:00:00",
          "2024-05-27T00:00:00",
          "2024-06-03T00:00:00",
          "2024-06-10T00:00:00",
          "2024-06-17T00:00:00",
          "2024-06-24T00:00:00",
          "2024-07-01T00:00:00",
          "2024-07-08T00:00:00",
          "2024-07-15T00:00:00",
          "2024-07-22T00:00:00",
          "2024-07-29T00:00:00",
          "2024-08-05T00:00:00",
          "2024-08-12T00:00:00",
          "2024-08-19T00:00:00",
          "2024-08-26T00:00:00",
          "2024-09-02T00:00:00",
          "2024-09-09T00:00:00",
          "2024-09-16T00:00:00",
          "2024-09-23T00:00:00",
          "2024-09-30T00:00:00",
          "2024-10-07T00:00:00",
          "2024-10-14T00:00:00",
          "2024-10-21T00:00:00",
          "2024-10-28T00:00:00",
          "2024-11-04T00:00:00",
          "2024-11-11T00:00:00",
          "2024-11-18T00:00:00",
          "2024-11-25T00:00:00"
         ],
         "title": {
          "text": "Semaines de 2024"
         }
        },
        "yaxis": {
         "linecolor": "gray",
         "linewidth": 2,
         "showline": true,
         "title": {
          "text": "Nombre de tweets"
         }
        }
       }
      },
      "text/html": [
       "<div>                            <div id=\"53ccee4c-6dbe-46a6-aa9d-65ce543d1ab8\" class=\"plotly-graph-div\" style=\"height:600px; width:1100px;\"></div>            <script type=\"text/javascript\">                require([\"plotly\"], function(Plotly) {                    window.PLOTLYENV=window.PLOTLYENV || {};                                    if (document.getElementById(\"53ccee4c-6dbe-46a6-aa9d-65ce543d1ab8\")) {                    Plotly.newPlot(                        \"53ccee4c-6dbe-46a6-aa9d-65ce543d1ab8\",                        [{\"line\":{\"color\":\"royalblue\",\"width\":2},\"marker\":{\"color\":\"blue\",\"size\":8,\"symbol\":\"star\"},\"mode\":\"lines+markers\",\"name\":\"Nombre de tweets\",\"x\":[\"2024-01-01T00:00:00\",\"2024-01-08T00:00:00\",\"2024-01-15T00:00:00\",\"2024-01-22T00:00:00\",\"2024-01-29T00:00:00\",\"2024-02-05T00:00:00\",\"2024-02-12T00:00:00\",\"2024-02-19T00:00:00\",\"2024-02-26T00:00:00\",\"2024-03-04T00:00:00\",\"2024-03-11T00:00:00\",\"2024-03-18T00:00:00\",\"2024-03-25T00:00:00\",\"2024-04-01T00:00:00\",\"2024-04-08T00:00:00\",\"2024-04-15T00:00:00\",\"2024-04-22T00:00:00\",\"2024-04-29T00:00:00\",\"2024-05-06T00:00:00\",\"2024-05-13T00:00:00\",\"2024-05-20T00:00:00\",\"2024-05-27T00:00:00\",\"2024-06-03T00:00:00\",\"2024-06-10T00:00:00\",\"2024-06-17T00:00:00\",\"2024-06-24T00:00:00\",\"2024-07-01T00:00:00\",\"2024-07-08T00:00:00\",\"2024-07-15T00:00:00\",\"2024-07-22T00:00:00\",\"2024-07-29T00:00:00\",\"2024-08-05T00:00:00\",\"2024-08-12T00:00:00\",\"2024-08-19T00:00:00\",\"2024-08-26T00:00:00\",\"2024-09-02T00:00:00\",\"2024-09-09T00:00:00\",\"2024-09-16T00:00:00\",\"2024-09-23T00:00:00\",\"2024-09-30T00:00:00\",\"2024-10-07T00:00:00\",\"2024-10-14T00:00:00\",\"2024-10-21T00:00:00\",\"2024-10-28T00:00:00\",\"2024-11-04T00:00:00\",\"2024-11-11T00:00:00\",\"2024-11-18T00:00:00\",\"2024-11-25T00:00:00\"],\"y\":[148,150,113,115,85,125,109,112,120,143,130,131,143,115,108,106,140,155,137,92,112,102,111,148,117,74,70,94,215,186,246,636,772,343,295,413,279,252,252,166,306,499,457,245,942,2293,1044,565],\"type\":\"scatter\"}],                        {\"template\":{\"data\":{\"barpolar\":[{\"marker\":{\"line\":{\"color\":\"white\",\"width\":0.5},\"pattern\":{\"fillmode\":\"overlay\",\"size\":10,\"solidity\":0.2}},\"type\":\"barpolar\"}],\"bar\":[{\"error_x\":{\"color\":\"#2a3f5f\"},\"error_y\":{\"color\":\"#2a3f5f\"},\"marker\":{\"line\":{\"color\":\"white\",\"width\":0.5},\"pattern\":{\"fillmode\":\"overlay\",\"size\":10,\"solidity\":0.2}},\"type\":\"bar\"}],\"carpet\":[{\"aaxis\":{\"endlinecolor\":\"#2a3f5f\",\"gridcolor\":\"#C8D4E3\",\"linecolor\":\"#C8D4E3\",\"minorgridcolor\":\"#C8D4E3\",\"startlinecolor\":\"#2a3f5f\"},\"baxis\":{\"endlinecolor\":\"#2a3f5f\",\"gridcolor\":\"#C8D4E3\",\"linecolor\":\"#C8D4E3\",\"minorgridcolor\":\"#C8D4E3\",\"startlinecolor\":\"#2a3f5f\"},\"type\":\"carpet\"}],\"choropleth\":[{\"colorbar\":{\"outlinewidth\":0,\"ticks\":\"\"},\"type\":\"choropleth\"}],\"contourcarpet\":[{\"colorbar\":{\"outlinewidth\":0,\"ticks\":\"\"},\"type\":\"contourcarpet\"}],\"contour\":[{\"colorbar\":{\"outlinewidth\":0,\"ticks\":\"\"},\"colorscale\":[[0.0,\"#0d0887\"],[0.1111111111111111,\"#46039f\"],[0.2222222222222222,\"#7201a8\"],[0.3333333333333333,\"#9c179e\"],[0.4444444444444444,\"#bd3786\"],[0.5555555555555556,\"#d8576b\"],[0.6666666666666666,\"#ed7953\"],[0.7777777777777778,\"#fb9f3a\"],[0.8888888888888888,\"#fdca26\"],[1.0,\"#f0f921\"]],\"type\":\"contour\"}],\"heatmapgl\":[{\"colorbar\":{\"outlinewidth\":0,\"ticks\":\"\"},\"colorscale\":[[0.0,\"#0d0887\"],[0.1111111111111111,\"#46039f\"],[0.2222222222222222,\"#7201a8\"],[0.3333333333333333,\"#9c179e\"],[0.4444444444444444,\"#bd3786\"],[0.5555555555555556,\"#d8576b\"],[0.6666666666666666,\"#ed7953\"],[0.7777777777777778,\"#fb9f3a\"],[0.8888888888888888,\"#fdca26\"],[1.0,\"#f0f921\"]],\"type\":\"heatmapgl\"}],\"heatmap\":[{\"colorbar\":{\"outlinewidth\":0,\"ticks\":\"\"},\"colorscale\":[[0.0,\"#0d0887\"],[0.1111111111111111,\"#46039f\"],[0.2222222222222222,\"#7201a8\"],[0.3333333333333333,\"#9c179e\"],[0.4444444444444444,\"#bd3786\"],[0.5555555555555556,\"#d8576b\"],[0.6666666666666666,\"#ed7953\"],[0.7777777777777778,\"#fb9f3a\"],[0.8888888888888888,\"#fdca26\"],[1.0,\"#f0f921\"]],\"type\":\"heatmap\"}],\"histogram2dcontour\":[{\"colorbar\":{\"outlinewidth\":0,\"ticks\":\"\"},\"colorscale\":[[0.0,\"#0d0887\"],[0.1111111111111111,\"#46039f\"],[0.2222222222222222,\"#7201a8\"],[0.3333333333333333,\"#9c179e\"],[0.4444444444444444,\"#bd3786\"],[0.5555555555555556,\"#d8576b\"],[0.6666666666666666,\"#ed7953\"],[0.7777777777777778,\"#fb9f3a\"],[0.8888888888888888,\"#fdca26\"],[1.0,\"#f0f921\"]],\"type\":\"histogram2dcontour\"}],\"histogram2d\":[{\"colorbar\":{\"outlinewidth\":0,\"ticks\":\"\"},\"colorscale\":[[0.0,\"#0d0887\"],[0.1111111111111111,\"#46039f\"],[0.2222222222222222,\"#7201a8\"],[0.3333333333333333,\"#9c179e\"],[0.4444444444444444,\"#bd3786\"],[0.5555555555555556,\"#d8576b\"],[0.6666666666666666,\"#ed7953\"],[0.7777777777777778,\"#fb9f3a\"],[0.8888888888888888,\"#fdca26\"],[1.0,\"#f0f921\"]],\"type\":\"histogram2d\"}],\"histogram\":[{\"marker\":{\"pattern\":{\"fillmode\":\"overlay\",\"size\":10,\"solidity\":0.2}},\"type\":\"histogram\"}],\"mesh3d\":[{\"colorbar\":{\"outlinewidth\":0,\"ticks\":\"\"},\"type\":\"mesh3d\"}],\"parcoords\":[{\"line\":{\"colorbar\":{\"outlinewidth\":0,\"ticks\":\"\"}},\"type\":\"parcoords\"}],\"pie\":[{\"automargin\":true,\"type\":\"pie\"}],\"scatter3d\":[{\"line\":{\"colorbar\":{\"outlinewidth\":0,\"ticks\":\"\"}},\"marker\":{\"colorbar\":{\"outlinewidth\":0,\"ticks\":\"\"}},\"type\":\"scatter3d\"}],\"scattercarpet\":[{\"marker\":{\"colorbar\":{\"outlinewidth\":0,\"ticks\":\"\"}},\"type\":\"scattercarpet\"}],\"scattergeo\":[{\"marker\":{\"colorbar\":{\"outlinewidth\":0,\"ticks\":\"\"}},\"type\":\"scattergeo\"}],\"scattergl\":[{\"marker\":{\"colorbar\":{\"outlinewidth\":0,\"ticks\":\"\"}},\"type\":\"scattergl\"}],\"scattermapbox\":[{\"marker\":{\"colorbar\":{\"outlinewidth\":0,\"ticks\":\"\"}},\"type\":\"scattermapbox\"}],\"scatterpolargl\":[{\"marker\":{\"colorbar\":{\"outlinewidth\":0,\"ticks\":\"\"}},\"type\":\"scatterpolargl\"}],\"scatterpolar\":[{\"marker\":{\"colorbar\":{\"outlinewidth\":0,\"ticks\":\"\"}},\"type\":\"scatterpolar\"}],\"scatter\":[{\"fillpattern\":{\"fillmode\":\"overlay\",\"size\":10,\"solidity\":0.2},\"type\":\"scatter\"}],\"scatterternary\":[{\"marker\":{\"colorbar\":{\"outlinewidth\":0,\"ticks\":\"\"}},\"type\":\"scatterternary\"}],\"surface\":[{\"colorbar\":{\"outlinewidth\":0,\"ticks\":\"\"},\"colorscale\":[[0.0,\"#0d0887\"],[0.1111111111111111,\"#46039f\"],[0.2222222222222222,\"#7201a8\"],[0.3333333333333333,\"#9c179e\"],[0.4444444444444444,\"#bd3786\"],[0.5555555555555556,\"#d8576b\"],[0.6666666666666666,\"#ed7953\"],[0.7777777777777778,\"#fb9f3a\"],[0.8888888888888888,\"#fdca26\"],[1.0,\"#f0f921\"]],\"type\":\"surface\"}],\"table\":[{\"cells\":{\"fill\":{\"color\":\"#EBF0F8\"},\"line\":{\"color\":\"white\"}},\"header\":{\"fill\":{\"color\":\"#C8D4E3\"},\"line\":{\"color\":\"white\"}},\"type\":\"table\"}]},\"layout\":{\"annotationdefaults\":{\"arrowcolor\":\"#2a3f5f\",\"arrowhead\":0,\"arrowwidth\":1},\"autotypenumbers\":\"strict\",\"coloraxis\":{\"colorbar\":{\"outlinewidth\":0,\"ticks\":\"\"}},\"colorscale\":{\"diverging\":[[0,\"#8e0152\"],[0.1,\"#c51b7d\"],[0.2,\"#de77ae\"],[0.3,\"#f1b6da\"],[0.4,\"#fde0ef\"],[0.5,\"#f7f7f7\"],[0.6,\"#e6f5d0\"],[0.7,\"#b8e186\"],[0.8,\"#7fbc41\"],[0.9,\"#4d9221\"],[1,\"#276419\"]],\"sequential\":[[0.0,\"#0d0887\"],[0.1111111111111111,\"#46039f\"],[0.2222222222222222,\"#7201a8\"],[0.3333333333333333,\"#9c179e\"],[0.4444444444444444,\"#bd3786\"],[0.5555555555555556,\"#d8576b\"],[0.6666666666666666,\"#ed7953\"],[0.7777777777777778,\"#fb9f3a\"],[0.8888888888888888,\"#fdca26\"],[1.0,\"#f0f921\"]],\"sequentialminus\":[[0.0,\"#0d0887\"],[0.1111111111111111,\"#46039f\"],[0.2222222222222222,\"#7201a8\"],[0.3333333333333333,\"#9c179e\"],[0.4444444444444444,\"#bd3786\"],[0.5555555555555556,\"#d8576b\"],[0.6666666666666666,\"#ed7953\"],[0.7777777777777778,\"#fb9f3a\"],[0.8888888888888888,\"#fdca26\"],[1.0,\"#f0f921\"]]},\"colorway\":[\"#636efa\",\"#EF553B\",\"#00cc96\",\"#ab63fa\",\"#FFA15A\",\"#19d3f3\",\"#FF6692\",\"#B6E880\",\"#FF97FF\",\"#FECB52\"],\"font\":{\"color\":\"#2a3f5f\"},\"geo\":{\"bgcolor\":\"white\",\"lakecolor\":\"white\",\"landcolor\":\"white\",\"showlakes\":true,\"showland\":true,\"subunitcolor\":\"#C8D4E3\"},\"hoverlabel\":{\"align\":\"left\"},\"hovermode\":\"closest\",\"mapbox\":{\"style\":\"light\"},\"paper_bgcolor\":\"white\",\"plot_bgcolor\":\"white\",\"polar\":{\"angularaxis\":{\"gridcolor\":\"#EBF0F8\",\"linecolor\":\"#EBF0F8\",\"ticks\":\"\"},\"bgcolor\":\"white\",\"radialaxis\":{\"gridcolor\":\"#EBF0F8\",\"linecolor\":\"#EBF0F8\",\"ticks\":\"\"}},\"scene\":{\"xaxis\":{\"backgroundcolor\":\"white\",\"gridcolor\":\"#DFE8F3\",\"gridwidth\":2,\"linecolor\":\"#EBF0F8\",\"showbackground\":true,\"ticks\":\"\",\"zerolinecolor\":\"#EBF0F8\"},\"yaxis\":{\"backgroundcolor\":\"white\",\"gridcolor\":\"#DFE8F3\",\"gridwidth\":2,\"linecolor\":\"#EBF0F8\",\"showbackground\":true,\"ticks\":\"\",\"zerolinecolor\":\"#EBF0F8\"},\"zaxis\":{\"backgroundcolor\":\"white\",\"gridcolor\":\"#DFE8F3\",\"gridwidth\":2,\"linecolor\":\"#EBF0F8\",\"showbackground\":true,\"ticks\":\"\",\"zerolinecolor\":\"#EBF0F8\"}},\"shapedefaults\":{\"line\":{\"color\":\"#2a3f5f\"}},\"ternary\":{\"aaxis\":{\"gridcolor\":\"#DFE8F3\",\"linecolor\":\"#A2B1C6\",\"ticks\":\"\"},\"baxis\":{\"gridcolor\":\"#DFE8F3\",\"linecolor\":\"#A2B1C6\",\"ticks\":\"\"},\"bgcolor\":\"white\",\"caxis\":{\"gridcolor\":\"#DFE8F3\",\"linecolor\":\"#A2B1C6\",\"ticks\":\"\"}},\"title\":{\"x\":0.05},\"xaxis\":{\"automargin\":true,\"gridcolor\":\"#EBF0F8\",\"linecolor\":\"#EBF0F8\",\"ticks\":\"\",\"title\":{\"standoff\":15},\"zerolinecolor\":\"#EBF0F8\",\"zerolinewidth\":2},\"yaxis\":{\"automargin\":true,\"gridcolor\":\"#EBF0F8\",\"linecolor\":\"#EBF0F8\",\"ticks\":\"\",\"title\":{\"standoff\":15},\"zerolinecolor\":\"#EBF0F8\",\"zerolinewidth\":2}}},\"xaxis\":{\"title\":{\"text\":\"Semaines de 2024\"},\"tickformat\":\"%b %d\",\"tickangle\":-45,\"tickvals\":[\"2024-01-01T00:00:00\",\"2024-01-08T00:00:00\",\"2024-01-15T00:00:00\",\"2024-01-22T00:00:00\",\"2024-01-29T00:00:00\",\"2024-02-05T00:00:00\",\"2024-02-12T00:00:00\",\"2024-02-19T00:00:00\",\"2024-02-26T00:00:00\",\"2024-03-04T00:00:00\",\"2024-03-11T00:00:00\",\"2024-03-18T00:00:00\",\"2024-03-25T00:00:00\",\"2024-04-01T00:00:00\",\"2024-04-08T00:00:00\",\"2024-04-15T00:00:00\",\"2024-04-22T00:00:00\",\"2024-04-29T00:00:00\",\"2024-05-06T00:00:00\",\"2024-05-13T00:00:00\",\"2024-05-20T00:00:00\",\"2024-05-27T00:00:00\",\"2024-06-03T00:00:00\",\"2024-06-10T00:00:00\",\"2024-06-17T00:00:00\",\"2024-06-24T00:00:00\",\"2024-07-01T00:00:00\",\"2024-07-08T00:00:00\",\"2024-07-15T00:00:00\",\"2024-07-22T00:00:00\",\"2024-07-29T00:00:00\",\"2024-08-05T00:00:00\",\"2024-08-12T00:00:00\",\"2024-08-19T00:00:00\",\"2024-08-26T00:00:00\",\"2024-09-02T00:00:00\",\"2024-09-09T00:00:00\",\"2024-09-16T00:00:00\",\"2024-09-23T00:00:00\",\"2024-09-30T00:00:00\",\"2024-10-07T00:00:00\",\"2024-10-14T00:00:00\",\"2024-10-21T00:00:00\",\"2024-10-28T00:00:00\",\"2024-11-04T00:00:00\",\"2024-11-11T00:00:00\",\"2024-11-18T00:00:00\",\"2024-11-25T00:00:00\"],\"ticktext\":[\"Jan 01\",\"Jan 08\",\"Jan 15\",\"Jan 22\",\"Jan 29\",\"Feb 05\",\"Feb 12\",\"Feb 19\",\"Feb 26\",\"Mar 04\",\"Mar 11\",\"Mar 18\",\"Mar 25\",\"Apr 01\",\"Apr 08\",\"Apr 15\",\"Apr 22\",\"Apr 29\",\"May 06\",\"May 13\",\"May 20\",\"May 27\",\"Jun 03\",\"Jun 10\",\"Jun 17\",\"Jun 24\",\"Jul 01\",\"Jul 08\",\"Jul 15\",\"Jul 22\",\"Jul 29\",\"Aug 05\",\"Aug 12\",\"Aug 19\",\"Aug 26\",\"Sep 02\",\"Sep 09\",\"Sep 16\",\"Sep 23\",\"Sep 30\",\"Oct 07\",\"Oct 14\",\"Oct 21\",\"Oct 28\",\"Nov 04\",\"Nov 11\",\"Nov 18\",\"Nov 25\"],\"showline\":true,\"linecolor\":\"gray\",\"linewidth\":2},\"yaxis\":{\"title\":{\"text\":\"Nombre de tweets\"},\"showline\":true,\"linecolor\":\"gray\",\"linewidth\":2},\"margin\":{\"l\":50,\"r\":50,\"t\":50,\"b\":50},\"legend\":{\"x\":0.01,\"y\":0.99,\"bgcolor\":\"rgba(255,255,255,0.7)\",\"bordercolor\":\"black\",\"borderwidth\":1,\"title\":{\"text\":\"Type d'Interaction\"}},\"title\":{\"text\":\"Nombre de tweets par semaine\"},\"plot_bgcolor\":\"white\",\"hovermode\":\"x unified\",\"width\":1100,\"height\":600},                        {\"responsive\": true}                    ).then(function(){\n",
       "                            \n",
       "var gd = document.getElementById('53ccee4c-6dbe-46a6-aa9d-65ce543d1ab8');\n",
       "var x = new MutationObserver(function (mutations, observer) {{\n",
       "        var display = window.getComputedStyle(gd).display;\n",
       "        if (!display || display === 'none') {{\n",
       "            console.log([gd, 'removed!']);\n",
       "            Plotly.purge(gd);\n",
       "            observer.disconnect();\n",
       "        }}\n",
       "}});\n",
       "\n",
       "// Listen for the removal of the full notebook cells\n",
       "var notebookContainer = gd.closest('#notebook-container');\n",
       "if (notebookContainer) {{\n",
       "    x.observe(notebookContainer, {childList: true});\n",
       "}}\n",
       "\n",
       "// Listen for the clearing of the current output cell\n",
       "var outputEl = gd.closest('.output');\n",
       "if (outputEl) {{\n",
       "    x.observe(outputEl, {childList: true});\n",
       "}}\n",
       "\n",
       "                        })                };                });            </script>        </div>"
      ]
     },
     "metadata": {},
     "output_type": "display_data"
    }
   ],
   "source": [
    "# Grouper par semaine et compter les tweets\n",
    "tweets_per_week = df.groupby('YearWeek').size().reset_index(name='TweetCount')\n",
    "\n",
    "# Convertir YearWeek en dates réelles (qui indique le début de la semaine)\n",
    "tweets_per_week['Date'] = pd.to_datetime(tweets_per_week['YearWeek'] + '-1', format='%Y-%U-%w')\n",
    "\n",
    "# on vérifie que toutes les semaines de l'année soient présentes\n",
    "all_weeks = pd.date_range(start=tweets_per_week['Date'].min(), \n",
    "                          end=tweets_per_week['Date'].max(), \n",
    "                          freq='W-SUN')  # toutes les semaines\n",
    "\n",
    "# Création du graphique avec le package plotly\n",
    "fig = go.Figure()\n",
    "\n",
    "# Ajout de la ligne pour le nombre de tweets\n",
    "fig.add_trace(go.Scatter(\n",
    "    x=tweets_per_week['Date'],\n",
    "    y=tweets_per_week['TweetCount'],\n",
    "    mode='lines+markers',\n",
    "    name=\"Nombre de tweets\",\n",
    "    line=dict(color='royalblue', width=2),\n",
    "    marker=dict(size=8, color='blue', symbol='star')\n",
    "))\n",
    "\n",
    "# on ajoute un encadré noir autour de la zone de graphique\n",
    "fig.update_layout(\n",
    "    title=\"Nombre de tweets par semaine\",\n",
    "    xaxis=dict(\n",
    "        title=\"Semaines de 2024\",\n",
    "        tickformat=\"%b %d\",  # Format de l'axe X : mois jour\n",
    "        tickangle=-45,\n",
    "        tickvals=tweets_per_week['Date'],  # Afficher toutes les semaines\n",
    "        ticktext=tweets_per_week['Date'].dt.strftime('%b %d')  # Format texte \n",
    "    ),\n",
    "    yaxis=dict(\n",
    "        title=\"Nombre de tweets\",\n",
    "        showline=True,  # Afficher une bordure \n",
    "        linecolor='gray',  # Bordure en gris\n",
    "        linewidth=1.5\n",
    "    ),\n",
    "    plot_bgcolor='white',  # Fond blanc pour mieux voir l'encadré\n",
    "    margin=dict(l=50, r=50, t=50, b=50),  # Marges autour du graphique\n",
    "    template=\"plotly_white\",\n",
    "    hovermode=\"x unified\",  # Afficher l'info au survol\n",
    "    legend=dict(\n",
    "        x=0.01, y=0.99,\n",
    "        bgcolor='rgba(255,255,255,0.7)',\n",
    "        bordercolor='gray',\n",
    "        borderwidth=0.7\n",
    "    )\n",
    ")\n",
    "\n",
    "# Ajuster la taille et le style de la figure\n",
    "fig.update_layout(\n",
    "    width=1100,\n",
    "    height=600,\n",
    "    template=\"plotly_white\",\n",
    "    plot_bgcolor=\"white\",\n",
    "    hovermode=\"x unified\",\n",
    "    legend=dict(\n",
    "        title=\"Type d'Interaction\",\n",
    "        x=0.01, y=0.99,\n",
    "        bgcolor='rgba(255,255,255,0.7)',\n",
    "        bordercolor='black',\n",
    "        borderwidth=1\n",
    "    )\n",
    ")\n",
    "\n",
    "# Ajouter un contour noir autour de la zone graphique\n",
    "fig.update_xaxes(showline=True, linecolor='gray', linewidth=2)  # Encadré axe X\n",
    "fig.update_yaxes(showline=True, linecolor='gray', linewidth=2)  # Encadré axe Y\n",
    "\n",
    "# Afficher le graphique\n",
    "fig.show()"
   ]
  },
  {
   "cell_type": "markdown",
   "metadata": {},
   "source": [
    "Ainsi, on peut voir clairement que les utilisateurs qui tweetent à ce sujet le font à des périodes bien précises, liées sans doute à l'élection présidentielle américaine.\n",
    "De façon assez marquante, les semaines du 3 novembre et du 10 novembre sont particulièrement significatives de la victoire de Trump.\n",
    "\n",
    "Nous avons décidé de nous restreindre à 2024 car les variations du nombre de tweets fin 2023 étaient similaires à celles de début 2023. De plus, nous avons préféré nous pencher sur cette période spécifique dans la démarche de notre projet.\n",
    "\n",
    "Nous allons maintenant observer l'évolution des interactions au cours du temps."
   ]
  },
  {
   "cell_type": "markdown",
   "metadata": {},
   "source": [
    "## 2. Nombre et évolution des interactions\n",
    "\n",
    "Les interactions que nous allons étudier sont les likes, les vues, les retweets et les commentaires. Certaines de ces interactions témoignent d'un plus fort engagement que d'autres, tels que les retweets et les commentaires (qui permettent de repartager des tweets), a contrario des likes et des vues."
   ]
  },
  {
   "cell_type": "markdown",
   "metadata": {},
   "source": [
    "### 2.1. Total des interactions"
   ]
  },
  {
   "cell_type": "code",
   "execution_count": 9,
   "metadata": {},
   "outputs": [
    {
     "data": {
      "application/vnd.plotly.v1+json": {
       "config": {
        "plotlyServerURL": "https://plot.ly"
       },
       "data": [
        {
         "hovertemplate": "Type d'interaction=Total des likes<br>Date=%{x}<br>Total des interactions=%{y}<extra></extra>",
         "legendgroup": "Total des likes",
         "line": {
          "color": "#636efa",
          "dash": "solid"
         },
         "marker": {
          "symbol": "circle"
         },
         "mode": "lines+markers",
         "name": "Total des likes",
         "orientation": "v",
         "showlegend": true,
         "type": "scatter",
         "x": [
          "2024-01-01T00:00:00",
          "2024-01-08T00:00:00",
          "2024-01-15T00:00:00",
          "2024-01-22T00:00:00",
          "2024-01-29T00:00:00",
          "2024-02-05T00:00:00",
          "2024-02-12T00:00:00",
          "2024-02-19T00:00:00",
          "2024-02-26T00:00:00",
          "2024-03-04T00:00:00",
          "2024-03-11T00:00:00",
          "2024-03-18T00:00:00",
          "2024-03-25T00:00:00",
          "2024-04-01T00:00:00",
          "2024-04-08T00:00:00",
          "2024-04-15T00:00:00",
          "2024-04-22T00:00:00",
          "2024-04-29T00:00:00",
          "2024-05-06T00:00:00",
          "2024-05-13T00:00:00",
          "2024-05-20T00:00:00",
          "2024-05-27T00:00:00",
          "2024-06-03T00:00:00",
          "2024-06-10T00:00:00",
          "2024-06-17T00:00:00",
          "2024-06-24T00:00:00",
          "2024-07-01T00:00:00",
          "2024-07-08T00:00:00",
          "2024-07-15T00:00:00",
          "2024-07-22T00:00:00",
          "2024-07-29T00:00:00",
          "2024-08-05T00:00:00",
          "2024-08-12T00:00:00",
          "2024-08-19T00:00:00",
          "2024-08-26T00:00:00",
          "2024-09-02T00:00:00",
          "2024-09-09T00:00:00",
          "2024-09-16T00:00:00",
          "2024-09-23T00:00:00",
          "2024-09-30T00:00:00",
          "2024-10-07T00:00:00",
          "2024-10-14T00:00:00",
          "2024-10-21T00:00:00",
          "2024-10-28T00:00:00",
          "2024-11-04T00:00:00",
          "2024-11-11T00:00:00",
          "2024-11-18T00:00:00",
          "2024-11-25T00:00:00"
         ],
         "xaxis": "x",
         "y": [
          2105,
          1074,
          813,
          261,
          975,
          839,
          11983,
          323,
          1890,
          1059,
          1211,
          629,
          1065,
          753,
          812,
          629,
          3950,
          1107,
          570,
          1582,
          690,
          438,
          1796,
          1118,
          1697,
          34098,
          154,
          104,
          1315,
          1175,
          802,
          36830,
          31080,
          17442,
          3559,
          3130,
          5075,
          1169,
          4758,
          1265,
          1336,
          7800,
          6022,
          20679,
          10779,
          33375,
          7270,
          5587
         ],
         "yaxis": "y"
        },
        {
         "hovertemplate": "Type d'interaction=Total des retweets<br>Date=%{x}<br>Total des interactions=%{y}<extra></extra>",
         "legendgroup": "Total des retweets",
         "line": {
          "color": "#EF553B",
          "dash": "solid"
         },
         "marker": {
          "symbol": "circle"
         },
         "mode": "lines+markers",
         "name": "Total des retweets",
         "orientation": "v",
         "showlegend": true,
         "type": "scatter",
         "x": [
          "2024-01-01T00:00:00",
          "2024-01-08T00:00:00",
          "2024-01-15T00:00:00",
          "2024-01-22T00:00:00",
          "2024-01-29T00:00:00",
          "2024-02-05T00:00:00",
          "2024-02-12T00:00:00",
          "2024-02-19T00:00:00",
          "2024-02-26T00:00:00",
          "2024-03-04T00:00:00",
          "2024-03-11T00:00:00",
          "2024-03-18T00:00:00",
          "2024-03-25T00:00:00",
          "2024-04-01T00:00:00",
          "2024-04-08T00:00:00",
          "2024-04-15T00:00:00",
          "2024-04-22T00:00:00",
          "2024-04-29T00:00:00",
          "2024-05-06T00:00:00",
          "2024-05-13T00:00:00",
          "2024-05-20T00:00:00",
          "2024-05-27T00:00:00",
          "2024-06-03T00:00:00",
          "2024-06-10T00:00:00",
          "2024-06-17T00:00:00",
          "2024-06-24T00:00:00",
          "2024-07-01T00:00:00",
          "2024-07-08T00:00:00",
          "2024-07-15T00:00:00",
          "2024-07-22T00:00:00",
          "2024-07-29T00:00:00",
          "2024-08-05T00:00:00",
          "2024-08-12T00:00:00",
          "2024-08-19T00:00:00",
          "2024-08-26T00:00:00",
          "2024-09-02T00:00:00",
          "2024-09-09T00:00:00",
          "2024-09-16T00:00:00",
          "2024-09-23T00:00:00",
          "2024-09-30T00:00:00",
          "2024-10-07T00:00:00",
          "2024-10-14T00:00:00",
          "2024-10-21T00:00:00",
          "2024-10-28T00:00:00",
          "2024-11-04T00:00:00",
          "2024-11-11T00:00:00",
          "2024-11-18T00:00:00",
          "2024-11-25T00:00:00"
         ],
         "xaxis": "x",
         "y": [
          399,
          765,
          82,
          39,
          169,
          208,
          1040,
          94,
          296,
          72,
          150,
          109,
          197,
          101,
          100,
          80,
          503,
          271,
          114,
          565,
          75,
          54,
          275,
          428,
          271,
          15066,
          18,
          12,
          109,
          178,
          130,
          7902,
          7944,
          2865,
          468,
          549,
          610,
          278,
          3284,
          277,
          207,
          634,
          749,
          4422,
          1801,
          5279,
          1250,
          854
         ],
         "yaxis": "y"
        },
        {
         "hovertemplate": "Type d'interaction=Total des commentaires<br>Date=%{x}<br>Total des interactions=%{y}<extra></extra>",
         "legendgroup": "Total des commentaires",
         "line": {
          "color": "#00cc96",
          "dash": "solid"
         },
         "marker": {
          "symbol": "circle"
         },
         "mode": "lines+markers",
         "name": "Total des commentaires",
         "orientation": "v",
         "showlegend": true,
         "type": "scatter",
         "x": [
          "2024-01-01T00:00:00",
          "2024-01-08T00:00:00",
          "2024-01-15T00:00:00",
          "2024-01-22T00:00:00",
          "2024-01-29T00:00:00",
          "2024-02-05T00:00:00",
          "2024-02-12T00:00:00",
          "2024-02-19T00:00:00",
          "2024-02-26T00:00:00",
          "2024-03-04T00:00:00",
          "2024-03-11T00:00:00",
          "2024-03-18T00:00:00",
          "2024-03-25T00:00:00",
          "2024-04-01T00:00:00",
          "2024-04-08T00:00:00",
          "2024-04-15T00:00:00",
          "2024-04-22T00:00:00",
          "2024-04-29T00:00:00",
          "2024-05-06T00:00:00",
          "2024-05-13T00:00:00",
          "2024-05-20T00:00:00",
          "2024-05-27T00:00:00",
          "2024-06-03T00:00:00",
          "2024-06-10T00:00:00",
          "2024-06-17T00:00:00",
          "2024-06-24T00:00:00",
          "2024-07-01T00:00:00",
          "2024-07-08T00:00:00",
          "2024-07-15T00:00:00",
          "2024-07-22T00:00:00",
          "2024-07-29T00:00:00",
          "2024-08-05T00:00:00",
          "2024-08-12T00:00:00",
          "2024-08-19T00:00:00",
          "2024-08-26T00:00:00",
          "2024-09-02T00:00:00",
          "2024-09-09T00:00:00",
          "2024-09-16T00:00:00",
          "2024-09-23T00:00:00",
          "2024-09-30T00:00:00",
          "2024-10-07T00:00:00",
          "2024-10-14T00:00:00",
          "2024-10-21T00:00:00",
          "2024-10-28T00:00:00",
          "2024-11-04T00:00:00",
          "2024-11-11T00:00:00",
          "2024-11-18T00:00:00",
          "2024-11-25T00:00:00"
         ],
         "xaxis": "x",
         "y": [
          628,
          296,
          188,
          95,
          286,
          142,
          1111,
          80,
          156,
          131,
          268,
          108,
          130,
          213,
          318,
          85,
          347,
          165,
          103,
          45,
          87,
          59,
          449,
          384,
          267,
          1187,
          41,
          59,
          173,
          203,
          115,
          9310,
          26399,
          1136,
          375,
          793,
          1826,
          216,
          1203,
          136,
          229,
          575,
          710,
          1065,
          4006,
          11695,
          4448,
          1028
         ],
         "yaxis": "y"
        }
       ],
       "layout": {
        "height": 600,
        "hovermode": "x unified",
        "legend": {
         "bgcolor": "rgba(255,255,255,0.7)",
         "bordercolor": "black",
         "borderwidth": 1,
         "title": {
          "text": "Type d'interaction"
         },
         "tracegroupgap": 0,
         "x": 0.01,
         "y": 0.99
        },
        "template": {
         "data": {
          "bar": [
           {
            "error_x": {
             "color": "#2a3f5f"
            },
            "error_y": {
             "color": "#2a3f5f"
            },
            "marker": {
             "line": {
              "color": "white",
              "width": 0.5
             },
             "pattern": {
              "fillmode": "overlay",
              "size": 10,
              "solidity": 0.2
             }
            },
            "type": "bar"
           }
          ],
          "barpolar": [
           {
            "marker": {
             "line": {
              "color": "white",
              "width": 0.5
             },
             "pattern": {
              "fillmode": "overlay",
              "size": 10,
              "solidity": 0.2
             }
            },
            "type": "barpolar"
           }
          ],
          "carpet": [
           {
            "aaxis": {
             "endlinecolor": "#2a3f5f",
             "gridcolor": "#C8D4E3",
             "linecolor": "#C8D4E3",
             "minorgridcolor": "#C8D4E3",
             "startlinecolor": "#2a3f5f"
            },
            "baxis": {
             "endlinecolor": "#2a3f5f",
             "gridcolor": "#C8D4E3",
             "linecolor": "#C8D4E3",
             "minorgridcolor": "#C8D4E3",
             "startlinecolor": "#2a3f5f"
            },
            "type": "carpet"
           }
          ],
          "choropleth": [
           {
            "colorbar": {
             "outlinewidth": 0,
             "ticks": ""
            },
            "type": "choropleth"
           }
          ],
          "contour": [
           {
            "colorbar": {
             "outlinewidth": 0,
             "ticks": ""
            },
            "colorscale": [
             [
              0,
              "#0d0887"
             ],
             [
              0.1111111111111111,
              "#46039f"
             ],
             [
              0.2222222222222222,
              "#7201a8"
             ],
             [
              0.3333333333333333,
              "#9c179e"
             ],
             [
              0.4444444444444444,
              "#bd3786"
             ],
             [
              0.5555555555555556,
              "#d8576b"
             ],
             [
              0.6666666666666666,
              "#ed7953"
             ],
             [
              0.7777777777777778,
              "#fb9f3a"
             ],
             [
              0.8888888888888888,
              "#fdca26"
             ],
             [
              1,
              "#f0f921"
             ]
            ],
            "type": "contour"
           }
          ],
          "contourcarpet": [
           {
            "colorbar": {
             "outlinewidth": 0,
             "ticks": ""
            },
            "type": "contourcarpet"
           }
          ],
          "heatmap": [
           {
            "colorbar": {
             "outlinewidth": 0,
             "ticks": ""
            },
            "colorscale": [
             [
              0,
              "#0d0887"
             ],
             [
              0.1111111111111111,
              "#46039f"
             ],
             [
              0.2222222222222222,
              "#7201a8"
             ],
             [
              0.3333333333333333,
              "#9c179e"
             ],
             [
              0.4444444444444444,
              "#bd3786"
             ],
             [
              0.5555555555555556,
              "#d8576b"
             ],
             [
              0.6666666666666666,
              "#ed7953"
             ],
             [
              0.7777777777777778,
              "#fb9f3a"
             ],
             [
              0.8888888888888888,
              "#fdca26"
             ],
             [
              1,
              "#f0f921"
             ]
            ],
            "type": "heatmap"
           }
          ],
          "heatmapgl": [
           {
            "colorbar": {
             "outlinewidth": 0,
             "ticks": ""
            },
            "colorscale": [
             [
              0,
              "#0d0887"
             ],
             [
              0.1111111111111111,
              "#46039f"
             ],
             [
              0.2222222222222222,
              "#7201a8"
             ],
             [
              0.3333333333333333,
              "#9c179e"
             ],
             [
              0.4444444444444444,
              "#bd3786"
             ],
             [
              0.5555555555555556,
              "#d8576b"
             ],
             [
              0.6666666666666666,
              "#ed7953"
             ],
             [
              0.7777777777777778,
              "#fb9f3a"
             ],
             [
              0.8888888888888888,
              "#fdca26"
             ],
             [
              1,
              "#f0f921"
             ]
            ],
            "type": "heatmapgl"
           }
          ],
          "histogram": [
           {
            "marker": {
             "pattern": {
              "fillmode": "overlay",
              "size": 10,
              "solidity": 0.2
             }
            },
            "type": "histogram"
           }
          ],
          "histogram2d": [
           {
            "colorbar": {
             "outlinewidth": 0,
             "ticks": ""
            },
            "colorscale": [
             [
              0,
              "#0d0887"
             ],
             [
              0.1111111111111111,
              "#46039f"
             ],
             [
              0.2222222222222222,
              "#7201a8"
             ],
             [
              0.3333333333333333,
              "#9c179e"
             ],
             [
              0.4444444444444444,
              "#bd3786"
             ],
             [
              0.5555555555555556,
              "#d8576b"
             ],
             [
              0.6666666666666666,
              "#ed7953"
             ],
             [
              0.7777777777777778,
              "#fb9f3a"
             ],
             [
              0.8888888888888888,
              "#fdca26"
             ],
             [
              1,
              "#f0f921"
             ]
            ],
            "type": "histogram2d"
           }
          ],
          "histogram2dcontour": [
           {
            "colorbar": {
             "outlinewidth": 0,
             "ticks": ""
            },
            "colorscale": [
             [
              0,
              "#0d0887"
             ],
             [
              0.1111111111111111,
              "#46039f"
             ],
             [
              0.2222222222222222,
              "#7201a8"
             ],
             [
              0.3333333333333333,
              "#9c179e"
             ],
             [
              0.4444444444444444,
              "#bd3786"
             ],
             [
              0.5555555555555556,
              "#d8576b"
             ],
             [
              0.6666666666666666,
              "#ed7953"
             ],
             [
              0.7777777777777778,
              "#fb9f3a"
             ],
             [
              0.8888888888888888,
              "#fdca26"
             ],
             [
              1,
              "#f0f921"
             ]
            ],
            "type": "histogram2dcontour"
           }
          ],
          "mesh3d": [
           {
            "colorbar": {
             "outlinewidth": 0,
             "ticks": ""
            },
            "type": "mesh3d"
           }
          ],
          "parcoords": [
           {
            "line": {
             "colorbar": {
              "outlinewidth": 0,
              "ticks": ""
             }
            },
            "type": "parcoords"
           }
          ],
          "pie": [
           {
            "automargin": true,
            "type": "pie"
           }
          ],
          "scatter": [
           {
            "fillpattern": {
             "fillmode": "overlay",
             "size": 10,
             "solidity": 0.2
            },
            "type": "scatter"
           }
          ],
          "scatter3d": [
           {
            "line": {
             "colorbar": {
              "outlinewidth": 0,
              "ticks": ""
             }
            },
            "marker": {
             "colorbar": {
              "outlinewidth": 0,
              "ticks": ""
             }
            },
            "type": "scatter3d"
           }
          ],
          "scattercarpet": [
           {
            "marker": {
             "colorbar": {
              "outlinewidth": 0,
              "ticks": ""
             }
            },
            "type": "scattercarpet"
           }
          ],
          "scattergeo": [
           {
            "marker": {
             "colorbar": {
              "outlinewidth": 0,
              "ticks": ""
             }
            },
            "type": "scattergeo"
           }
          ],
          "scattergl": [
           {
            "marker": {
             "colorbar": {
              "outlinewidth": 0,
              "ticks": ""
             }
            },
            "type": "scattergl"
           }
          ],
          "scattermapbox": [
           {
            "marker": {
             "colorbar": {
              "outlinewidth": 0,
              "ticks": ""
             }
            },
            "type": "scattermapbox"
           }
          ],
          "scatterpolar": [
           {
            "marker": {
             "colorbar": {
              "outlinewidth": 0,
              "ticks": ""
             }
            },
            "type": "scatterpolar"
           }
          ],
          "scatterpolargl": [
           {
            "marker": {
             "colorbar": {
              "outlinewidth": 0,
              "ticks": ""
             }
            },
            "type": "scatterpolargl"
           }
          ],
          "scatterternary": [
           {
            "marker": {
             "colorbar": {
              "outlinewidth": 0,
              "ticks": ""
             }
            },
            "type": "scatterternary"
           }
          ],
          "surface": [
           {
            "colorbar": {
             "outlinewidth": 0,
             "ticks": ""
            },
            "colorscale": [
             [
              0,
              "#0d0887"
             ],
             [
              0.1111111111111111,
              "#46039f"
             ],
             [
              0.2222222222222222,
              "#7201a8"
             ],
             [
              0.3333333333333333,
              "#9c179e"
             ],
             [
              0.4444444444444444,
              "#bd3786"
             ],
             [
              0.5555555555555556,
              "#d8576b"
             ],
             [
              0.6666666666666666,
              "#ed7953"
             ],
             [
              0.7777777777777778,
              "#fb9f3a"
             ],
             [
              0.8888888888888888,
              "#fdca26"
             ],
             [
              1,
              "#f0f921"
             ]
            ],
            "type": "surface"
           }
          ],
          "table": [
           {
            "cells": {
             "fill": {
              "color": "#EBF0F8"
             },
             "line": {
              "color": "white"
             }
            },
            "header": {
             "fill": {
              "color": "#C8D4E3"
             },
             "line": {
              "color": "white"
             }
            },
            "type": "table"
           }
          ]
         },
         "layout": {
          "annotationdefaults": {
           "arrowcolor": "#2a3f5f",
           "arrowhead": 0,
           "arrowwidth": 1
          },
          "autotypenumbers": "strict",
          "coloraxis": {
           "colorbar": {
            "outlinewidth": 0,
            "ticks": ""
           }
          },
          "colorscale": {
           "diverging": [
            [
             0,
             "#8e0152"
            ],
            [
             0.1,
             "#c51b7d"
            ],
            [
             0.2,
             "#de77ae"
            ],
            [
             0.3,
             "#f1b6da"
            ],
            [
             0.4,
             "#fde0ef"
            ],
            [
             0.5,
             "#f7f7f7"
            ],
            [
             0.6,
             "#e6f5d0"
            ],
            [
             0.7,
             "#b8e186"
            ],
            [
             0.8,
             "#7fbc41"
            ],
            [
             0.9,
             "#4d9221"
            ],
            [
             1,
             "#276419"
            ]
           ],
           "sequential": [
            [
             0,
             "#0d0887"
            ],
            [
             0.1111111111111111,
             "#46039f"
            ],
            [
             0.2222222222222222,
             "#7201a8"
            ],
            [
             0.3333333333333333,
             "#9c179e"
            ],
            [
             0.4444444444444444,
             "#bd3786"
            ],
            [
             0.5555555555555556,
             "#d8576b"
            ],
            [
             0.6666666666666666,
             "#ed7953"
            ],
            [
             0.7777777777777778,
             "#fb9f3a"
            ],
            [
             0.8888888888888888,
             "#fdca26"
            ],
            [
             1,
             "#f0f921"
            ]
           ],
           "sequentialminus": [
            [
             0,
             "#0d0887"
            ],
            [
             0.1111111111111111,
             "#46039f"
            ],
            [
             0.2222222222222222,
             "#7201a8"
            ],
            [
             0.3333333333333333,
             "#9c179e"
            ],
            [
             0.4444444444444444,
             "#bd3786"
            ],
            [
             0.5555555555555556,
             "#d8576b"
            ],
            [
             0.6666666666666666,
             "#ed7953"
            ],
            [
             0.7777777777777778,
             "#fb9f3a"
            ],
            [
             0.8888888888888888,
             "#fdca26"
            ],
            [
             1,
             "#f0f921"
            ]
           ]
          },
          "colorway": [
           "#636efa",
           "#EF553B",
           "#00cc96",
           "#ab63fa",
           "#FFA15A",
           "#19d3f3",
           "#FF6692",
           "#B6E880",
           "#FF97FF",
           "#FECB52"
          ],
          "font": {
           "color": "#2a3f5f"
          },
          "geo": {
           "bgcolor": "white",
           "lakecolor": "white",
           "landcolor": "white",
           "showlakes": true,
           "showland": true,
           "subunitcolor": "#C8D4E3"
          },
          "hoverlabel": {
           "align": "left"
          },
          "hovermode": "closest",
          "mapbox": {
           "style": "light"
          },
          "paper_bgcolor": "white",
          "plot_bgcolor": "white",
          "polar": {
           "angularaxis": {
            "gridcolor": "#EBF0F8",
            "linecolor": "#EBF0F8",
            "ticks": ""
           },
           "bgcolor": "white",
           "radialaxis": {
            "gridcolor": "#EBF0F8",
            "linecolor": "#EBF0F8",
            "ticks": ""
           }
          },
          "scene": {
           "xaxis": {
            "backgroundcolor": "white",
            "gridcolor": "#DFE8F3",
            "gridwidth": 2,
            "linecolor": "#EBF0F8",
            "showbackground": true,
            "ticks": "",
            "zerolinecolor": "#EBF0F8"
           },
           "yaxis": {
            "backgroundcolor": "white",
            "gridcolor": "#DFE8F3",
            "gridwidth": 2,
            "linecolor": "#EBF0F8",
            "showbackground": true,
            "ticks": "",
            "zerolinecolor": "#EBF0F8"
           },
           "zaxis": {
            "backgroundcolor": "white",
            "gridcolor": "#DFE8F3",
            "gridwidth": 2,
            "linecolor": "#EBF0F8",
            "showbackground": true,
            "ticks": "",
            "zerolinecolor": "#EBF0F8"
           }
          },
          "shapedefaults": {
           "line": {
            "color": "#2a3f5f"
           }
          },
          "ternary": {
           "aaxis": {
            "gridcolor": "#DFE8F3",
            "linecolor": "#A2B1C6",
            "ticks": ""
           },
           "baxis": {
            "gridcolor": "#DFE8F3",
            "linecolor": "#A2B1C6",
            "ticks": ""
           },
           "bgcolor": "white",
           "caxis": {
            "gridcolor": "#DFE8F3",
            "linecolor": "#A2B1C6",
            "ticks": ""
           }
          },
          "title": {
           "x": 0.05
          },
          "xaxis": {
           "automargin": true,
           "gridcolor": "#EBF0F8",
           "linecolor": "#EBF0F8",
           "ticks": "",
           "title": {
            "standoff": 15
           },
           "zerolinecolor": "#EBF0F8",
           "zerolinewidth": 2
          },
          "yaxis": {
           "automargin": true,
           "gridcolor": "#EBF0F8",
           "linecolor": "#EBF0F8",
           "ticks": "",
           "title": {
            "standoff": 15
           },
           "zerolinecolor": "#EBF0F8",
           "zerolinewidth": 2
          }
         }
        },
        "title": {
         "text": "Total des interactions par semaine"
        },
        "width": 1200,
        "xaxis": {
         "anchor": "y",
         "domain": [
          0,
          1
         ],
         "dtick": "M1",
         "gridcolor": "lightgray",
         "linecolor": "gray",
         "linewidth": 0.5,
         "mirror": true,
         "range": [
          "2024-01-01T00:00:00",
          "2024-11-25T00:00:00"
         ],
         "showgrid": true,
         "showline": true,
         "tickformat": "%b %Y",
         "tickmode": "linear",
         "title": {
          "text": "Semaines de 2024"
         }
        },
        "yaxis": {
         "anchor": "x",
         "domain": [
          0,
          1
         ],
         "gridcolor": "lightgray",
         "linecolor": "black",
         "linewidth": 0.5,
         "mirror": true,
         "showgrid": true,
         "showline": true,
         "title": {
          "text": "Total des interactions"
         }
        }
       }
      },
      "text/html": [
       "<div>                            <div id=\"1a74f5ee-9166-48d9-a1fb-556af8f61c0a\" class=\"plotly-graph-div\" style=\"height:600px; width:1200px;\"></div>            <script type=\"text/javascript\">                require([\"plotly\"], function(Plotly) {                    window.PLOTLYENV=window.PLOTLYENV || {};                                    if (document.getElementById(\"1a74f5ee-9166-48d9-a1fb-556af8f61c0a\")) {                    Plotly.newPlot(                        \"1a74f5ee-9166-48d9-a1fb-556af8f61c0a\",                        [{\"hovertemplate\":\"Type d'interaction=Total des likes\\u003cbr\\u003eDate=%{x}\\u003cbr\\u003eTotal des interactions=%{y}\\u003cextra\\u003e\\u003c\\u002fextra\\u003e\",\"legendgroup\":\"Total des likes\",\"line\":{\"color\":\"#636efa\",\"dash\":\"solid\"},\"marker\":{\"symbol\":\"circle\"},\"mode\":\"lines+markers\",\"name\":\"Total des likes\",\"orientation\":\"v\",\"showlegend\":true,\"x\":[\"2024-01-01T00:00:00\",\"2024-01-08T00:00:00\",\"2024-01-15T00:00:00\",\"2024-01-22T00:00:00\",\"2024-01-29T00:00:00\",\"2024-02-05T00:00:00\",\"2024-02-12T00:00:00\",\"2024-02-19T00:00:00\",\"2024-02-26T00:00:00\",\"2024-03-04T00:00:00\",\"2024-03-11T00:00:00\",\"2024-03-18T00:00:00\",\"2024-03-25T00:00:00\",\"2024-04-01T00:00:00\",\"2024-04-08T00:00:00\",\"2024-04-15T00:00:00\",\"2024-04-22T00:00:00\",\"2024-04-29T00:00:00\",\"2024-05-06T00:00:00\",\"2024-05-13T00:00:00\",\"2024-05-20T00:00:00\",\"2024-05-27T00:00:00\",\"2024-06-03T00:00:00\",\"2024-06-10T00:00:00\",\"2024-06-17T00:00:00\",\"2024-06-24T00:00:00\",\"2024-07-01T00:00:00\",\"2024-07-08T00:00:00\",\"2024-07-15T00:00:00\",\"2024-07-22T00:00:00\",\"2024-07-29T00:00:00\",\"2024-08-05T00:00:00\",\"2024-08-12T00:00:00\",\"2024-08-19T00:00:00\",\"2024-08-26T00:00:00\",\"2024-09-02T00:00:00\",\"2024-09-09T00:00:00\",\"2024-09-16T00:00:00\",\"2024-09-23T00:00:00\",\"2024-09-30T00:00:00\",\"2024-10-07T00:00:00\",\"2024-10-14T00:00:00\",\"2024-10-21T00:00:00\",\"2024-10-28T00:00:00\",\"2024-11-04T00:00:00\",\"2024-11-11T00:00:00\",\"2024-11-18T00:00:00\",\"2024-11-25T00:00:00\"],\"xaxis\":\"x\",\"y\":[2105,1074,813,261,975,839,11983,323,1890,1059,1211,629,1065,753,812,629,3950,1107,570,1582,690,438,1796,1118,1697,34098,154,104,1315,1175,802,36830,31080,17442,3559,3130,5075,1169,4758,1265,1336,7800,6022,20679,10779,33375,7270,5587],\"yaxis\":\"y\",\"type\":\"scatter\"},{\"hovertemplate\":\"Type d'interaction=Total des retweets\\u003cbr\\u003eDate=%{x}\\u003cbr\\u003eTotal des interactions=%{y}\\u003cextra\\u003e\\u003c\\u002fextra\\u003e\",\"legendgroup\":\"Total des retweets\",\"line\":{\"color\":\"#EF553B\",\"dash\":\"solid\"},\"marker\":{\"symbol\":\"circle\"},\"mode\":\"lines+markers\",\"name\":\"Total des retweets\",\"orientation\":\"v\",\"showlegend\":true,\"x\":[\"2024-01-01T00:00:00\",\"2024-01-08T00:00:00\",\"2024-01-15T00:00:00\",\"2024-01-22T00:00:00\",\"2024-01-29T00:00:00\",\"2024-02-05T00:00:00\",\"2024-02-12T00:00:00\",\"2024-02-19T00:00:00\",\"2024-02-26T00:00:00\",\"2024-03-04T00:00:00\",\"2024-03-11T00:00:00\",\"2024-03-18T00:00:00\",\"2024-03-25T00:00:00\",\"2024-04-01T00:00:00\",\"2024-04-08T00:00:00\",\"2024-04-15T00:00:00\",\"2024-04-22T00:00:00\",\"2024-04-29T00:00:00\",\"2024-05-06T00:00:00\",\"2024-05-13T00:00:00\",\"2024-05-20T00:00:00\",\"2024-05-27T00:00:00\",\"2024-06-03T00:00:00\",\"2024-06-10T00:00:00\",\"2024-06-17T00:00:00\",\"2024-06-24T00:00:00\",\"2024-07-01T00:00:00\",\"2024-07-08T00:00:00\",\"2024-07-15T00:00:00\",\"2024-07-22T00:00:00\",\"2024-07-29T00:00:00\",\"2024-08-05T00:00:00\",\"2024-08-12T00:00:00\",\"2024-08-19T00:00:00\",\"2024-08-26T00:00:00\",\"2024-09-02T00:00:00\",\"2024-09-09T00:00:00\",\"2024-09-16T00:00:00\",\"2024-09-23T00:00:00\",\"2024-09-30T00:00:00\",\"2024-10-07T00:00:00\",\"2024-10-14T00:00:00\",\"2024-10-21T00:00:00\",\"2024-10-28T00:00:00\",\"2024-11-04T00:00:00\",\"2024-11-11T00:00:00\",\"2024-11-18T00:00:00\",\"2024-11-25T00:00:00\"],\"xaxis\":\"x\",\"y\":[399,765,82,39,169,208,1040,94,296,72,150,109,197,101,100,80,503,271,114,565,75,54,275,428,271,15066,18,12,109,178,130,7902,7944,2865,468,549,610,278,3284,277,207,634,749,4422,1801,5279,1250,854],\"yaxis\":\"y\",\"type\":\"scatter\"},{\"hovertemplate\":\"Type d'interaction=Total des commentaires\\u003cbr\\u003eDate=%{x}\\u003cbr\\u003eTotal des interactions=%{y}\\u003cextra\\u003e\\u003c\\u002fextra\\u003e\",\"legendgroup\":\"Total des commentaires\",\"line\":{\"color\":\"#00cc96\",\"dash\":\"solid\"},\"marker\":{\"symbol\":\"circle\"},\"mode\":\"lines+markers\",\"name\":\"Total des commentaires\",\"orientation\":\"v\",\"showlegend\":true,\"x\":[\"2024-01-01T00:00:00\",\"2024-01-08T00:00:00\",\"2024-01-15T00:00:00\",\"2024-01-22T00:00:00\",\"2024-01-29T00:00:00\",\"2024-02-05T00:00:00\",\"2024-02-12T00:00:00\",\"2024-02-19T00:00:00\",\"2024-02-26T00:00:00\",\"2024-03-04T00:00:00\",\"2024-03-11T00:00:00\",\"2024-03-18T00:00:00\",\"2024-03-25T00:00:00\",\"2024-04-01T00:00:00\",\"2024-04-08T00:00:00\",\"2024-04-15T00:00:00\",\"2024-04-22T00:00:00\",\"2024-04-29T00:00:00\",\"2024-05-06T00:00:00\",\"2024-05-13T00:00:00\",\"2024-05-20T00:00:00\",\"2024-05-27T00:00:00\",\"2024-06-03T00:00:00\",\"2024-06-10T00:00:00\",\"2024-06-17T00:00:00\",\"2024-06-24T00:00:00\",\"2024-07-01T00:00:00\",\"2024-07-08T00:00:00\",\"2024-07-15T00:00:00\",\"2024-07-22T00:00:00\",\"2024-07-29T00:00:00\",\"2024-08-05T00:00:00\",\"2024-08-12T00:00:00\",\"2024-08-19T00:00:00\",\"2024-08-26T00:00:00\",\"2024-09-02T00:00:00\",\"2024-09-09T00:00:00\",\"2024-09-16T00:00:00\",\"2024-09-23T00:00:00\",\"2024-09-30T00:00:00\",\"2024-10-07T00:00:00\",\"2024-10-14T00:00:00\",\"2024-10-21T00:00:00\",\"2024-10-28T00:00:00\",\"2024-11-04T00:00:00\",\"2024-11-11T00:00:00\",\"2024-11-18T00:00:00\",\"2024-11-25T00:00:00\"],\"xaxis\":\"x\",\"y\":[628,296,188,95,286,142,1111,80,156,131,268,108,130,213,318,85,347,165,103,45,87,59,449,384,267,1187,41,59,173,203,115,9310,26399,1136,375,793,1826,216,1203,136,229,575,710,1065,4006,11695,4448,1028],\"yaxis\":\"y\",\"type\":\"scatter\"}],                        {\"template\":{\"data\":{\"barpolar\":[{\"marker\":{\"line\":{\"color\":\"white\",\"width\":0.5},\"pattern\":{\"fillmode\":\"overlay\",\"size\":10,\"solidity\":0.2}},\"type\":\"barpolar\"}],\"bar\":[{\"error_x\":{\"color\":\"#2a3f5f\"},\"error_y\":{\"color\":\"#2a3f5f\"},\"marker\":{\"line\":{\"color\":\"white\",\"width\":0.5},\"pattern\":{\"fillmode\":\"overlay\",\"size\":10,\"solidity\":0.2}},\"type\":\"bar\"}],\"carpet\":[{\"aaxis\":{\"endlinecolor\":\"#2a3f5f\",\"gridcolor\":\"#C8D4E3\",\"linecolor\":\"#C8D4E3\",\"minorgridcolor\":\"#C8D4E3\",\"startlinecolor\":\"#2a3f5f\"},\"baxis\":{\"endlinecolor\":\"#2a3f5f\",\"gridcolor\":\"#C8D4E3\",\"linecolor\":\"#C8D4E3\",\"minorgridcolor\":\"#C8D4E3\",\"startlinecolor\":\"#2a3f5f\"},\"type\":\"carpet\"}],\"choropleth\":[{\"colorbar\":{\"outlinewidth\":0,\"ticks\":\"\"},\"type\":\"choropleth\"}],\"contourcarpet\":[{\"colorbar\":{\"outlinewidth\":0,\"ticks\":\"\"},\"type\":\"contourcarpet\"}],\"contour\":[{\"colorbar\":{\"outlinewidth\":0,\"ticks\":\"\"},\"colorscale\":[[0.0,\"#0d0887\"],[0.1111111111111111,\"#46039f\"],[0.2222222222222222,\"#7201a8\"],[0.3333333333333333,\"#9c179e\"],[0.4444444444444444,\"#bd3786\"],[0.5555555555555556,\"#d8576b\"],[0.6666666666666666,\"#ed7953\"],[0.7777777777777778,\"#fb9f3a\"],[0.8888888888888888,\"#fdca26\"],[1.0,\"#f0f921\"]],\"type\":\"contour\"}],\"heatmapgl\":[{\"colorbar\":{\"outlinewidth\":0,\"ticks\":\"\"},\"colorscale\":[[0.0,\"#0d0887\"],[0.1111111111111111,\"#46039f\"],[0.2222222222222222,\"#7201a8\"],[0.3333333333333333,\"#9c179e\"],[0.4444444444444444,\"#bd3786\"],[0.5555555555555556,\"#d8576b\"],[0.6666666666666666,\"#ed7953\"],[0.7777777777777778,\"#fb9f3a\"],[0.8888888888888888,\"#fdca26\"],[1.0,\"#f0f921\"]],\"type\":\"heatmapgl\"}],\"heatmap\":[{\"colorbar\":{\"outlinewidth\":0,\"ticks\":\"\"},\"colorscale\":[[0.0,\"#0d0887\"],[0.1111111111111111,\"#46039f\"],[0.2222222222222222,\"#7201a8\"],[0.3333333333333333,\"#9c179e\"],[0.4444444444444444,\"#bd3786\"],[0.5555555555555556,\"#d8576b\"],[0.6666666666666666,\"#ed7953\"],[0.7777777777777778,\"#fb9f3a\"],[0.8888888888888888,\"#fdca26\"],[1.0,\"#f0f921\"]],\"type\":\"heatmap\"}],\"histogram2dcontour\":[{\"colorbar\":{\"outlinewidth\":0,\"ticks\":\"\"},\"colorscale\":[[0.0,\"#0d0887\"],[0.1111111111111111,\"#46039f\"],[0.2222222222222222,\"#7201a8\"],[0.3333333333333333,\"#9c179e\"],[0.4444444444444444,\"#bd3786\"],[0.5555555555555556,\"#d8576b\"],[0.6666666666666666,\"#ed7953\"],[0.7777777777777778,\"#fb9f3a\"],[0.8888888888888888,\"#fdca26\"],[1.0,\"#f0f921\"]],\"type\":\"histogram2dcontour\"}],\"histogram2d\":[{\"colorbar\":{\"outlinewidth\":0,\"ticks\":\"\"},\"colorscale\":[[0.0,\"#0d0887\"],[0.1111111111111111,\"#46039f\"],[0.2222222222222222,\"#7201a8\"],[0.3333333333333333,\"#9c179e\"],[0.4444444444444444,\"#bd3786\"],[0.5555555555555556,\"#d8576b\"],[0.6666666666666666,\"#ed7953\"],[0.7777777777777778,\"#fb9f3a\"],[0.8888888888888888,\"#fdca26\"],[1.0,\"#f0f921\"]],\"type\":\"histogram2d\"}],\"histogram\":[{\"marker\":{\"pattern\":{\"fillmode\":\"overlay\",\"size\":10,\"solidity\":0.2}},\"type\":\"histogram\"}],\"mesh3d\":[{\"colorbar\":{\"outlinewidth\":0,\"ticks\":\"\"},\"type\":\"mesh3d\"}],\"parcoords\":[{\"line\":{\"colorbar\":{\"outlinewidth\":0,\"ticks\":\"\"}},\"type\":\"parcoords\"}],\"pie\":[{\"automargin\":true,\"type\":\"pie\"}],\"scatter3d\":[{\"line\":{\"colorbar\":{\"outlinewidth\":0,\"ticks\":\"\"}},\"marker\":{\"colorbar\":{\"outlinewidth\":0,\"ticks\":\"\"}},\"type\":\"scatter3d\"}],\"scattercarpet\":[{\"marker\":{\"colorbar\":{\"outlinewidth\":0,\"ticks\":\"\"}},\"type\":\"scattercarpet\"}],\"scattergeo\":[{\"marker\":{\"colorbar\":{\"outlinewidth\":0,\"ticks\":\"\"}},\"type\":\"scattergeo\"}],\"scattergl\":[{\"marker\":{\"colorbar\":{\"outlinewidth\":0,\"ticks\":\"\"}},\"type\":\"scattergl\"}],\"scattermapbox\":[{\"marker\":{\"colorbar\":{\"outlinewidth\":0,\"ticks\":\"\"}},\"type\":\"scattermapbox\"}],\"scatterpolargl\":[{\"marker\":{\"colorbar\":{\"outlinewidth\":0,\"ticks\":\"\"}},\"type\":\"scatterpolargl\"}],\"scatterpolar\":[{\"marker\":{\"colorbar\":{\"outlinewidth\":0,\"ticks\":\"\"}},\"type\":\"scatterpolar\"}],\"scatter\":[{\"fillpattern\":{\"fillmode\":\"overlay\",\"size\":10,\"solidity\":0.2},\"type\":\"scatter\"}],\"scatterternary\":[{\"marker\":{\"colorbar\":{\"outlinewidth\":0,\"ticks\":\"\"}},\"type\":\"scatterternary\"}],\"surface\":[{\"colorbar\":{\"outlinewidth\":0,\"ticks\":\"\"},\"colorscale\":[[0.0,\"#0d0887\"],[0.1111111111111111,\"#46039f\"],[0.2222222222222222,\"#7201a8\"],[0.3333333333333333,\"#9c179e\"],[0.4444444444444444,\"#bd3786\"],[0.5555555555555556,\"#d8576b\"],[0.6666666666666666,\"#ed7953\"],[0.7777777777777778,\"#fb9f3a\"],[0.8888888888888888,\"#fdca26\"],[1.0,\"#f0f921\"]],\"type\":\"surface\"}],\"table\":[{\"cells\":{\"fill\":{\"color\":\"#EBF0F8\"},\"line\":{\"color\":\"white\"}},\"header\":{\"fill\":{\"color\":\"#C8D4E3\"},\"line\":{\"color\":\"white\"}},\"type\":\"table\"}]},\"layout\":{\"annotationdefaults\":{\"arrowcolor\":\"#2a3f5f\",\"arrowhead\":0,\"arrowwidth\":1},\"autotypenumbers\":\"strict\",\"coloraxis\":{\"colorbar\":{\"outlinewidth\":0,\"ticks\":\"\"}},\"colorscale\":{\"diverging\":[[0,\"#8e0152\"],[0.1,\"#c51b7d\"],[0.2,\"#de77ae\"],[0.3,\"#f1b6da\"],[0.4,\"#fde0ef\"],[0.5,\"#f7f7f7\"],[0.6,\"#e6f5d0\"],[0.7,\"#b8e186\"],[0.8,\"#7fbc41\"],[0.9,\"#4d9221\"],[1,\"#276419\"]],\"sequential\":[[0.0,\"#0d0887\"],[0.1111111111111111,\"#46039f\"],[0.2222222222222222,\"#7201a8\"],[0.3333333333333333,\"#9c179e\"],[0.4444444444444444,\"#bd3786\"],[0.5555555555555556,\"#d8576b\"],[0.6666666666666666,\"#ed7953\"],[0.7777777777777778,\"#fb9f3a\"],[0.8888888888888888,\"#fdca26\"],[1.0,\"#f0f921\"]],\"sequentialminus\":[[0.0,\"#0d0887\"],[0.1111111111111111,\"#46039f\"],[0.2222222222222222,\"#7201a8\"],[0.3333333333333333,\"#9c179e\"],[0.4444444444444444,\"#bd3786\"],[0.5555555555555556,\"#d8576b\"],[0.6666666666666666,\"#ed7953\"],[0.7777777777777778,\"#fb9f3a\"],[0.8888888888888888,\"#fdca26\"],[1.0,\"#f0f921\"]]},\"colorway\":[\"#636efa\",\"#EF553B\",\"#00cc96\",\"#ab63fa\",\"#FFA15A\",\"#19d3f3\",\"#FF6692\",\"#B6E880\",\"#FF97FF\",\"#FECB52\"],\"font\":{\"color\":\"#2a3f5f\"},\"geo\":{\"bgcolor\":\"white\",\"lakecolor\":\"white\",\"landcolor\":\"white\",\"showlakes\":true,\"showland\":true,\"subunitcolor\":\"#C8D4E3\"},\"hoverlabel\":{\"align\":\"left\"},\"hovermode\":\"closest\",\"mapbox\":{\"style\":\"light\"},\"paper_bgcolor\":\"white\",\"plot_bgcolor\":\"white\",\"polar\":{\"angularaxis\":{\"gridcolor\":\"#EBF0F8\",\"linecolor\":\"#EBF0F8\",\"ticks\":\"\"},\"bgcolor\":\"white\",\"radialaxis\":{\"gridcolor\":\"#EBF0F8\",\"linecolor\":\"#EBF0F8\",\"ticks\":\"\"}},\"scene\":{\"xaxis\":{\"backgroundcolor\":\"white\",\"gridcolor\":\"#DFE8F3\",\"gridwidth\":2,\"linecolor\":\"#EBF0F8\",\"showbackground\":true,\"ticks\":\"\",\"zerolinecolor\":\"#EBF0F8\"},\"yaxis\":{\"backgroundcolor\":\"white\",\"gridcolor\":\"#DFE8F3\",\"gridwidth\":2,\"linecolor\":\"#EBF0F8\",\"showbackground\":true,\"ticks\":\"\",\"zerolinecolor\":\"#EBF0F8\"},\"zaxis\":{\"backgroundcolor\":\"white\",\"gridcolor\":\"#DFE8F3\",\"gridwidth\":2,\"linecolor\":\"#EBF0F8\",\"showbackground\":true,\"ticks\":\"\",\"zerolinecolor\":\"#EBF0F8\"}},\"shapedefaults\":{\"line\":{\"color\":\"#2a3f5f\"}},\"ternary\":{\"aaxis\":{\"gridcolor\":\"#DFE8F3\",\"linecolor\":\"#A2B1C6\",\"ticks\":\"\"},\"baxis\":{\"gridcolor\":\"#DFE8F3\",\"linecolor\":\"#A2B1C6\",\"ticks\":\"\"},\"bgcolor\":\"white\",\"caxis\":{\"gridcolor\":\"#DFE8F3\",\"linecolor\":\"#A2B1C6\",\"ticks\":\"\"}},\"title\":{\"x\":0.05},\"xaxis\":{\"automargin\":true,\"gridcolor\":\"#EBF0F8\",\"linecolor\":\"#EBF0F8\",\"ticks\":\"\",\"title\":{\"standoff\":15},\"zerolinecolor\":\"#EBF0F8\",\"zerolinewidth\":2},\"yaxis\":{\"automargin\":true,\"gridcolor\":\"#EBF0F8\",\"linecolor\":\"#EBF0F8\",\"ticks\":\"\",\"title\":{\"standoff\":15},\"zerolinecolor\":\"#EBF0F8\",\"zerolinewidth\":2}}},\"xaxis\":{\"anchor\":\"y\",\"domain\":[0.0,1.0],\"title\":{\"text\":\"Semaines de 2024\"},\"showline\":true,\"linecolor\":\"gray\",\"linewidth\":0.5,\"mirror\":true,\"showgrid\":true,\"gridcolor\":\"lightgray\",\"tickmode\":\"linear\",\"dtick\":\"M1\",\"tickformat\":\"%b %Y\",\"range\":[\"2024-01-01T00:00:00\",\"2024-11-25T00:00:00\"]},\"yaxis\":{\"anchor\":\"x\",\"domain\":[0.0,1.0],\"title\":{\"text\":\"Total des interactions\"},\"showline\":true,\"linewidth\":0.5,\"linecolor\":\"black\",\"mirror\":true,\"showgrid\":true,\"gridcolor\":\"lightgray\"},\"legend\":{\"title\":{\"text\":\"Type d'interaction\"},\"tracegroupgap\":0,\"x\":0.01,\"y\":0.99,\"bgcolor\":\"rgba(255,255,255,0.7)\",\"bordercolor\":\"black\",\"borderwidth\":1},\"title\":{\"text\":\"Total des interactions par semaine\"},\"width\":1200,\"height\":600,\"hovermode\":\"x unified\"},                        {\"responsive\": true}                    ).then(function(){\n",
       "                            \n",
       "var gd = document.getElementById('1a74f5ee-9166-48d9-a1fb-556af8f61c0a');\n",
       "var x = new MutationObserver(function (mutations, observer) {{\n",
       "        var display = window.getComputedStyle(gd).display;\n",
       "        if (!display || display === 'none') {{\n",
       "            console.log([gd, 'removed!']);\n",
       "            Plotly.purge(gd);\n",
       "            observer.disconnect();\n",
       "        }}\n",
       "}});\n",
       "\n",
       "// Listen for the removal of the full notebook cells\n",
       "var notebookContainer = gd.closest('#notebook-container');\n",
       "if (notebookContainer) {{\n",
       "    x.observe(notebookContainer, {childList: true});\n",
       "}}\n",
       "\n",
       "// Listen for the clearing of the current output cell\n",
       "var outputEl = gd.closest('.output');\n",
       "if (outputEl) {{\n",
       "    x.observe(outputEl, {childList: true});\n",
       "}}\n",
       "\n",
       "                        })                };                });            </script>        </div>"
      ]
     },
     "metadata": {},
     "output_type": "display_data"
    }
   ],
   "source": [
    "\n",
    "# On groupe les interactions par semaine en faisant le total\n",
    "weekly_stats = df.groupby('YearWeek').agg(\n",
    "    TotalLikes=('Likes', 'sum'),\n",
    "    TotalRepost=('Repost', 'sum'),\n",
    "    TotalComments=('Comments', 'sum'),\n",
    "    NombreTweets=('YearWeek', 'size')\n",
    ").reset_index()\n",
    "\n",
    "# on convertit YearWeek en dates réelles \n",
    "weekly_stats['Date'] = pd.to_datetime(weekly_stats['YearWeek'] + '-1', format='%Y-%U-%w')\n",
    "\n",
    "# Mettre les données au format \"long\", nécessaire pour plotly\n",
    "long_format = weekly_stats.melt(\n",
    "    id_vars=['Date'], \n",
    "    value_vars=['TotalLikes', 'TotalRepost', 'TotalComments'], \n",
    "    var_name='Interaction', \n",
    "    value_name='Valeur'\n",
    ")\n",
    "\n",
    "# Remplacer les noms des interactions pour qu'ils apparaissent dans la légende\n",
    "long_format['Interaction'] = long_format['Interaction'].replace({\n",
    "    'TotalLikes': 'Total des likes',\n",
    "    'TotalRepost': 'Total des retweets',\n",
    "    'TotalComments': 'Total des commentaires'\n",
    "})\n",
    "\n",
    "# Création du graphique avec Plotly\n",
    "fig = px.line(\n",
    "    long_format, \n",
    "    x='Date', \n",
    "    y='Valeur', \n",
    "    color='Interaction', \n",
    "    markers=True,\n",
    "    title='Total des interactions par semaine',\n",
    "    labels={'Valeur': 'Total des interactions', 'Date': 'Date', 'Interaction': 'Type d\\'interaction'}\n",
    ")\n",
    "\n",
    "# Personnalisation des axes et de la mise en page et affichage des mois\n",
    "fig.update_xaxes(\n",
    "    title=\"Semaines de 2024\",\n",
    "    showline=True,\n",
    "    linecolor=\"gray\",\n",
    "    linewidth=0.5,\n",
    "    mirror=True,\n",
    "    showgrid=True,\n",
    "    gridcolor=\"lightgray\",\n",
    "    tickmode=\"linear\",\n",
    "    dtick=\"M1\",  # Espacement d'un mois\n",
    "    tickformat=\"%b %Y\",  # Format mois-année\n",
    "    range=[weekly_stats['Date'].min(), weekly_stats['Date'].max()]  # plage des dates\n",
    ")\n",
    "\n",
    "fig.update_yaxes(\n",
    "    showline=True,\n",
    "    linewidth=0.5,\n",
    "    linecolor=\"black\",\n",
    "    mirror=True,\n",
    "    showgrid=True,\n",
    "    gridcolor='lightgray'\n",
    ")\n",
    "\n",
    "fig.update_layout(\n",
    "    width=1200,\n",
    "    height=600,\n",
    "    template='plotly_white',\n",
    "    hovermode=\"x unified\",\n",
    "    legend=dict(\n",
    "        title=\"Type d'interaction\",\n",
    "        x=0.01, y=0.99,\n",
    "        bgcolor='rgba(255,255,255,0.7)',\n",
    "        bordercolor='black',\n",
    "        borderwidth=1\n",
    "    )\n",
    ")\n",
    "\n",
    "# Afficher le graphique\n",
    "fig.show()"
   ]
  },
  {
   "cell_type": "markdown",
   "metadata": {},
   "source": [
    "Ce graphique permet de se rendre compte de la structure des interactions : la courbe des likes est toujours au dessus, ce qui n'est pas étonnant au vu du moindre engagement dont témoigne le fait de liker. Face à cela, nous avons décidé de nous ramener à une même échelle pour comparer les fluctuations des interactions, et non leur valeur en soi.\n",
    "\n",
    "### 2.2. Normalisation au total et en moyenne des interactions \n",
    "\n",
    "Nous avons normalisé l'échelle par rapport au maximum des valeurs prises par TotalLikes, TotalRepost et TotalComments : toutes les valeurs prises s'échelonnent de 0 à 1, où 1 correspond au maximum pris par les variables.\n",
    "\n",
    "Nous faisons cela pour les valeurs totales, puis pour les valeurs moyennées par le nombre de tweets par semaine."
   ]
  },
  {
   "cell_type": "code",
   "execution_count": 11,
   "metadata": {},
   "outputs": [
    {
     "data": {
      "application/vnd.plotly.v1+json": {
       "config": {
        "plotlyServerURL": "https://plot.ly"
       },
       "data": [
        {
         "hovertemplate": "Type d'interaction=Total des likes normalisé<br>Date=%{x}<br>Valeur Normalisée=%{y}<extra></extra>",
         "legendgroup": "Total des likes normalisé",
         "line": {
          "color": "#FFA07A",
          "dash": "solid"
         },
         "marker": {
          "symbol": "circle"
         },
         "mode": "lines+markers",
         "name": "Total des likes normalisé",
         "orientation": "v",
         "showlegend": true,
         "type": "scatter",
         "x": [
          "2024-01-01T00:00:00",
          "2024-01-08T00:00:00",
          "2024-01-15T00:00:00",
          "2024-01-22T00:00:00",
          "2024-01-29T00:00:00",
          "2024-02-05T00:00:00",
          "2024-02-12T00:00:00",
          "2024-02-19T00:00:00",
          "2024-02-26T00:00:00",
          "2024-03-04T00:00:00",
          "2024-03-11T00:00:00",
          "2024-03-18T00:00:00",
          "2024-03-25T00:00:00",
          "2024-04-01T00:00:00",
          "2024-04-08T00:00:00",
          "2024-04-15T00:00:00",
          "2024-04-22T00:00:00",
          "2024-04-29T00:00:00",
          "2024-05-06T00:00:00",
          "2024-05-13T00:00:00",
          "2024-05-20T00:00:00",
          "2024-05-27T00:00:00",
          "2024-06-03T00:00:00",
          "2024-06-10T00:00:00",
          "2024-06-17T00:00:00",
          "2024-06-24T00:00:00",
          "2024-07-01T00:00:00",
          "2024-07-08T00:00:00",
          "2024-07-15T00:00:00",
          "2024-07-22T00:00:00",
          "2024-07-29T00:00:00",
          "2024-08-05T00:00:00",
          "2024-08-12T00:00:00",
          "2024-08-19T00:00:00",
          "2024-08-26T00:00:00",
          "2024-09-02T00:00:00",
          "2024-09-09T00:00:00",
          "2024-09-16T00:00:00",
          "2024-09-23T00:00:00",
          "2024-09-30T00:00:00",
          "2024-10-07T00:00:00",
          "2024-10-14T00:00:00",
          "2024-10-21T00:00:00",
          "2024-10-28T00:00:00",
          "2024-11-04T00:00:00",
          "2024-11-11T00:00:00",
          "2024-11-18T00:00:00",
          "2024-11-25T00:00:00"
         ],
         "xaxis": "x",
         "y": [
          0.057154493619332065,
          0.029161010046158023,
          0.022074395872929677,
          0.007086614173228346,
          0.02647298398045072,
          0.022780342112408362,
          0.3253597610643497,
          0.008770024436600597,
          0.05131686125441216,
          0.028753733369535704,
          0.03288080369264187,
          0.0170784686396959,
          0.02891664404018463,
          0.0204452891664404,
          0.02204724409448819,
          0.0170784686396959,
          0.10724952484387727,
          0.030057018734727124,
          0.015476513711648113,
          0.042954113494433885,
          0.018734727124626663,
          0.011892478957371708,
          0.0487645940809123,
          0.03035568829758349,
          0.046076568015204995,
          0.925821341297855,
          0.004181373879989139,
          0.0028237849579147434,
          0.03570458865055661,
          0.0319033396687483,
          0.02177572631007331,
          1,
          0.8438772739614445,
          0.47358131957643224,
          0.0966331794732555,
          0.08498506652185718,
          0.1377952755905512,
          0.031740428998099375,
          0.12918816182459952,
          0.034346999728482215,
          0.03627477599782786,
          0.21178387184360575,
          0.16350800977464025,
          0.5614716263915287,
          0.29266901982079824,
          0.9061906054846592,
          0.19739342926961717,
          0.151696986152593
         ],
         "yaxis": "y"
        },
        {
         "hovertemplate": "Type d'interaction=Total des retweets normalisé<br>Date=%{x}<br>Valeur Normalisée=%{y}<extra></extra>",
         "legendgroup": "Total des retweets normalisé",
         "line": {
          "color": "#87CEEB",
          "dash": "solid"
         },
         "marker": {
          "symbol": "circle"
         },
         "mode": "lines+markers",
         "name": "Total des retweets normalisé",
         "orientation": "v",
         "showlegend": true,
         "type": "scatter",
         "x": [
          "2024-01-01T00:00:00",
          "2024-01-08T00:00:00",
          "2024-01-15T00:00:00",
          "2024-01-22T00:00:00",
          "2024-01-29T00:00:00",
          "2024-02-05T00:00:00",
          "2024-02-12T00:00:00",
          "2024-02-19T00:00:00",
          "2024-02-26T00:00:00",
          "2024-03-04T00:00:00",
          "2024-03-11T00:00:00",
          "2024-03-18T00:00:00",
          "2024-03-25T00:00:00",
          "2024-04-01T00:00:00",
          "2024-04-08T00:00:00",
          "2024-04-15T00:00:00",
          "2024-04-22T00:00:00",
          "2024-04-29T00:00:00",
          "2024-05-06T00:00:00",
          "2024-05-13T00:00:00",
          "2024-05-20T00:00:00",
          "2024-05-27T00:00:00",
          "2024-06-03T00:00:00",
          "2024-06-10T00:00:00",
          "2024-06-17T00:00:00",
          "2024-06-24T00:00:00",
          "2024-07-01T00:00:00",
          "2024-07-08T00:00:00",
          "2024-07-15T00:00:00",
          "2024-07-22T00:00:00",
          "2024-07-29T00:00:00",
          "2024-08-05T00:00:00",
          "2024-08-12T00:00:00",
          "2024-08-19T00:00:00",
          "2024-08-26T00:00:00",
          "2024-09-02T00:00:00",
          "2024-09-09T00:00:00",
          "2024-09-16T00:00:00",
          "2024-09-23T00:00:00",
          "2024-09-30T00:00:00",
          "2024-10-07T00:00:00",
          "2024-10-14T00:00:00",
          "2024-10-21T00:00:00",
          "2024-10-28T00:00:00",
          "2024-11-04T00:00:00",
          "2024-11-11T00:00:00",
          "2024-11-18T00:00:00",
          "2024-11-25T00:00:00"
         ],
         "xaxis": "x",
         "y": [
          0.02648347272003186,
          0.05077658303464755,
          0.00544271870436745,
          0.002588610115491836,
          0.011217310500464622,
          0.013805920615956459,
          0.06902960307978229,
          0.006239214124518784,
          0.019646887030399574,
          0.0047789725209080045,
          0.009956192751891677,
          0.007234833399707952,
          0.013075799814151069,
          0.006703836452940396,
          0.006637461834594451,
          0.005309969467675561,
          0.03338643302801009,
          0.017987521571750962,
          0.007566706491437674,
          0.03750165936545865,
          0.004978096375945838,
          0.0035842293906810036,
          0.01825302004513474,
          0.02840833665206425,
          0.017987521571750962,
          1,
          0.0011947431302270011,
          0.0007964954201513341,
          0.007234833399707952,
          0.011814682065578123,
          0.008628700384972786,
          0.5244922341696535,
          0.5272799681401832,
          0.19016328156113102,
          0.03106332138590203,
          0.03643966547192354,
          0.040488517191026155,
          0.018452143900172573,
          0.21797424664808177,
          0.01838576928182663,
          0.013739545997610514,
          0.04208150803132882,
          0.04971458914111244,
          0.2935085623257666,
          0.11954068764104607,
          0.35039161024824106,
          0.08296827293243064,
          0.056683924067436615
         ],
         "yaxis": "y"
        },
        {
         "hovertemplate": "Type d'interaction=Total des commentaires normalisé<br>Date=%{x}<br>Valeur Normalisée=%{y}<extra></extra>",
         "legendgroup": "Total des commentaires normalisé",
         "line": {
          "color": "#9370DB",
          "dash": "solid"
         },
         "marker": {
          "symbol": "circle"
         },
         "mode": "lines+markers",
         "name": "Total des commentaires normalisé",
         "orientation": "v",
         "showlegend": true,
         "type": "scatter",
         "x": [
          "2024-01-01T00:00:00",
          "2024-01-08T00:00:00",
          "2024-01-15T00:00:00",
          "2024-01-22T00:00:00",
          "2024-01-29T00:00:00",
          "2024-02-05T00:00:00",
          "2024-02-12T00:00:00",
          "2024-02-19T00:00:00",
          "2024-02-26T00:00:00",
          "2024-03-04T00:00:00",
          "2024-03-11T00:00:00",
          "2024-03-18T00:00:00",
          "2024-03-25T00:00:00",
          "2024-04-01T00:00:00",
          "2024-04-08T00:00:00",
          "2024-04-15T00:00:00",
          "2024-04-22T00:00:00",
          "2024-04-29T00:00:00",
          "2024-05-06T00:00:00",
          "2024-05-13T00:00:00",
          "2024-05-20T00:00:00",
          "2024-05-27T00:00:00",
          "2024-06-03T00:00:00",
          "2024-06-10T00:00:00",
          "2024-06-17T00:00:00",
          "2024-06-24T00:00:00",
          "2024-07-01T00:00:00",
          "2024-07-08T00:00:00",
          "2024-07-15T00:00:00",
          "2024-07-22T00:00:00",
          "2024-07-29T00:00:00",
          "2024-08-05T00:00:00",
          "2024-08-12T00:00:00",
          "2024-08-19T00:00:00",
          "2024-08-26T00:00:00",
          "2024-09-02T00:00:00",
          "2024-09-09T00:00:00",
          "2024-09-16T00:00:00",
          "2024-09-23T00:00:00",
          "2024-09-30T00:00:00",
          "2024-10-07T00:00:00",
          "2024-10-14T00:00:00",
          "2024-10-21T00:00:00",
          "2024-10-28T00:00:00",
          "2024-11-04T00:00:00",
          "2024-11-11T00:00:00",
          "2024-11-18T00:00:00",
          "2024-11-25T00:00:00"
         ],
         "xaxis": "x",
         "y": [
          0.023788779878025683,
          0.011212545929770067,
          0.007121481874313421,
          0.0035986211598924202,
          0.01083374370241297,
          0.005378991628470775,
          0.042084927459373464,
          0.003030417818856775,
          0.005909314746770711,
          0.0049623091783779685,
          0.010151899693170196,
          0.004091064055456646,
          0.0049244289556422596,
          0.008068487442706163,
          0.01204591082995568,
          0.0032198189325353234,
          0.013144437289291261,
          0.006250236751392098,
          0.0039016629417780975,
          0.001704610023106936,
          0.0032955793780067425,
          0.0022349331414068716,
          0.01700822000833365,
          0.01454600553051252,
          0.010114019470434487,
          0.044963824387287396,
          0.001553089132164097,
          0.0022349331414068716,
          0.006553278533277775,
          0.007689685215349067,
          0.004356225614606614,
          0.3526648736694572,
          1,
          0.0430319330277662,
          0.014205083525891133,
          0.03003901662941778,
          0.06916928671540588,
          0.008182128110913293,
          0.04556990795105875,
          0.005151710292056517,
          0.008674571006477519,
          0.02178112807303307,
          0.02689495814235388,
          0.04034243721353081,
          0.151748172279253,
          0.44300920489412476,
          0.1684912307284367,
          0.038940868972309556
         ],
         "yaxis": "y"
        }
       ],
       "layout": {
        "height": 600,
        "hovermode": "x unified",
        "legend": {
         "bgcolor": "rgba(255,255,255,0.7)",
         "bordercolor": "gray",
         "borderwidth": 0.5,
         "title": {
          "text": "Type d'interaction"
         },
         "tracegroupgap": 0,
         "x": 0.01,
         "y": 0.99
        },
        "plot_bgcolor": "white",
        "template": {
         "data": {
          "bar": [
           {
            "error_x": {
             "color": "#2a3f5f"
            },
            "error_y": {
             "color": "#2a3f5f"
            },
            "marker": {
             "line": {
              "color": "white",
              "width": 0.5
             },
             "pattern": {
              "fillmode": "overlay",
              "size": 10,
              "solidity": 0.2
             }
            },
            "type": "bar"
           }
          ],
          "barpolar": [
           {
            "marker": {
             "line": {
              "color": "white",
              "width": 0.5
             },
             "pattern": {
              "fillmode": "overlay",
              "size": 10,
              "solidity": 0.2
             }
            },
            "type": "barpolar"
           }
          ],
          "carpet": [
           {
            "aaxis": {
             "endlinecolor": "#2a3f5f",
             "gridcolor": "#C8D4E3",
             "linecolor": "#C8D4E3",
             "minorgridcolor": "#C8D4E3",
             "startlinecolor": "#2a3f5f"
            },
            "baxis": {
             "endlinecolor": "#2a3f5f",
             "gridcolor": "#C8D4E3",
             "linecolor": "#C8D4E3",
             "minorgridcolor": "#C8D4E3",
             "startlinecolor": "#2a3f5f"
            },
            "type": "carpet"
           }
          ],
          "choropleth": [
           {
            "colorbar": {
             "outlinewidth": 0,
             "ticks": ""
            },
            "type": "choropleth"
           }
          ],
          "contour": [
           {
            "colorbar": {
             "outlinewidth": 0,
             "ticks": ""
            },
            "colorscale": [
             [
              0,
              "#0d0887"
             ],
             [
              0.1111111111111111,
              "#46039f"
             ],
             [
              0.2222222222222222,
              "#7201a8"
             ],
             [
              0.3333333333333333,
              "#9c179e"
             ],
             [
              0.4444444444444444,
              "#bd3786"
             ],
             [
              0.5555555555555556,
              "#d8576b"
             ],
             [
              0.6666666666666666,
              "#ed7953"
             ],
             [
              0.7777777777777778,
              "#fb9f3a"
             ],
             [
              0.8888888888888888,
              "#fdca26"
             ],
             [
              1,
              "#f0f921"
             ]
            ],
            "type": "contour"
           }
          ],
          "contourcarpet": [
           {
            "colorbar": {
             "outlinewidth": 0,
             "ticks": ""
            },
            "type": "contourcarpet"
           }
          ],
          "heatmap": [
           {
            "colorbar": {
             "outlinewidth": 0,
             "ticks": ""
            },
            "colorscale": [
             [
              0,
              "#0d0887"
             ],
             [
              0.1111111111111111,
              "#46039f"
             ],
             [
              0.2222222222222222,
              "#7201a8"
             ],
             [
              0.3333333333333333,
              "#9c179e"
             ],
             [
              0.4444444444444444,
              "#bd3786"
             ],
             [
              0.5555555555555556,
              "#d8576b"
             ],
             [
              0.6666666666666666,
              "#ed7953"
             ],
             [
              0.7777777777777778,
              "#fb9f3a"
             ],
             [
              0.8888888888888888,
              "#fdca26"
             ],
             [
              1,
              "#f0f921"
             ]
            ],
            "type": "heatmap"
           }
          ],
          "heatmapgl": [
           {
            "colorbar": {
             "outlinewidth": 0,
             "ticks": ""
            },
            "colorscale": [
             [
              0,
              "#0d0887"
             ],
             [
              0.1111111111111111,
              "#46039f"
             ],
             [
              0.2222222222222222,
              "#7201a8"
             ],
             [
              0.3333333333333333,
              "#9c179e"
             ],
             [
              0.4444444444444444,
              "#bd3786"
             ],
             [
              0.5555555555555556,
              "#d8576b"
             ],
             [
              0.6666666666666666,
              "#ed7953"
             ],
             [
              0.7777777777777778,
              "#fb9f3a"
             ],
             [
              0.8888888888888888,
              "#fdca26"
             ],
             [
              1,
              "#f0f921"
             ]
            ],
            "type": "heatmapgl"
           }
          ],
          "histogram": [
           {
            "marker": {
             "pattern": {
              "fillmode": "overlay",
              "size": 10,
              "solidity": 0.2
             }
            },
            "type": "histogram"
           }
          ],
          "histogram2d": [
           {
            "colorbar": {
             "outlinewidth": 0,
             "ticks": ""
            },
            "colorscale": [
             [
              0,
              "#0d0887"
             ],
             [
              0.1111111111111111,
              "#46039f"
             ],
             [
              0.2222222222222222,
              "#7201a8"
             ],
             [
              0.3333333333333333,
              "#9c179e"
             ],
             [
              0.4444444444444444,
              "#bd3786"
             ],
             [
              0.5555555555555556,
              "#d8576b"
             ],
             [
              0.6666666666666666,
              "#ed7953"
             ],
             [
              0.7777777777777778,
              "#fb9f3a"
             ],
             [
              0.8888888888888888,
              "#fdca26"
             ],
             [
              1,
              "#f0f921"
             ]
            ],
            "type": "histogram2d"
           }
          ],
          "histogram2dcontour": [
           {
            "colorbar": {
             "outlinewidth": 0,
             "ticks": ""
            },
            "colorscale": [
             [
              0,
              "#0d0887"
             ],
             [
              0.1111111111111111,
              "#46039f"
             ],
             [
              0.2222222222222222,
              "#7201a8"
             ],
             [
              0.3333333333333333,
              "#9c179e"
             ],
             [
              0.4444444444444444,
              "#bd3786"
             ],
             [
              0.5555555555555556,
              "#d8576b"
             ],
             [
              0.6666666666666666,
              "#ed7953"
             ],
             [
              0.7777777777777778,
              "#fb9f3a"
             ],
             [
              0.8888888888888888,
              "#fdca26"
             ],
             [
              1,
              "#f0f921"
             ]
            ],
            "type": "histogram2dcontour"
           }
          ],
          "mesh3d": [
           {
            "colorbar": {
             "outlinewidth": 0,
             "ticks": ""
            },
            "type": "mesh3d"
           }
          ],
          "parcoords": [
           {
            "line": {
             "colorbar": {
              "outlinewidth": 0,
              "ticks": ""
             }
            },
            "type": "parcoords"
           }
          ],
          "pie": [
           {
            "automargin": true,
            "type": "pie"
           }
          ],
          "scatter": [
           {
            "fillpattern": {
             "fillmode": "overlay",
             "size": 10,
             "solidity": 0.2
            },
            "type": "scatter"
           }
          ],
          "scatter3d": [
           {
            "line": {
             "colorbar": {
              "outlinewidth": 0,
              "ticks": ""
             }
            },
            "marker": {
             "colorbar": {
              "outlinewidth": 0,
              "ticks": ""
             }
            },
            "type": "scatter3d"
           }
          ],
          "scattercarpet": [
           {
            "marker": {
             "colorbar": {
              "outlinewidth": 0,
              "ticks": ""
             }
            },
            "type": "scattercarpet"
           }
          ],
          "scattergeo": [
           {
            "marker": {
             "colorbar": {
              "outlinewidth": 0,
              "ticks": ""
             }
            },
            "type": "scattergeo"
           }
          ],
          "scattergl": [
           {
            "marker": {
             "colorbar": {
              "outlinewidth": 0,
              "ticks": ""
             }
            },
            "type": "scattergl"
           }
          ],
          "scattermapbox": [
           {
            "marker": {
             "colorbar": {
              "outlinewidth": 0,
              "ticks": ""
             }
            },
            "type": "scattermapbox"
           }
          ],
          "scatterpolar": [
           {
            "marker": {
             "colorbar": {
              "outlinewidth": 0,
              "ticks": ""
             }
            },
            "type": "scatterpolar"
           }
          ],
          "scatterpolargl": [
           {
            "marker": {
             "colorbar": {
              "outlinewidth": 0,
              "ticks": ""
             }
            },
            "type": "scatterpolargl"
           }
          ],
          "scatterternary": [
           {
            "marker": {
             "colorbar": {
              "outlinewidth": 0,
              "ticks": ""
             }
            },
            "type": "scatterternary"
           }
          ],
          "surface": [
           {
            "colorbar": {
             "outlinewidth": 0,
             "ticks": ""
            },
            "colorscale": [
             [
              0,
              "#0d0887"
             ],
             [
              0.1111111111111111,
              "#46039f"
             ],
             [
              0.2222222222222222,
              "#7201a8"
             ],
             [
              0.3333333333333333,
              "#9c179e"
             ],
             [
              0.4444444444444444,
              "#bd3786"
             ],
             [
              0.5555555555555556,
              "#d8576b"
             ],
             [
              0.6666666666666666,
              "#ed7953"
             ],
             [
              0.7777777777777778,
              "#fb9f3a"
             ],
             [
              0.8888888888888888,
              "#fdca26"
             ],
             [
              1,
              "#f0f921"
             ]
            ],
            "type": "surface"
           }
          ],
          "table": [
           {
            "cells": {
             "fill": {
              "color": "#EBF0F8"
             },
             "line": {
              "color": "white"
             }
            },
            "header": {
             "fill": {
              "color": "#C8D4E3"
             },
             "line": {
              "color": "white"
             }
            },
            "type": "table"
           }
          ]
         },
         "layout": {
          "annotationdefaults": {
           "arrowcolor": "#2a3f5f",
           "arrowhead": 0,
           "arrowwidth": 1
          },
          "autotypenumbers": "strict",
          "coloraxis": {
           "colorbar": {
            "outlinewidth": 0,
            "ticks": ""
           }
          },
          "colorscale": {
           "diverging": [
            [
             0,
             "#8e0152"
            ],
            [
             0.1,
             "#c51b7d"
            ],
            [
             0.2,
             "#de77ae"
            ],
            [
             0.3,
             "#f1b6da"
            ],
            [
             0.4,
             "#fde0ef"
            ],
            [
             0.5,
             "#f7f7f7"
            ],
            [
             0.6,
             "#e6f5d0"
            ],
            [
             0.7,
             "#b8e186"
            ],
            [
             0.8,
             "#7fbc41"
            ],
            [
             0.9,
             "#4d9221"
            ],
            [
             1,
             "#276419"
            ]
           ],
           "sequential": [
            [
             0,
             "#0d0887"
            ],
            [
             0.1111111111111111,
             "#46039f"
            ],
            [
             0.2222222222222222,
             "#7201a8"
            ],
            [
             0.3333333333333333,
             "#9c179e"
            ],
            [
             0.4444444444444444,
             "#bd3786"
            ],
            [
             0.5555555555555556,
             "#d8576b"
            ],
            [
             0.6666666666666666,
             "#ed7953"
            ],
            [
             0.7777777777777778,
             "#fb9f3a"
            ],
            [
             0.8888888888888888,
             "#fdca26"
            ],
            [
             1,
             "#f0f921"
            ]
           ],
           "sequentialminus": [
            [
             0,
             "#0d0887"
            ],
            [
             0.1111111111111111,
             "#46039f"
            ],
            [
             0.2222222222222222,
             "#7201a8"
            ],
            [
             0.3333333333333333,
             "#9c179e"
            ],
            [
             0.4444444444444444,
             "#bd3786"
            ],
            [
             0.5555555555555556,
             "#d8576b"
            ],
            [
             0.6666666666666666,
             "#ed7953"
            ],
            [
             0.7777777777777778,
             "#fb9f3a"
            ],
            [
             0.8888888888888888,
             "#fdca26"
            ],
            [
             1,
             "#f0f921"
            ]
           ]
          },
          "colorway": [
           "#636efa",
           "#EF553B",
           "#00cc96",
           "#ab63fa",
           "#FFA15A",
           "#19d3f3",
           "#FF6692",
           "#B6E880",
           "#FF97FF",
           "#FECB52"
          ],
          "font": {
           "color": "#2a3f5f"
          },
          "geo": {
           "bgcolor": "white",
           "lakecolor": "white",
           "landcolor": "white",
           "showlakes": true,
           "showland": true,
           "subunitcolor": "#C8D4E3"
          },
          "hoverlabel": {
           "align": "left"
          },
          "hovermode": "closest",
          "mapbox": {
           "style": "light"
          },
          "paper_bgcolor": "white",
          "plot_bgcolor": "white",
          "polar": {
           "angularaxis": {
            "gridcolor": "#EBF0F8",
            "linecolor": "#EBF0F8",
            "ticks": ""
           },
           "bgcolor": "white",
           "radialaxis": {
            "gridcolor": "#EBF0F8",
            "linecolor": "#EBF0F8",
            "ticks": ""
           }
          },
          "scene": {
           "xaxis": {
            "backgroundcolor": "white",
            "gridcolor": "#DFE8F3",
            "gridwidth": 2,
            "linecolor": "#EBF0F8",
            "showbackground": true,
            "ticks": "",
            "zerolinecolor": "#EBF0F8"
           },
           "yaxis": {
            "backgroundcolor": "white",
            "gridcolor": "#DFE8F3",
            "gridwidth": 2,
            "linecolor": "#EBF0F8",
            "showbackground": true,
            "ticks": "",
            "zerolinecolor": "#EBF0F8"
           },
           "zaxis": {
            "backgroundcolor": "white",
            "gridcolor": "#DFE8F3",
            "gridwidth": 2,
            "linecolor": "#EBF0F8",
            "showbackground": true,
            "ticks": "",
            "zerolinecolor": "#EBF0F8"
           }
          },
          "shapedefaults": {
           "line": {
            "color": "#2a3f5f"
           }
          },
          "ternary": {
           "aaxis": {
            "gridcolor": "#DFE8F3",
            "linecolor": "#A2B1C6",
            "ticks": ""
           },
           "baxis": {
            "gridcolor": "#DFE8F3",
            "linecolor": "#A2B1C6",
            "ticks": ""
           },
           "bgcolor": "white",
           "caxis": {
            "gridcolor": "#DFE8F3",
            "linecolor": "#A2B1C6",
            "ticks": ""
           }
          },
          "title": {
           "x": 0.05
          },
          "xaxis": {
           "automargin": true,
           "gridcolor": "#EBF0F8",
           "linecolor": "#EBF0F8",
           "ticks": "",
           "title": {
            "standoff": 15
           },
           "zerolinecolor": "#EBF0F8",
           "zerolinewidth": 2
          },
          "yaxis": {
           "automargin": true,
           "gridcolor": "#EBF0F8",
           "linecolor": "#EBF0F8",
           "ticks": "",
           "title": {
            "standoff": 15
           },
           "zerolinecolor": "#EBF0F8",
           "zerolinewidth": 2
          }
         }
        },
        "title": {
         "text": "Total des interactions par semaine (normalisées)"
        },
        "width": 1100,
        "xaxis": {
         "anchor": "y",
         "domain": [
          0,
          1
         ],
         "dtick": "M1",
         "gridcolor": "lightgray",
         "linecolor": "gray",
         "linewidth": 0.5,
         "mirror": true,
         "range": [
          "2024-01-01",
          "2024-11-25T00:00:00"
         ],
         "showgrid": true,
         "showline": true,
         "tickformat": "%b %Y",
         "tickmode": "linear",
         "title": {
          "text": "Semaines de 2024"
         }
        },
        "yaxis": {
         "anchor": "x",
         "domain": [
          0,
          1
         ],
         "gridcolor": "lightgray",
         "linecolor": "gray",
         "linewidth": 0.5,
         "mirror": true,
         "showgrid": true,
         "showline": false,
         "title": {
          "text": "Proportion par rapport au maximum"
         }
        }
       }
      },
      "text/html": [
       "<div>                            <div id=\"c9d6358d-361f-45b0-afb0-c42a22ff1740\" class=\"plotly-graph-div\" style=\"height:600px; width:1100px;\"></div>            <script type=\"text/javascript\">                require([\"plotly\"], function(Plotly) {                    window.PLOTLYENV=window.PLOTLYENV || {};                                    if (document.getElementById(\"c9d6358d-361f-45b0-afb0-c42a22ff1740\")) {                    Plotly.newPlot(                        \"c9d6358d-361f-45b0-afb0-c42a22ff1740\",                        [{\"hovertemplate\":\"Type d'interaction=Total des likes normalis\\u00e9\\u003cbr\\u003eDate=%{x}\\u003cbr\\u003eValeur Normalis\\u00e9e=%{y}\\u003cextra\\u003e\\u003c\\u002fextra\\u003e\",\"legendgroup\":\"Total des likes normalis\\u00e9\",\"line\":{\"color\":\"#FFA07A\",\"dash\":\"solid\"},\"marker\":{\"symbol\":\"circle\"},\"mode\":\"lines+markers\",\"name\":\"Total des likes normalis\\u00e9\",\"orientation\":\"v\",\"showlegend\":true,\"x\":[\"2024-01-01T00:00:00\",\"2024-01-08T00:00:00\",\"2024-01-15T00:00:00\",\"2024-01-22T00:00:00\",\"2024-01-29T00:00:00\",\"2024-02-05T00:00:00\",\"2024-02-12T00:00:00\",\"2024-02-19T00:00:00\",\"2024-02-26T00:00:00\",\"2024-03-04T00:00:00\",\"2024-03-11T00:00:00\",\"2024-03-18T00:00:00\",\"2024-03-25T00:00:00\",\"2024-04-01T00:00:00\",\"2024-04-08T00:00:00\",\"2024-04-15T00:00:00\",\"2024-04-22T00:00:00\",\"2024-04-29T00:00:00\",\"2024-05-06T00:00:00\",\"2024-05-13T00:00:00\",\"2024-05-20T00:00:00\",\"2024-05-27T00:00:00\",\"2024-06-03T00:00:00\",\"2024-06-10T00:00:00\",\"2024-06-17T00:00:00\",\"2024-06-24T00:00:00\",\"2024-07-01T00:00:00\",\"2024-07-08T00:00:00\",\"2024-07-15T00:00:00\",\"2024-07-22T00:00:00\",\"2024-07-29T00:00:00\",\"2024-08-05T00:00:00\",\"2024-08-12T00:00:00\",\"2024-08-19T00:00:00\",\"2024-08-26T00:00:00\",\"2024-09-02T00:00:00\",\"2024-09-09T00:00:00\",\"2024-09-16T00:00:00\",\"2024-09-23T00:00:00\",\"2024-09-30T00:00:00\",\"2024-10-07T00:00:00\",\"2024-10-14T00:00:00\",\"2024-10-21T00:00:00\",\"2024-10-28T00:00:00\",\"2024-11-04T00:00:00\",\"2024-11-11T00:00:00\",\"2024-11-18T00:00:00\",\"2024-11-25T00:00:00\"],\"xaxis\":\"x\",\"y\":[0.057154493619332065,0.029161010046158023,0.022074395872929677,0.007086614173228346,0.02647298398045072,0.022780342112408362,0.3253597610643497,0.008770024436600597,0.05131686125441216,0.028753733369535704,0.03288080369264187,0.0170784686396959,0.02891664404018463,0.0204452891664404,0.02204724409448819,0.0170784686396959,0.10724952484387727,0.030057018734727124,0.015476513711648113,0.042954113494433885,0.018734727124626663,0.011892478957371708,0.0487645940809123,0.03035568829758349,0.046076568015204995,0.925821341297855,0.004181373879989139,0.0028237849579147434,0.03570458865055661,0.0319033396687483,0.02177572631007331,1.0,0.8438772739614445,0.47358131957643224,0.0966331794732555,0.08498506652185718,0.1377952755905512,0.031740428998099375,0.12918816182459952,0.034346999728482215,0.03627477599782786,0.21178387184360575,0.16350800977464025,0.5614716263915287,0.29266901982079824,0.9061906054846592,0.19739342926961717,0.151696986152593],\"yaxis\":\"y\",\"type\":\"scatter\"},{\"hovertemplate\":\"Type d'interaction=Total des retweets normalis\\u00e9\\u003cbr\\u003eDate=%{x}\\u003cbr\\u003eValeur Normalis\\u00e9e=%{y}\\u003cextra\\u003e\\u003c\\u002fextra\\u003e\",\"legendgroup\":\"Total des retweets normalis\\u00e9\",\"line\":{\"color\":\"#87CEEB\",\"dash\":\"solid\"},\"marker\":{\"symbol\":\"circle\"},\"mode\":\"lines+markers\",\"name\":\"Total des retweets normalis\\u00e9\",\"orientation\":\"v\",\"showlegend\":true,\"x\":[\"2024-01-01T00:00:00\",\"2024-01-08T00:00:00\",\"2024-01-15T00:00:00\",\"2024-01-22T00:00:00\",\"2024-01-29T00:00:00\",\"2024-02-05T00:00:00\",\"2024-02-12T00:00:00\",\"2024-02-19T00:00:00\",\"2024-02-26T00:00:00\",\"2024-03-04T00:00:00\",\"2024-03-11T00:00:00\",\"2024-03-18T00:00:00\",\"2024-03-25T00:00:00\",\"2024-04-01T00:00:00\",\"2024-04-08T00:00:00\",\"2024-04-15T00:00:00\",\"2024-04-22T00:00:00\",\"2024-04-29T00:00:00\",\"2024-05-06T00:00:00\",\"2024-05-13T00:00:00\",\"2024-05-20T00:00:00\",\"2024-05-27T00:00:00\",\"2024-06-03T00:00:00\",\"2024-06-10T00:00:00\",\"2024-06-17T00:00:00\",\"2024-06-24T00:00:00\",\"2024-07-01T00:00:00\",\"2024-07-08T00:00:00\",\"2024-07-15T00:00:00\",\"2024-07-22T00:00:00\",\"2024-07-29T00:00:00\",\"2024-08-05T00:00:00\",\"2024-08-12T00:00:00\",\"2024-08-19T00:00:00\",\"2024-08-26T00:00:00\",\"2024-09-02T00:00:00\",\"2024-09-09T00:00:00\",\"2024-09-16T00:00:00\",\"2024-09-23T00:00:00\",\"2024-09-30T00:00:00\",\"2024-10-07T00:00:00\",\"2024-10-14T00:00:00\",\"2024-10-21T00:00:00\",\"2024-10-28T00:00:00\",\"2024-11-04T00:00:00\",\"2024-11-11T00:00:00\",\"2024-11-18T00:00:00\",\"2024-11-25T00:00:00\"],\"xaxis\":\"x\",\"y\":[0.02648347272003186,0.05077658303464755,0.00544271870436745,0.002588610115491836,0.011217310500464622,0.013805920615956459,0.06902960307978229,0.006239214124518784,0.019646887030399574,0.0047789725209080045,0.009956192751891677,0.007234833399707952,0.013075799814151069,0.006703836452940396,0.006637461834594451,0.005309969467675561,0.03338643302801009,0.017987521571750962,0.007566706491437674,0.03750165936545865,0.004978096375945838,0.0035842293906810036,0.01825302004513474,0.02840833665206425,0.017987521571750962,1.0,0.0011947431302270011,0.0007964954201513341,0.007234833399707952,0.011814682065578123,0.008628700384972786,0.5244922341696535,0.5272799681401832,0.19016328156113102,0.03106332138590203,0.03643966547192354,0.040488517191026155,0.018452143900172573,0.21797424664808177,0.01838576928182663,0.013739545997610514,0.04208150803132882,0.04971458914111244,0.2935085623257666,0.11954068764104607,0.35039161024824106,0.08296827293243064,0.056683924067436615],\"yaxis\":\"y\",\"type\":\"scatter\"},{\"hovertemplate\":\"Type d'interaction=Total des commentaires normalis\\u00e9\\u003cbr\\u003eDate=%{x}\\u003cbr\\u003eValeur Normalis\\u00e9e=%{y}\\u003cextra\\u003e\\u003c\\u002fextra\\u003e\",\"legendgroup\":\"Total des commentaires normalis\\u00e9\",\"line\":{\"color\":\"#9370DB\",\"dash\":\"solid\"},\"marker\":{\"symbol\":\"circle\"},\"mode\":\"lines+markers\",\"name\":\"Total des commentaires normalis\\u00e9\",\"orientation\":\"v\",\"showlegend\":true,\"x\":[\"2024-01-01T00:00:00\",\"2024-01-08T00:00:00\",\"2024-01-15T00:00:00\",\"2024-01-22T00:00:00\",\"2024-01-29T00:00:00\",\"2024-02-05T00:00:00\",\"2024-02-12T00:00:00\",\"2024-02-19T00:00:00\",\"2024-02-26T00:00:00\",\"2024-03-04T00:00:00\",\"2024-03-11T00:00:00\",\"2024-03-18T00:00:00\",\"2024-03-25T00:00:00\",\"2024-04-01T00:00:00\",\"2024-04-08T00:00:00\",\"2024-04-15T00:00:00\",\"2024-04-22T00:00:00\",\"2024-04-29T00:00:00\",\"2024-05-06T00:00:00\",\"2024-05-13T00:00:00\",\"2024-05-20T00:00:00\",\"2024-05-27T00:00:00\",\"2024-06-03T00:00:00\",\"2024-06-10T00:00:00\",\"2024-06-17T00:00:00\",\"2024-06-24T00:00:00\",\"2024-07-01T00:00:00\",\"2024-07-08T00:00:00\",\"2024-07-15T00:00:00\",\"2024-07-22T00:00:00\",\"2024-07-29T00:00:00\",\"2024-08-05T00:00:00\",\"2024-08-12T00:00:00\",\"2024-08-19T00:00:00\",\"2024-08-26T00:00:00\",\"2024-09-02T00:00:00\",\"2024-09-09T00:00:00\",\"2024-09-16T00:00:00\",\"2024-09-23T00:00:00\",\"2024-09-30T00:00:00\",\"2024-10-07T00:00:00\",\"2024-10-14T00:00:00\",\"2024-10-21T00:00:00\",\"2024-10-28T00:00:00\",\"2024-11-04T00:00:00\",\"2024-11-11T00:00:00\",\"2024-11-18T00:00:00\",\"2024-11-25T00:00:00\"],\"xaxis\":\"x\",\"y\":[0.023788779878025683,0.011212545929770067,0.007121481874313421,0.0035986211598924202,0.01083374370241297,0.005378991628470775,0.042084927459373464,0.003030417818856775,0.005909314746770711,0.0049623091783779685,0.010151899693170196,0.004091064055456646,0.0049244289556422596,0.008068487442706163,0.01204591082995568,0.0032198189325353234,0.013144437289291261,0.006250236751392098,0.0039016629417780975,0.001704610023106936,0.0032955793780067425,0.0022349331414068716,0.01700822000833365,0.01454600553051252,0.010114019470434487,0.044963824387287396,0.001553089132164097,0.0022349331414068716,0.006553278533277775,0.007689685215349067,0.004356225614606614,0.3526648736694572,1.0,0.0430319330277662,0.014205083525891133,0.03003901662941778,0.06916928671540588,0.008182128110913293,0.04556990795105875,0.005151710292056517,0.008674571006477519,0.02178112807303307,0.02689495814235388,0.04034243721353081,0.151748172279253,0.44300920489412476,0.1684912307284367,0.038940868972309556],\"yaxis\":\"y\",\"type\":\"scatter\"}],                        {\"template\":{\"data\":{\"barpolar\":[{\"marker\":{\"line\":{\"color\":\"white\",\"width\":0.5},\"pattern\":{\"fillmode\":\"overlay\",\"size\":10,\"solidity\":0.2}},\"type\":\"barpolar\"}],\"bar\":[{\"error_x\":{\"color\":\"#2a3f5f\"},\"error_y\":{\"color\":\"#2a3f5f\"},\"marker\":{\"line\":{\"color\":\"white\",\"width\":0.5},\"pattern\":{\"fillmode\":\"overlay\",\"size\":10,\"solidity\":0.2}},\"type\":\"bar\"}],\"carpet\":[{\"aaxis\":{\"endlinecolor\":\"#2a3f5f\",\"gridcolor\":\"#C8D4E3\",\"linecolor\":\"#C8D4E3\",\"minorgridcolor\":\"#C8D4E3\",\"startlinecolor\":\"#2a3f5f\"},\"baxis\":{\"endlinecolor\":\"#2a3f5f\",\"gridcolor\":\"#C8D4E3\",\"linecolor\":\"#C8D4E3\",\"minorgridcolor\":\"#C8D4E3\",\"startlinecolor\":\"#2a3f5f\"},\"type\":\"carpet\"}],\"choropleth\":[{\"colorbar\":{\"outlinewidth\":0,\"ticks\":\"\"},\"type\":\"choropleth\"}],\"contourcarpet\":[{\"colorbar\":{\"outlinewidth\":0,\"ticks\":\"\"},\"type\":\"contourcarpet\"}],\"contour\":[{\"colorbar\":{\"outlinewidth\":0,\"ticks\":\"\"},\"colorscale\":[[0.0,\"#0d0887\"],[0.1111111111111111,\"#46039f\"],[0.2222222222222222,\"#7201a8\"],[0.3333333333333333,\"#9c179e\"],[0.4444444444444444,\"#bd3786\"],[0.5555555555555556,\"#d8576b\"],[0.6666666666666666,\"#ed7953\"],[0.7777777777777778,\"#fb9f3a\"],[0.8888888888888888,\"#fdca26\"],[1.0,\"#f0f921\"]],\"type\":\"contour\"}],\"heatmapgl\":[{\"colorbar\":{\"outlinewidth\":0,\"ticks\":\"\"},\"colorscale\":[[0.0,\"#0d0887\"],[0.1111111111111111,\"#46039f\"],[0.2222222222222222,\"#7201a8\"],[0.3333333333333333,\"#9c179e\"],[0.4444444444444444,\"#bd3786\"],[0.5555555555555556,\"#d8576b\"],[0.6666666666666666,\"#ed7953\"],[0.7777777777777778,\"#fb9f3a\"],[0.8888888888888888,\"#fdca26\"],[1.0,\"#f0f921\"]],\"type\":\"heatmapgl\"}],\"heatmap\":[{\"colorbar\":{\"outlinewidth\":0,\"ticks\":\"\"},\"colorscale\":[[0.0,\"#0d0887\"],[0.1111111111111111,\"#46039f\"],[0.2222222222222222,\"#7201a8\"],[0.3333333333333333,\"#9c179e\"],[0.4444444444444444,\"#bd3786\"],[0.5555555555555556,\"#d8576b\"],[0.6666666666666666,\"#ed7953\"],[0.7777777777777778,\"#fb9f3a\"],[0.8888888888888888,\"#fdca26\"],[1.0,\"#f0f921\"]],\"type\":\"heatmap\"}],\"histogram2dcontour\":[{\"colorbar\":{\"outlinewidth\":0,\"ticks\":\"\"},\"colorscale\":[[0.0,\"#0d0887\"],[0.1111111111111111,\"#46039f\"],[0.2222222222222222,\"#7201a8\"],[0.3333333333333333,\"#9c179e\"],[0.4444444444444444,\"#bd3786\"],[0.5555555555555556,\"#d8576b\"],[0.6666666666666666,\"#ed7953\"],[0.7777777777777778,\"#fb9f3a\"],[0.8888888888888888,\"#fdca26\"],[1.0,\"#f0f921\"]],\"type\":\"histogram2dcontour\"}],\"histogram2d\":[{\"colorbar\":{\"outlinewidth\":0,\"ticks\":\"\"},\"colorscale\":[[0.0,\"#0d0887\"],[0.1111111111111111,\"#46039f\"],[0.2222222222222222,\"#7201a8\"],[0.3333333333333333,\"#9c179e\"],[0.4444444444444444,\"#bd3786\"],[0.5555555555555556,\"#d8576b\"],[0.6666666666666666,\"#ed7953\"],[0.7777777777777778,\"#fb9f3a\"],[0.8888888888888888,\"#fdca26\"],[1.0,\"#f0f921\"]],\"type\":\"histogram2d\"}],\"histogram\":[{\"marker\":{\"pattern\":{\"fillmode\":\"overlay\",\"size\":10,\"solidity\":0.2}},\"type\":\"histogram\"}],\"mesh3d\":[{\"colorbar\":{\"outlinewidth\":0,\"ticks\":\"\"},\"type\":\"mesh3d\"}],\"parcoords\":[{\"line\":{\"colorbar\":{\"outlinewidth\":0,\"ticks\":\"\"}},\"type\":\"parcoords\"}],\"pie\":[{\"automargin\":true,\"type\":\"pie\"}],\"scatter3d\":[{\"line\":{\"colorbar\":{\"outlinewidth\":0,\"ticks\":\"\"}},\"marker\":{\"colorbar\":{\"outlinewidth\":0,\"ticks\":\"\"}},\"type\":\"scatter3d\"}],\"scattercarpet\":[{\"marker\":{\"colorbar\":{\"outlinewidth\":0,\"ticks\":\"\"}},\"type\":\"scattercarpet\"}],\"scattergeo\":[{\"marker\":{\"colorbar\":{\"outlinewidth\":0,\"ticks\":\"\"}},\"type\":\"scattergeo\"}],\"scattergl\":[{\"marker\":{\"colorbar\":{\"outlinewidth\":0,\"ticks\":\"\"}},\"type\":\"scattergl\"}],\"scattermapbox\":[{\"marker\":{\"colorbar\":{\"outlinewidth\":0,\"ticks\":\"\"}},\"type\":\"scattermapbox\"}],\"scatterpolargl\":[{\"marker\":{\"colorbar\":{\"outlinewidth\":0,\"ticks\":\"\"}},\"type\":\"scatterpolargl\"}],\"scatterpolar\":[{\"marker\":{\"colorbar\":{\"outlinewidth\":0,\"ticks\":\"\"}},\"type\":\"scatterpolar\"}],\"scatter\":[{\"fillpattern\":{\"fillmode\":\"overlay\",\"size\":10,\"solidity\":0.2},\"type\":\"scatter\"}],\"scatterternary\":[{\"marker\":{\"colorbar\":{\"outlinewidth\":0,\"ticks\":\"\"}},\"type\":\"scatterternary\"}],\"surface\":[{\"colorbar\":{\"outlinewidth\":0,\"ticks\":\"\"},\"colorscale\":[[0.0,\"#0d0887\"],[0.1111111111111111,\"#46039f\"],[0.2222222222222222,\"#7201a8\"],[0.3333333333333333,\"#9c179e\"],[0.4444444444444444,\"#bd3786\"],[0.5555555555555556,\"#d8576b\"],[0.6666666666666666,\"#ed7953\"],[0.7777777777777778,\"#fb9f3a\"],[0.8888888888888888,\"#fdca26\"],[1.0,\"#f0f921\"]],\"type\":\"surface\"}],\"table\":[{\"cells\":{\"fill\":{\"color\":\"#EBF0F8\"},\"line\":{\"color\":\"white\"}},\"header\":{\"fill\":{\"color\":\"#C8D4E3\"},\"line\":{\"color\":\"white\"}},\"type\":\"table\"}]},\"layout\":{\"annotationdefaults\":{\"arrowcolor\":\"#2a3f5f\",\"arrowhead\":0,\"arrowwidth\":1},\"autotypenumbers\":\"strict\",\"coloraxis\":{\"colorbar\":{\"outlinewidth\":0,\"ticks\":\"\"}},\"colorscale\":{\"diverging\":[[0,\"#8e0152\"],[0.1,\"#c51b7d\"],[0.2,\"#de77ae\"],[0.3,\"#f1b6da\"],[0.4,\"#fde0ef\"],[0.5,\"#f7f7f7\"],[0.6,\"#e6f5d0\"],[0.7,\"#b8e186\"],[0.8,\"#7fbc41\"],[0.9,\"#4d9221\"],[1,\"#276419\"]],\"sequential\":[[0.0,\"#0d0887\"],[0.1111111111111111,\"#46039f\"],[0.2222222222222222,\"#7201a8\"],[0.3333333333333333,\"#9c179e\"],[0.4444444444444444,\"#bd3786\"],[0.5555555555555556,\"#d8576b\"],[0.6666666666666666,\"#ed7953\"],[0.7777777777777778,\"#fb9f3a\"],[0.8888888888888888,\"#fdca26\"],[1.0,\"#f0f921\"]],\"sequentialminus\":[[0.0,\"#0d0887\"],[0.1111111111111111,\"#46039f\"],[0.2222222222222222,\"#7201a8\"],[0.3333333333333333,\"#9c179e\"],[0.4444444444444444,\"#bd3786\"],[0.5555555555555556,\"#d8576b\"],[0.6666666666666666,\"#ed7953\"],[0.7777777777777778,\"#fb9f3a\"],[0.8888888888888888,\"#fdca26\"],[1.0,\"#f0f921\"]]},\"colorway\":[\"#636efa\",\"#EF553B\",\"#00cc96\",\"#ab63fa\",\"#FFA15A\",\"#19d3f3\",\"#FF6692\",\"#B6E880\",\"#FF97FF\",\"#FECB52\"],\"font\":{\"color\":\"#2a3f5f\"},\"geo\":{\"bgcolor\":\"white\",\"lakecolor\":\"white\",\"landcolor\":\"white\",\"showlakes\":true,\"showland\":true,\"subunitcolor\":\"#C8D4E3\"},\"hoverlabel\":{\"align\":\"left\"},\"hovermode\":\"closest\",\"mapbox\":{\"style\":\"light\"},\"paper_bgcolor\":\"white\",\"plot_bgcolor\":\"white\",\"polar\":{\"angularaxis\":{\"gridcolor\":\"#EBF0F8\",\"linecolor\":\"#EBF0F8\",\"ticks\":\"\"},\"bgcolor\":\"white\",\"radialaxis\":{\"gridcolor\":\"#EBF0F8\",\"linecolor\":\"#EBF0F8\",\"ticks\":\"\"}},\"scene\":{\"xaxis\":{\"backgroundcolor\":\"white\",\"gridcolor\":\"#DFE8F3\",\"gridwidth\":2,\"linecolor\":\"#EBF0F8\",\"showbackground\":true,\"ticks\":\"\",\"zerolinecolor\":\"#EBF0F8\"},\"yaxis\":{\"backgroundcolor\":\"white\",\"gridcolor\":\"#DFE8F3\",\"gridwidth\":2,\"linecolor\":\"#EBF0F8\",\"showbackground\":true,\"ticks\":\"\",\"zerolinecolor\":\"#EBF0F8\"},\"zaxis\":{\"backgroundcolor\":\"white\",\"gridcolor\":\"#DFE8F3\",\"gridwidth\":2,\"linecolor\":\"#EBF0F8\",\"showbackground\":true,\"ticks\":\"\",\"zerolinecolor\":\"#EBF0F8\"}},\"shapedefaults\":{\"line\":{\"color\":\"#2a3f5f\"}},\"ternary\":{\"aaxis\":{\"gridcolor\":\"#DFE8F3\",\"linecolor\":\"#A2B1C6\",\"ticks\":\"\"},\"baxis\":{\"gridcolor\":\"#DFE8F3\",\"linecolor\":\"#A2B1C6\",\"ticks\":\"\"},\"bgcolor\":\"white\",\"caxis\":{\"gridcolor\":\"#DFE8F3\",\"linecolor\":\"#A2B1C6\",\"ticks\":\"\"}},\"title\":{\"x\":0.05},\"xaxis\":{\"automargin\":true,\"gridcolor\":\"#EBF0F8\",\"linecolor\":\"#EBF0F8\",\"ticks\":\"\",\"title\":{\"standoff\":15},\"zerolinecolor\":\"#EBF0F8\",\"zerolinewidth\":2},\"yaxis\":{\"automargin\":true,\"gridcolor\":\"#EBF0F8\",\"linecolor\":\"#EBF0F8\",\"ticks\":\"\",\"title\":{\"standoff\":15},\"zerolinecolor\":\"#EBF0F8\",\"zerolinewidth\":2}}},\"xaxis\":{\"anchor\":\"y\",\"domain\":[0.0,1.0],\"title\":{\"text\":\"Semaines de 2024\"},\"showline\":true,\"linecolor\":\"gray\",\"linewidth\":0.5,\"mirror\":true,\"showgrid\":true,\"gridcolor\":\"lightgray\",\"tickmode\":\"linear\",\"dtick\":\"M1\",\"tickformat\":\"%b %Y\",\"range\":[\"2024-01-01\",\"2024-11-25T00:00:00\"]},\"yaxis\":{\"anchor\":\"x\",\"domain\":[0.0,1.0],\"title\":{\"text\":\"Proportion par rapport au maximum\"},\"showline\":false,\"linecolor\":\"gray\",\"linewidth\":0.5,\"mirror\":true,\"showgrid\":true,\"gridcolor\":\"lightgray\"},\"legend\":{\"title\":{\"text\":\"Type d'interaction\"},\"tracegroupgap\":0,\"x\":0.01,\"y\":0.99,\"bgcolor\":\"rgba(255,255,255,0.7)\",\"bordercolor\":\"gray\",\"borderwidth\":0.5},\"title\":{\"text\":\"Total des interactions par semaine (normalis\\u00e9es)\"},\"width\":1100,\"height\":600,\"plot_bgcolor\":\"white\",\"hovermode\":\"x unified\"},                        {\"responsive\": true}                    ).then(function(){\n",
       "                            \n",
       "var gd = document.getElementById('c9d6358d-361f-45b0-afb0-c42a22ff1740');\n",
       "var x = new MutationObserver(function (mutations, observer) {{\n",
       "        var display = window.getComputedStyle(gd).display;\n",
       "        if (!display || display === 'none') {{\n",
       "            console.log([gd, 'removed!']);\n",
       "            Plotly.purge(gd);\n",
       "            observer.disconnect();\n",
       "        }}\n",
       "}});\n",
       "\n",
       "// Listen for the removal of the full notebook cells\n",
       "var notebookContainer = gd.closest('#notebook-container');\n",
       "if (notebookContainer) {{\n",
       "    x.observe(notebookContainer, {childList: true});\n",
       "}}\n",
       "\n",
       "// Listen for the clearing of the current output cell\n",
       "var outputEl = gd.closest('.output');\n",
       "if (outputEl) {{\n",
       "    x.observe(outputEl, {childList: true});\n",
       "}}\n",
       "\n",
       "                        })                };                });            </script>        </div>"
      ]
     },
     "metadata": {},
     "output_type": "display_data"
    }
   ],
   "source": [
    "# On groupe les interactions par semaine en faisant le total\n",
    "weekly_stats = df.groupby('YearWeek').agg(\n",
    "    TotalLikes=('Likes', 'sum'),\n",
    "    TotalRepost=('Repost', 'sum'),\n",
    "    TotalComments=('Comments', 'sum'),\n",
    "    NombreTweets=('YearWeek', 'size')\n",
    ")\n",
    "\n",
    "# Convertir YearWeek en dates réelles (début de semaine)\n",
    "weekly_stats['Date'] = pd.to_datetime(weekly_stats.index + '-1', format='%Y-%U-%w')\n",
    "\n",
    "# Normaliser les données par rapport au maximum de chaque colonne\n",
    "columns_to_normalize = ['TotalLikes', 'TotalRepost', 'TotalComments']\n",
    "for col in columns_to_normalize:\n",
    "    weekly_stats[col + '_Norm'] = weekly_stats[col] / weekly_stats[col].max()\n",
    "\n",
    "# Mettre les données au format \"long\"\n",
    "long_format_totals = weekly_stats.melt(\n",
    "    id_vars=['Date'], \n",
    "    value_vars=['TotalLikes_Norm', 'TotalRepost_Norm', 'TotalComments_Norm'], \n",
    "    var_name='Type d\\'interaction', \n",
    "    value_name='Valeur Normalisée'\n",
    ")\n",
    "\n",
    "# Remplacer les noms des interactions pour qu'ils apparaissent dans la légende\n",
    "long_format_totals['Type d\\'interaction'] = long_format_totals['Type d\\'interaction'].replace({\n",
    "    'TotalLikes_Norm': 'Total des likes normalisé',\n",
    "    'TotalRepost_Norm': 'Total des retweets normalisé',\n",
    "    'TotalComments_Norm': 'Total des commentaires normalisé'\n",
    "})\n",
    "\n",
    "# Palette de couleurs pastel mais visibles\n",
    "couleurs_visibles = ['#FFA07A', '#87CEEB', '#9370DB'] \n",
    "\n",
    "# Création du graphique interactif avec Plotly\n",
    "fig = px.line(\n",
    "    long_format_totals,\n",
    "    x='Date',\n",
    "    y='Valeur Normalisée',\n",
    "    color='Type d\\'interaction',\n",
    "    title='Total des interactions par semaine (normalisées)',\n",
    "    color_discrete_sequence=couleurs_visibles,\n",
    "    markers=True\n",
    ")\n",
    "\n",
    "# Amélioration des axes pour afficher uniquement les mois à partir de Janvier 2024\n",
    "fig.update_xaxes(\n",
    "    title=\"Semaines de 2024\",\n",
    "    showline=True,\n",
    "    linecolor=\"gray\",\n",
    "    linewidth=0.5,\n",
    "    mirror=True,\n",
    "    showgrid=True,\n",
    "    gridcolor=\"lightgray\",\n",
    "    tickmode=\"linear\",\n",
    "    dtick=\"M1\",  # Espacement de 1 mois\n",
    "    tickformat=\"%b %Y\",  # Format Mois Année\n",
    "    range=['2024-01-01', weekly_stats['Date'].max()]  # Plage des dates : Janvier 2024 jusqu'à la fin\n",
    ")\n",
    "\n",
    "fig.update_yaxes(\n",
    "    title=\"Proportion par rapport au maximum\",\n",
    "    showline=False,\n",
    "    linecolor=\"gray\",\n",
    "    linewidth=0.5,\n",
    "    mirror=True,\n",
    "    showgrid=True,\n",
    "    gridcolor=\"lightgray\"\n",
    ")\n",
    "\n",
    "# Ajuster la taille de la figure\n",
    "fig.update_layout(\n",
    "    width=1100,  # Largeur \n",
    "    height=600,  # Hauteur \n",
    "    template=\"plotly_white\",\n",
    "    plot_bgcolor=\"white\",\n",
    "    hovermode=\"x unified\",\n",
    "    legend=dict(\n",
    "        title=\"Type d'interaction\",\n",
    "        x=0.01, y=0.99,\n",
    "        bgcolor='rgba(255,255,255,0.7)',\n",
    "        bordercolor='gray',\n",
    "        borderwidth=0.5\n",
    "    )\n",
    ")\n",
    "\n",
    "# Afficher le graphique\n",
    "fig.show()\n"
   ]
  },
  {
   "cell_type": "markdown",
   "metadata": {},
   "source": [
    "On observe sur ce graphique les évolutions par rapport au maximum des différents types d'interaction. Les tendances ne sont pas très différentes du graphique précédent, mais sont davantage comparables : ainsi, les retweets et les likes (quasiment) ont atteint leur pic en juin 2024. En août 2024, on prend davantage conscience du nombre plus bas retweets par rapport aux likes et aux commentaires. Tout cela questionne sur ce qui s'est passé à ces périodes là, pour qu'il y ait autant de variations des interactions.\n",
    "\n",
    "C'est pour cela que nous allons pondérer par le nombre de tweets, pour que les totaux ne soient pas biaisés par des quantités faibles ou plus importantes de tweets :"
   ]
  },
  {
   "cell_type": "code",
   "execution_count": 12,
   "metadata": {},
   "outputs": [
    {
     "data": {
      "application/vnd.plotly.v1+json": {
       "config": {
        "plotlyServerURL": "https://plot.ly"
       },
       "data": [
        {
         "hovertemplate": "Type d'interaction=Moyenne des likes normalisée<br>Date=%{x}<br>Valeur Normalisée=%{y}<extra></extra>",
         "legendgroup": "Moyenne des likes normalisée",
         "line": {
          "color": "#FFB347",
          "dash": "solid"
         },
         "marker": {
          "symbol": "circle"
         },
         "mode": "lines+markers",
         "name": "Moyenne des likes normalisée",
         "orientation": "v",
         "showlegend": true,
         "type": "scatter",
         "x": [
          "2023-12-31T00:00:00",
          "2024-01-07T00:00:00",
          "2024-01-14T00:00:00",
          "2024-01-21T00:00:00",
          "2024-01-28T00:00:00",
          "2024-02-04T00:00:00",
          "2024-02-11T00:00:00",
          "2024-02-18T00:00:00",
          "2024-02-25T00:00:00",
          "2024-03-03T00:00:00",
          "2024-03-10T00:00:00",
          "2024-03-17T00:00:00",
          "2024-03-24T00:00:00",
          "2024-03-31T00:00:00",
          "2024-04-07T00:00:00",
          "2024-04-14T00:00:00",
          "2024-04-21T00:00:00",
          "2024-04-28T00:00:00",
          "2024-05-05T00:00:00",
          "2024-05-12T00:00:00",
          "2024-05-19T00:00:00",
          "2024-05-26T00:00:00",
          "2024-06-02T00:00:00",
          "2024-06-09T00:00:00",
          "2024-06-16T00:00:00",
          "2024-06-23T00:00:00",
          "2024-06-30T00:00:00",
          "2024-07-07T00:00:00",
          "2024-07-14T00:00:00",
          "2024-07-21T00:00:00",
          "2024-07-28T00:00:00",
          "2024-08-04T00:00:00",
          "2024-08-11T00:00:00",
          "2024-08-18T00:00:00",
          "2024-08-25T00:00:00",
          "2024-09-01T00:00:00",
          "2024-09-08T00:00:00",
          "2024-09-15T00:00:00",
          "2024-09-22T00:00:00",
          "2024-09-29T00:00:00",
          "2024-10-06T00:00:00",
          "2024-10-13T00:00:00",
          "2024-10-20T00:00:00",
          "2024-10-27T00:00:00",
          "2024-11-03T00:00:00",
          "2024-11-10T00:00:00",
          "2024-11-17T00:00:00",
          "2024-11-24T00:00:00"
         ],
         "xaxis": "x",
         "y": [
          0.030866913015426125,
          0.015538741275148102,
          0.015614026618746486,
          0.004925445072642282,
          0.02489364565111633,
          0.0145664848378204,
          0.23858430718581786,
          0.006258745799921236,
          0.03418089037480204,
          0.01607173400240442,
          0.02021638986270343,
          0.010420346562825873,
          0.016162791985420876,
          0.014210192106128882,
          0.01631680363570797,
          0.012877975469152729,
          0.061231073460529736,
          0.015499537386546178,
          0.00902936276845657,
          0.037318266786015755,
          0.013370076167014402,
          0.009319159654007652,
          0.0351144739671926,
          0.016393923397266703,
          0.03147739572163292,
          1,
          0.004774473576162825,
          0.0024010892259232774,
          0.013273642183201088,
          0.013709693186684553,
          0.0070752546342989385,
          0.1256745724771847,
          0.08737084240882041,
          0.11035829328840709,
          0.026182359718895983,
          0.016447394115551003,
          0.039476137828325736,
          0.010067387464888784,
          0.040975731016202596,
          0.01653808618249171,
          0.009475188202248266,
          0.033923204494507225,
          0.02859745362607174,
          0.1831750261251782,
          0.024833068267447928,
          0.03158784752099954,
          0.015112514323712876,
          0.021460164014498552
         ],
         "yaxis": "y"
        },
        {
         "hovertemplate": "Type d'interaction=Moyenne des retweets normalisée<br>Date=%{x}<br>Valeur Normalisée=%{y}<extra></extra>",
         "legendgroup": "Moyenne des retweets normalisée",
         "line": {
          "color": "#6A5ACD",
          "dash": "solid"
         },
         "marker": {
          "symbol": "circle"
         },
         "mode": "lines+markers",
         "name": "Moyenne des retweets normalisée",
         "orientation": "v",
         "showlegend": true,
         "type": "scatter",
         "x": [
          "2023-12-31T00:00:00",
          "2024-01-07T00:00:00",
          "2024-01-14T00:00:00",
          "2024-01-21T00:00:00",
          "2024-01-28T00:00:00",
          "2024-02-04T00:00:00",
          "2024-02-11T00:00:00",
          "2024-02-18T00:00:00",
          "2024-02-25T00:00:00",
          "2024-03-03T00:00:00",
          "2024-03-10T00:00:00",
          "2024-03-17T00:00:00",
          "2024-03-24T00:00:00",
          "2024-03-31T00:00:00",
          "2024-04-07T00:00:00",
          "2024-04-14T00:00:00",
          "2024-04-21T00:00:00",
          "2024-04-28T00:00:00",
          "2024-05-05T00:00:00",
          "2024-05-12T00:00:00",
          "2024-05-19T00:00:00",
          "2024-05-26T00:00:00",
          "2024-06-02T00:00:00",
          "2024-06-09T00:00:00",
          "2024-06-16T00:00:00",
          "2024-06-23T00:00:00",
          "2024-06-30T00:00:00",
          "2024-07-07T00:00:00",
          "2024-07-14T00:00:00",
          "2024-07-21T00:00:00",
          "2024-07-28T00:00:00",
          "2024-08-04T00:00:00",
          "2024-08-11T00:00:00",
          "2024-08-18T00:00:00",
          "2024-08-25T00:00:00",
          "2024-09-01T00:00:00",
          "2024-09-08T00:00:00",
          "2024-09-15T00:00:00",
          "2024-09-22T00:00:00",
          "2024-09-29T00:00:00",
          "2024-10-06T00:00:00",
          "2024-10-13T00:00:00",
          "2024-10-20T00:00:00",
          "2024-10-27T00:00:00",
          "2024-11-03T00:00:00",
          "2024-11-10T00:00:00",
          "2024-11-17T00:00:00",
          "2024-11-24T00:00:00"
         ],
         "xaxis": "x",
         "y": [
          0.01324173636001593,
          0.02504978096375946,
          0.0035642582665769145,
          0.001665714335186051,
          0.009765658553345671,
          0.008173105004646223,
          0.04686413420095312,
          0.004122337903699911,
          0.012115580335413073,
          0.002473034731099248,
          0.005667371258769108,
          0.004086852454796858,
          0.00676649780592433,
          0.004313773021892081,
          0.004547890516296198,
          0.003706959817056524,
          0.01764711460051962,
          0.008587590943932718,
          0.004087126134061226,
          0.03016437818526022,
          0.003289099391249929,
          0.0026003232834352383,
          0.012168680030089828,
          0.014204168326032128,
          0.011376723045380953,
          1,
          0.0012630141662399725,
          0.0006270283094808375,
          0.0024901287050157605,
          0.004700464907810652,
          0.0025956253190568546,
          0.06102582598829302,
          0.05054238036576886,
          0.04102648057003993,
          0.007792155195107629,
          0.006529141028867656,
          0.010738889864286507,
          0.005418486700844328,
          0.06400831052364306,
          0.00819606582442874,
          0.003322635306611693,
          0.006240544277191048,
          0.008050064762455844,
          0.08865156576370094,
          0.009390669729763703,
          0.011307884499943237,
          0.005880892909003705,
          0.007424089169894353
         ],
         "yaxis": "y"
        },
        {
         "hovertemplate": "Type d'interaction=Moyenne des commentaires normalisée<br>Date=%{x}<br>Valeur Normalisée=%{y}<extra></extra>",
         "legendgroup": "Moyenne des commentaires normalisée",
         "line": {
          "color": "#FF6347",
          "dash": "solid"
         },
         "marker": {
          "symbol": "circle"
         },
         "mode": "lines+markers",
         "name": "Moyenne des commentaires normalisée",
         "orientation": "v",
         "showlegend": true,
         "type": "scatter",
         "x": [
          "2023-12-31T00:00:00",
          "2024-01-07T00:00:00",
          "2024-01-14T00:00:00",
          "2024-01-21T00:00:00",
          "2024-01-28T00:00:00",
          "2024-02-04T00:00:00",
          "2024-02-11T00:00:00",
          "2024-02-18T00:00:00",
          "2024-02-25T00:00:00",
          "2024-03-03T00:00:00",
          "2024-03-10T00:00:00",
          "2024-03-17T00:00:00",
          "2024-03-24T00:00:00",
          "2024-03-31T00:00:00",
          "2024-04-07T00:00:00",
          "2024-04-14T00:00:00",
          "2024-04-21T00:00:00",
          "2024-04-28T00:00:00",
          "2024-05-05T00:00:00",
          "2024-05-12T00:00:00",
          "2024-05-19T00:00:00",
          "2024-05-26T00:00:00",
          "2024-06-02T00:00:00",
          "2024-06-09T00:00:00",
          "2024-06-16T00:00:00",
          "2024-06-23T00:00:00",
          "2024-06-30T00:00:00",
          "2024-07-07T00:00:00",
          "2024-07-14T00:00:00",
          "2024-07-21T00:00:00",
          "2024-07-28T00:00:00",
          "2024-08-04T00:00:00",
          "2024-08-11T00:00:00",
          "2024-08-18T00:00:00",
          "2024-08-25T00:00:00",
          "2024-09-01T00:00:00",
          "2024-09-08T00:00:00",
          "2024-09-15T00:00:00",
          "2024-09-22T00:00:00",
          "2024-09-29T00:00:00",
          "2024-10-06T00:00:00",
          "2024-10-13T00:00:00",
          "2024-10-20T00:00:00",
          "2024-10-27T00:00:00",
          "2024-11-03T00:00:00",
          "2024-11-10T00:00:00",
          "2024-11-17T00:00:00",
          "2024-11-24T00:00:00"
         ],
         "xaxis": "x",
         "y": [
          0.12408741936375557,
          0.05770723638521661,
          0.04865295581389346,
          0.024157700308147376,
          0.0983958839795625,
          0.0332206522974355,
          0.29806939448290193,
          0.020888237108548483,
          0.03801659153755824,
          0.026789529270683857,
          0.06028666587021069,
          0.024109171380248328,
          0.026585029047243525,
          0.054164107006688327,
          0.08610595519190542,
          0.023450002036955374,
          0.07248218276666324,
          0.031130211432739995,
          0.021986013073377306,
          0.014303901498245158,
          0.022715957855546476,
          0.01691537632515789,
          0.11829140402192412,
          0.07587510992943017,
          0.06673523958269592,
          0.46908205982413337,
          0.017128354429009757,
          0.018354982820916008,
          0.023530841989257874,
          0.031916327883061715,
          0.01367075680681425,
          0.4280774881648128,
          1,
          0.09685321369514725,
          0.03717398129487442,
          0.056150413651115075,
          0.19139315177166072,
          0.025065884530258178,
          0.13960305134213236,
          0.023958556297997778,
          0.021884865415034784,
          0.03369745665807922,
          0.045433058393648126,
          0.12711984297488077,
          0.12436262101866594,
          0.14915094033068657,
          0.12459313230110453,
          0.053207700613492
         ],
         "yaxis": "y"
        }
       ],
       "layout": {
        "height": 600,
        "hovermode": "x unified",
        "legend": {
         "bgcolor": "rgba(255,255,255,0.7)",
         "bordercolor": "black",
         "borderwidth": 1,
         "title": {
          "text": "Type d'Interaction"
         },
         "tracegroupgap": 0,
         "x": 0.01,
         "y": 0.99
        },
        "plot_bgcolor": "white",
        "template": {
         "data": {
          "bar": [
           {
            "error_x": {
             "color": "#2a3f5f"
            },
            "error_y": {
             "color": "#2a3f5f"
            },
            "marker": {
             "line": {
              "color": "white",
              "width": 0.5
             },
             "pattern": {
              "fillmode": "overlay",
              "size": 10,
              "solidity": 0.2
             }
            },
            "type": "bar"
           }
          ],
          "barpolar": [
           {
            "marker": {
             "line": {
              "color": "white",
              "width": 0.5
             },
             "pattern": {
              "fillmode": "overlay",
              "size": 10,
              "solidity": 0.2
             }
            },
            "type": "barpolar"
           }
          ],
          "carpet": [
           {
            "aaxis": {
             "endlinecolor": "#2a3f5f",
             "gridcolor": "#C8D4E3",
             "linecolor": "#C8D4E3",
             "minorgridcolor": "#C8D4E3",
             "startlinecolor": "#2a3f5f"
            },
            "baxis": {
             "endlinecolor": "#2a3f5f",
             "gridcolor": "#C8D4E3",
             "linecolor": "#C8D4E3",
             "minorgridcolor": "#C8D4E3",
             "startlinecolor": "#2a3f5f"
            },
            "type": "carpet"
           }
          ],
          "choropleth": [
           {
            "colorbar": {
             "outlinewidth": 0,
             "ticks": ""
            },
            "type": "choropleth"
           }
          ],
          "contour": [
           {
            "colorbar": {
             "outlinewidth": 0,
             "ticks": ""
            },
            "colorscale": [
             [
              0,
              "#0d0887"
             ],
             [
              0.1111111111111111,
              "#46039f"
             ],
             [
              0.2222222222222222,
              "#7201a8"
             ],
             [
              0.3333333333333333,
              "#9c179e"
             ],
             [
              0.4444444444444444,
              "#bd3786"
             ],
             [
              0.5555555555555556,
              "#d8576b"
             ],
             [
              0.6666666666666666,
              "#ed7953"
             ],
             [
              0.7777777777777778,
              "#fb9f3a"
             ],
             [
              0.8888888888888888,
              "#fdca26"
             ],
             [
              1,
              "#f0f921"
             ]
            ],
            "type": "contour"
           }
          ],
          "contourcarpet": [
           {
            "colorbar": {
             "outlinewidth": 0,
             "ticks": ""
            },
            "type": "contourcarpet"
           }
          ],
          "heatmap": [
           {
            "colorbar": {
             "outlinewidth": 0,
             "ticks": ""
            },
            "colorscale": [
             [
              0,
              "#0d0887"
             ],
             [
              0.1111111111111111,
              "#46039f"
             ],
             [
              0.2222222222222222,
              "#7201a8"
             ],
             [
              0.3333333333333333,
              "#9c179e"
             ],
             [
              0.4444444444444444,
              "#bd3786"
             ],
             [
              0.5555555555555556,
              "#d8576b"
             ],
             [
              0.6666666666666666,
              "#ed7953"
             ],
             [
              0.7777777777777778,
              "#fb9f3a"
             ],
             [
              0.8888888888888888,
              "#fdca26"
             ],
             [
              1,
              "#f0f921"
             ]
            ],
            "type": "heatmap"
           }
          ],
          "heatmapgl": [
           {
            "colorbar": {
             "outlinewidth": 0,
             "ticks": ""
            },
            "colorscale": [
             [
              0,
              "#0d0887"
             ],
             [
              0.1111111111111111,
              "#46039f"
             ],
             [
              0.2222222222222222,
              "#7201a8"
             ],
             [
              0.3333333333333333,
              "#9c179e"
             ],
             [
              0.4444444444444444,
              "#bd3786"
             ],
             [
              0.5555555555555556,
              "#d8576b"
             ],
             [
              0.6666666666666666,
              "#ed7953"
             ],
             [
              0.7777777777777778,
              "#fb9f3a"
             ],
             [
              0.8888888888888888,
              "#fdca26"
             ],
             [
              1,
              "#f0f921"
             ]
            ],
            "type": "heatmapgl"
           }
          ],
          "histogram": [
           {
            "marker": {
             "pattern": {
              "fillmode": "overlay",
              "size": 10,
              "solidity": 0.2
             }
            },
            "type": "histogram"
           }
          ],
          "histogram2d": [
           {
            "colorbar": {
             "outlinewidth": 0,
             "ticks": ""
            },
            "colorscale": [
             [
              0,
              "#0d0887"
             ],
             [
              0.1111111111111111,
              "#46039f"
             ],
             [
              0.2222222222222222,
              "#7201a8"
             ],
             [
              0.3333333333333333,
              "#9c179e"
             ],
             [
              0.4444444444444444,
              "#bd3786"
             ],
             [
              0.5555555555555556,
              "#d8576b"
             ],
             [
              0.6666666666666666,
              "#ed7953"
             ],
             [
              0.7777777777777778,
              "#fb9f3a"
             ],
             [
              0.8888888888888888,
              "#fdca26"
             ],
             [
              1,
              "#f0f921"
             ]
            ],
            "type": "histogram2d"
           }
          ],
          "histogram2dcontour": [
           {
            "colorbar": {
             "outlinewidth": 0,
             "ticks": ""
            },
            "colorscale": [
             [
              0,
              "#0d0887"
             ],
             [
              0.1111111111111111,
              "#46039f"
             ],
             [
              0.2222222222222222,
              "#7201a8"
             ],
             [
              0.3333333333333333,
              "#9c179e"
             ],
             [
              0.4444444444444444,
              "#bd3786"
             ],
             [
              0.5555555555555556,
              "#d8576b"
             ],
             [
              0.6666666666666666,
              "#ed7953"
             ],
             [
              0.7777777777777778,
              "#fb9f3a"
             ],
             [
              0.8888888888888888,
              "#fdca26"
             ],
             [
              1,
              "#f0f921"
             ]
            ],
            "type": "histogram2dcontour"
           }
          ],
          "mesh3d": [
           {
            "colorbar": {
             "outlinewidth": 0,
             "ticks": ""
            },
            "type": "mesh3d"
           }
          ],
          "parcoords": [
           {
            "line": {
             "colorbar": {
              "outlinewidth": 0,
              "ticks": ""
             }
            },
            "type": "parcoords"
           }
          ],
          "pie": [
           {
            "automargin": true,
            "type": "pie"
           }
          ],
          "scatter": [
           {
            "fillpattern": {
             "fillmode": "overlay",
             "size": 10,
             "solidity": 0.2
            },
            "type": "scatter"
           }
          ],
          "scatter3d": [
           {
            "line": {
             "colorbar": {
              "outlinewidth": 0,
              "ticks": ""
             }
            },
            "marker": {
             "colorbar": {
              "outlinewidth": 0,
              "ticks": ""
             }
            },
            "type": "scatter3d"
           }
          ],
          "scattercarpet": [
           {
            "marker": {
             "colorbar": {
              "outlinewidth": 0,
              "ticks": ""
             }
            },
            "type": "scattercarpet"
           }
          ],
          "scattergeo": [
           {
            "marker": {
             "colorbar": {
              "outlinewidth": 0,
              "ticks": ""
             }
            },
            "type": "scattergeo"
           }
          ],
          "scattergl": [
           {
            "marker": {
             "colorbar": {
              "outlinewidth": 0,
              "ticks": ""
             }
            },
            "type": "scattergl"
           }
          ],
          "scattermapbox": [
           {
            "marker": {
             "colorbar": {
              "outlinewidth": 0,
              "ticks": ""
             }
            },
            "type": "scattermapbox"
           }
          ],
          "scatterpolar": [
           {
            "marker": {
             "colorbar": {
              "outlinewidth": 0,
              "ticks": ""
             }
            },
            "type": "scatterpolar"
           }
          ],
          "scatterpolargl": [
           {
            "marker": {
             "colorbar": {
              "outlinewidth": 0,
              "ticks": ""
             }
            },
            "type": "scatterpolargl"
           }
          ],
          "scatterternary": [
           {
            "marker": {
             "colorbar": {
              "outlinewidth": 0,
              "ticks": ""
             }
            },
            "type": "scatterternary"
           }
          ],
          "surface": [
           {
            "colorbar": {
             "outlinewidth": 0,
             "ticks": ""
            },
            "colorscale": [
             [
              0,
              "#0d0887"
             ],
             [
              0.1111111111111111,
              "#46039f"
             ],
             [
              0.2222222222222222,
              "#7201a8"
             ],
             [
              0.3333333333333333,
              "#9c179e"
             ],
             [
              0.4444444444444444,
              "#bd3786"
             ],
             [
              0.5555555555555556,
              "#d8576b"
             ],
             [
              0.6666666666666666,
              "#ed7953"
             ],
             [
              0.7777777777777778,
              "#fb9f3a"
             ],
             [
              0.8888888888888888,
              "#fdca26"
             ],
             [
              1,
              "#f0f921"
             ]
            ],
            "type": "surface"
           }
          ],
          "table": [
           {
            "cells": {
             "fill": {
              "color": "#EBF0F8"
             },
             "line": {
              "color": "white"
             }
            },
            "header": {
             "fill": {
              "color": "#C8D4E3"
             },
             "line": {
              "color": "white"
             }
            },
            "type": "table"
           }
          ]
         },
         "layout": {
          "annotationdefaults": {
           "arrowcolor": "#2a3f5f",
           "arrowhead": 0,
           "arrowwidth": 1
          },
          "autotypenumbers": "strict",
          "coloraxis": {
           "colorbar": {
            "outlinewidth": 0,
            "ticks": ""
           }
          },
          "colorscale": {
           "diverging": [
            [
             0,
             "#8e0152"
            ],
            [
             0.1,
             "#c51b7d"
            ],
            [
             0.2,
             "#de77ae"
            ],
            [
             0.3,
             "#f1b6da"
            ],
            [
             0.4,
             "#fde0ef"
            ],
            [
             0.5,
             "#f7f7f7"
            ],
            [
             0.6,
             "#e6f5d0"
            ],
            [
             0.7,
             "#b8e186"
            ],
            [
             0.8,
             "#7fbc41"
            ],
            [
             0.9,
             "#4d9221"
            ],
            [
             1,
             "#276419"
            ]
           ],
           "sequential": [
            [
             0,
             "#0d0887"
            ],
            [
             0.1111111111111111,
             "#46039f"
            ],
            [
             0.2222222222222222,
             "#7201a8"
            ],
            [
             0.3333333333333333,
             "#9c179e"
            ],
            [
             0.4444444444444444,
             "#bd3786"
            ],
            [
             0.5555555555555556,
             "#d8576b"
            ],
            [
             0.6666666666666666,
             "#ed7953"
            ],
            [
             0.7777777777777778,
             "#fb9f3a"
            ],
            [
             0.8888888888888888,
             "#fdca26"
            ],
            [
             1,
             "#f0f921"
            ]
           ],
           "sequentialminus": [
            [
             0,
             "#0d0887"
            ],
            [
             0.1111111111111111,
             "#46039f"
            ],
            [
             0.2222222222222222,
             "#7201a8"
            ],
            [
             0.3333333333333333,
             "#9c179e"
            ],
            [
             0.4444444444444444,
             "#bd3786"
            ],
            [
             0.5555555555555556,
             "#d8576b"
            ],
            [
             0.6666666666666666,
             "#ed7953"
            ],
            [
             0.7777777777777778,
             "#fb9f3a"
            ],
            [
             0.8888888888888888,
             "#fdca26"
            ],
            [
             1,
             "#f0f921"
            ]
           ]
          },
          "colorway": [
           "#636efa",
           "#EF553B",
           "#00cc96",
           "#ab63fa",
           "#FFA15A",
           "#19d3f3",
           "#FF6692",
           "#B6E880",
           "#FF97FF",
           "#FECB52"
          ],
          "font": {
           "color": "#2a3f5f"
          },
          "geo": {
           "bgcolor": "white",
           "lakecolor": "white",
           "landcolor": "white",
           "showlakes": true,
           "showland": true,
           "subunitcolor": "#C8D4E3"
          },
          "hoverlabel": {
           "align": "left"
          },
          "hovermode": "closest",
          "mapbox": {
           "style": "light"
          },
          "paper_bgcolor": "white",
          "plot_bgcolor": "white",
          "polar": {
           "angularaxis": {
            "gridcolor": "#EBF0F8",
            "linecolor": "#EBF0F8",
            "ticks": ""
           },
           "bgcolor": "white",
           "radialaxis": {
            "gridcolor": "#EBF0F8",
            "linecolor": "#EBF0F8",
            "ticks": ""
           }
          },
          "scene": {
           "xaxis": {
            "backgroundcolor": "white",
            "gridcolor": "#DFE8F3",
            "gridwidth": 2,
            "linecolor": "#EBF0F8",
            "showbackground": true,
            "ticks": "",
            "zerolinecolor": "#EBF0F8"
           },
           "yaxis": {
            "backgroundcolor": "white",
            "gridcolor": "#DFE8F3",
            "gridwidth": 2,
            "linecolor": "#EBF0F8",
            "showbackground": true,
            "ticks": "",
            "zerolinecolor": "#EBF0F8"
           },
           "zaxis": {
            "backgroundcolor": "white",
            "gridcolor": "#DFE8F3",
            "gridwidth": 2,
            "linecolor": "#EBF0F8",
            "showbackground": true,
            "ticks": "",
            "zerolinecolor": "#EBF0F8"
           }
          },
          "shapedefaults": {
           "line": {
            "color": "#2a3f5f"
           }
          },
          "ternary": {
           "aaxis": {
            "gridcolor": "#DFE8F3",
            "linecolor": "#A2B1C6",
            "ticks": ""
           },
           "baxis": {
            "gridcolor": "#DFE8F3",
            "linecolor": "#A2B1C6",
            "ticks": ""
           },
           "bgcolor": "white",
           "caxis": {
            "gridcolor": "#DFE8F3",
            "linecolor": "#A2B1C6",
            "ticks": ""
           }
          },
          "title": {
           "x": 0.05
          },
          "xaxis": {
           "automargin": true,
           "gridcolor": "#EBF0F8",
           "linecolor": "#EBF0F8",
           "ticks": "",
           "title": {
            "standoff": 15
           },
           "zerolinecolor": "#EBF0F8",
           "zerolinewidth": 2
          },
          "yaxis": {
           "automargin": true,
           "gridcolor": "#EBF0F8",
           "linecolor": "#EBF0F8",
           "ticks": "",
           "title": {
            "standoff": 15
           },
           "zerolinecolor": "#EBF0F8",
           "zerolinewidth": 2
          }
         }
        },
        "title": {
         "text": "Moyenne des interactions par tweet par semaine (normalisées)"
        },
        "width": 1100,
        "xaxis": {
         "anchor": "y",
         "domain": [
          0,
          1
         ],
         "dtick": "M1",
         "gridcolor": "lightgray",
         "linecolor": "gray",
         "linewidth": 0.5,
         "mirror": true,
         "range": [
          "2023-12-31T00:00:00",
          "2024-11-24T00:00:00"
         ],
         "showgrid": true,
         "showline": true,
         "tickformat": "%b %Y",
         "tickmode": "linear",
         "title": {
          "text": "Semaines de 2024"
         }
        },
        "yaxis": {
         "anchor": "x",
         "domain": [
          0,
          1
         ],
         "gridcolor": "lightgray",
         "linecolor": "black",
         "linewidth": 1.5,
         "mirror": true,
         "showgrid": true,
         "showline": false,
         "title": {
          "text": "Proportion par rapport au maximum"
         }
        }
       }
      },
      "text/html": [
       "<div>                            <div id=\"f355ce18-5597-49b4-9708-6c554392016b\" class=\"plotly-graph-div\" style=\"height:600px; width:1100px;\"></div>            <script type=\"text/javascript\">                require([\"plotly\"], function(Plotly) {                    window.PLOTLYENV=window.PLOTLYENV || {};                                    if (document.getElementById(\"f355ce18-5597-49b4-9708-6c554392016b\")) {                    Plotly.newPlot(                        \"f355ce18-5597-49b4-9708-6c554392016b\",                        [{\"hovertemplate\":\"Type d'interaction=Moyenne des likes normalis\\u00e9e\\u003cbr\\u003eDate=%{x}\\u003cbr\\u003eValeur Normalis\\u00e9e=%{y}\\u003cextra\\u003e\\u003c\\u002fextra\\u003e\",\"legendgroup\":\"Moyenne des likes normalis\\u00e9e\",\"line\":{\"color\":\"#FFB347\",\"dash\":\"solid\"},\"marker\":{\"symbol\":\"circle\"},\"mode\":\"lines+markers\",\"name\":\"Moyenne des likes normalis\\u00e9e\",\"orientation\":\"v\",\"showlegend\":true,\"x\":[\"2023-12-31T00:00:00\",\"2024-01-07T00:00:00\",\"2024-01-14T00:00:00\",\"2024-01-21T00:00:00\",\"2024-01-28T00:00:00\",\"2024-02-04T00:00:00\",\"2024-02-11T00:00:00\",\"2024-02-18T00:00:00\",\"2024-02-25T00:00:00\",\"2024-03-03T00:00:00\",\"2024-03-10T00:00:00\",\"2024-03-17T00:00:00\",\"2024-03-24T00:00:00\",\"2024-03-31T00:00:00\",\"2024-04-07T00:00:00\",\"2024-04-14T00:00:00\",\"2024-04-21T00:00:00\",\"2024-04-28T00:00:00\",\"2024-05-05T00:00:00\",\"2024-05-12T00:00:00\",\"2024-05-19T00:00:00\",\"2024-05-26T00:00:00\",\"2024-06-02T00:00:00\",\"2024-06-09T00:00:00\",\"2024-06-16T00:00:00\",\"2024-06-23T00:00:00\",\"2024-06-30T00:00:00\",\"2024-07-07T00:00:00\",\"2024-07-14T00:00:00\",\"2024-07-21T00:00:00\",\"2024-07-28T00:00:00\",\"2024-08-04T00:00:00\",\"2024-08-11T00:00:00\",\"2024-08-18T00:00:00\",\"2024-08-25T00:00:00\",\"2024-09-01T00:00:00\",\"2024-09-08T00:00:00\",\"2024-09-15T00:00:00\",\"2024-09-22T00:00:00\",\"2024-09-29T00:00:00\",\"2024-10-06T00:00:00\",\"2024-10-13T00:00:00\",\"2024-10-20T00:00:00\",\"2024-10-27T00:00:00\",\"2024-11-03T00:00:00\",\"2024-11-10T00:00:00\",\"2024-11-17T00:00:00\",\"2024-11-24T00:00:00\"],\"xaxis\":\"x\",\"y\":[0.030866913015426125,0.015538741275148102,0.015614026618746486,0.004925445072642282,0.02489364565111633,0.0145664848378204,0.23858430718581786,0.006258745799921236,0.03418089037480204,0.01607173400240442,0.02021638986270343,0.010420346562825873,0.016162791985420876,0.014210192106128882,0.01631680363570797,0.012877975469152729,0.061231073460529736,0.015499537386546178,0.00902936276845657,0.037318266786015755,0.013370076167014402,0.009319159654007652,0.0351144739671926,0.016393923397266703,0.03147739572163292,1.0,0.004774473576162825,0.0024010892259232774,0.013273642183201088,0.013709693186684553,0.0070752546342989385,0.1256745724771847,0.08737084240882041,0.11035829328840709,0.026182359718895983,0.016447394115551003,0.039476137828325736,0.010067387464888784,0.040975731016202596,0.01653808618249171,0.009475188202248266,0.033923204494507225,0.02859745362607174,0.1831750261251782,0.024833068267447928,0.03158784752099954,0.015112514323712876,0.021460164014498552],\"yaxis\":\"y\",\"type\":\"scatter\"},{\"hovertemplate\":\"Type d'interaction=Moyenne des retweets normalis\\u00e9e\\u003cbr\\u003eDate=%{x}\\u003cbr\\u003eValeur Normalis\\u00e9e=%{y}\\u003cextra\\u003e\\u003c\\u002fextra\\u003e\",\"legendgroup\":\"Moyenne des retweets normalis\\u00e9e\",\"line\":{\"color\":\"#6A5ACD\",\"dash\":\"solid\"},\"marker\":{\"symbol\":\"circle\"},\"mode\":\"lines+markers\",\"name\":\"Moyenne des retweets normalis\\u00e9e\",\"orientation\":\"v\",\"showlegend\":true,\"x\":[\"2023-12-31T00:00:00\",\"2024-01-07T00:00:00\",\"2024-01-14T00:00:00\",\"2024-01-21T00:00:00\",\"2024-01-28T00:00:00\",\"2024-02-04T00:00:00\",\"2024-02-11T00:00:00\",\"2024-02-18T00:00:00\",\"2024-02-25T00:00:00\",\"2024-03-03T00:00:00\",\"2024-03-10T00:00:00\",\"2024-03-17T00:00:00\",\"2024-03-24T00:00:00\",\"2024-03-31T00:00:00\",\"2024-04-07T00:00:00\",\"2024-04-14T00:00:00\",\"2024-04-21T00:00:00\",\"2024-04-28T00:00:00\",\"2024-05-05T00:00:00\",\"2024-05-12T00:00:00\",\"2024-05-19T00:00:00\",\"2024-05-26T00:00:00\",\"2024-06-02T00:00:00\",\"2024-06-09T00:00:00\",\"2024-06-16T00:00:00\",\"2024-06-23T00:00:00\",\"2024-06-30T00:00:00\",\"2024-07-07T00:00:00\",\"2024-07-14T00:00:00\",\"2024-07-21T00:00:00\",\"2024-07-28T00:00:00\",\"2024-08-04T00:00:00\",\"2024-08-11T00:00:00\",\"2024-08-18T00:00:00\",\"2024-08-25T00:00:00\",\"2024-09-01T00:00:00\",\"2024-09-08T00:00:00\",\"2024-09-15T00:00:00\",\"2024-09-22T00:00:00\",\"2024-09-29T00:00:00\",\"2024-10-06T00:00:00\",\"2024-10-13T00:00:00\",\"2024-10-20T00:00:00\",\"2024-10-27T00:00:00\",\"2024-11-03T00:00:00\",\"2024-11-10T00:00:00\",\"2024-11-17T00:00:00\",\"2024-11-24T00:00:00\"],\"xaxis\":\"x\",\"y\":[0.01324173636001593,0.02504978096375946,0.0035642582665769145,0.001665714335186051,0.009765658553345671,0.008173105004646223,0.04686413420095312,0.004122337903699911,0.012115580335413073,0.002473034731099248,0.005667371258769108,0.004086852454796858,0.00676649780592433,0.004313773021892081,0.004547890516296198,0.003706959817056524,0.01764711460051962,0.008587590943932718,0.004087126134061226,0.03016437818526022,0.003289099391249929,0.0026003232834352383,0.012168680030089828,0.014204168326032128,0.011376723045380953,1.0,0.0012630141662399725,0.0006270283094808375,0.0024901287050157605,0.004700464907810652,0.0025956253190568546,0.06102582598829302,0.05054238036576886,0.04102648057003993,0.007792155195107629,0.006529141028867656,0.010738889864286507,0.005418486700844328,0.06400831052364306,0.00819606582442874,0.003322635306611693,0.006240544277191048,0.008050064762455844,0.08865156576370094,0.009390669729763703,0.011307884499943237,0.005880892909003705,0.007424089169894353],\"yaxis\":\"y\",\"type\":\"scatter\"},{\"hovertemplate\":\"Type d'interaction=Moyenne des commentaires normalis\\u00e9e\\u003cbr\\u003eDate=%{x}\\u003cbr\\u003eValeur Normalis\\u00e9e=%{y}\\u003cextra\\u003e\\u003c\\u002fextra\\u003e\",\"legendgroup\":\"Moyenne des commentaires normalis\\u00e9e\",\"line\":{\"color\":\"#FF6347\",\"dash\":\"solid\"},\"marker\":{\"symbol\":\"circle\"},\"mode\":\"lines+markers\",\"name\":\"Moyenne des commentaires normalis\\u00e9e\",\"orientation\":\"v\",\"showlegend\":true,\"x\":[\"2023-12-31T00:00:00\",\"2024-01-07T00:00:00\",\"2024-01-14T00:00:00\",\"2024-01-21T00:00:00\",\"2024-01-28T00:00:00\",\"2024-02-04T00:00:00\",\"2024-02-11T00:00:00\",\"2024-02-18T00:00:00\",\"2024-02-25T00:00:00\",\"2024-03-03T00:00:00\",\"2024-03-10T00:00:00\",\"2024-03-17T00:00:00\",\"2024-03-24T00:00:00\",\"2024-03-31T00:00:00\",\"2024-04-07T00:00:00\",\"2024-04-14T00:00:00\",\"2024-04-21T00:00:00\",\"2024-04-28T00:00:00\",\"2024-05-05T00:00:00\",\"2024-05-12T00:00:00\",\"2024-05-19T00:00:00\",\"2024-05-26T00:00:00\",\"2024-06-02T00:00:00\",\"2024-06-09T00:00:00\",\"2024-06-16T00:00:00\",\"2024-06-23T00:00:00\",\"2024-06-30T00:00:00\",\"2024-07-07T00:00:00\",\"2024-07-14T00:00:00\",\"2024-07-21T00:00:00\",\"2024-07-28T00:00:00\",\"2024-08-04T00:00:00\",\"2024-08-11T00:00:00\",\"2024-08-18T00:00:00\",\"2024-08-25T00:00:00\",\"2024-09-01T00:00:00\",\"2024-09-08T00:00:00\",\"2024-09-15T00:00:00\",\"2024-09-22T00:00:00\",\"2024-09-29T00:00:00\",\"2024-10-06T00:00:00\",\"2024-10-13T00:00:00\",\"2024-10-20T00:00:00\",\"2024-10-27T00:00:00\",\"2024-11-03T00:00:00\",\"2024-11-10T00:00:00\",\"2024-11-17T00:00:00\",\"2024-11-24T00:00:00\"],\"xaxis\":\"x\",\"y\":[0.12408741936375557,0.05770723638521661,0.04865295581389346,0.024157700308147376,0.0983958839795625,0.0332206522974355,0.29806939448290193,0.020888237108548483,0.03801659153755824,0.026789529270683857,0.06028666587021069,0.024109171380248328,0.026585029047243525,0.054164107006688327,0.08610595519190542,0.023450002036955374,0.07248218276666324,0.031130211432739995,0.021986013073377306,0.014303901498245158,0.022715957855546476,0.01691537632515789,0.11829140402192412,0.07587510992943017,0.06673523958269592,0.46908205982413337,0.017128354429009757,0.018354982820916008,0.023530841989257874,0.031916327883061715,0.01367075680681425,0.4280774881648128,1.0,0.09685321369514725,0.03717398129487442,0.056150413651115075,0.19139315177166072,0.025065884530258178,0.13960305134213236,0.023958556297997778,0.021884865415034784,0.03369745665807922,0.045433058393648126,0.12711984297488077,0.12436262101866594,0.14915094033068657,0.12459313230110453,0.053207700613492],\"yaxis\":\"y\",\"type\":\"scatter\"}],                        {\"template\":{\"data\":{\"barpolar\":[{\"marker\":{\"line\":{\"color\":\"white\",\"width\":0.5},\"pattern\":{\"fillmode\":\"overlay\",\"size\":10,\"solidity\":0.2}},\"type\":\"barpolar\"}],\"bar\":[{\"error_x\":{\"color\":\"#2a3f5f\"},\"error_y\":{\"color\":\"#2a3f5f\"},\"marker\":{\"line\":{\"color\":\"white\",\"width\":0.5},\"pattern\":{\"fillmode\":\"overlay\",\"size\":10,\"solidity\":0.2}},\"type\":\"bar\"}],\"carpet\":[{\"aaxis\":{\"endlinecolor\":\"#2a3f5f\",\"gridcolor\":\"#C8D4E3\",\"linecolor\":\"#C8D4E3\",\"minorgridcolor\":\"#C8D4E3\",\"startlinecolor\":\"#2a3f5f\"},\"baxis\":{\"endlinecolor\":\"#2a3f5f\",\"gridcolor\":\"#C8D4E3\",\"linecolor\":\"#C8D4E3\",\"minorgridcolor\":\"#C8D4E3\",\"startlinecolor\":\"#2a3f5f\"},\"type\":\"carpet\"}],\"choropleth\":[{\"colorbar\":{\"outlinewidth\":0,\"ticks\":\"\"},\"type\":\"choropleth\"}],\"contourcarpet\":[{\"colorbar\":{\"outlinewidth\":0,\"ticks\":\"\"},\"type\":\"contourcarpet\"}],\"contour\":[{\"colorbar\":{\"outlinewidth\":0,\"ticks\":\"\"},\"colorscale\":[[0.0,\"#0d0887\"],[0.1111111111111111,\"#46039f\"],[0.2222222222222222,\"#7201a8\"],[0.3333333333333333,\"#9c179e\"],[0.4444444444444444,\"#bd3786\"],[0.5555555555555556,\"#d8576b\"],[0.6666666666666666,\"#ed7953\"],[0.7777777777777778,\"#fb9f3a\"],[0.8888888888888888,\"#fdca26\"],[1.0,\"#f0f921\"]],\"type\":\"contour\"}],\"heatmapgl\":[{\"colorbar\":{\"outlinewidth\":0,\"ticks\":\"\"},\"colorscale\":[[0.0,\"#0d0887\"],[0.1111111111111111,\"#46039f\"],[0.2222222222222222,\"#7201a8\"],[0.3333333333333333,\"#9c179e\"],[0.4444444444444444,\"#bd3786\"],[0.5555555555555556,\"#d8576b\"],[0.6666666666666666,\"#ed7953\"],[0.7777777777777778,\"#fb9f3a\"],[0.8888888888888888,\"#fdca26\"],[1.0,\"#f0f921\"]],\"type\":\"heatmapgl\"}],\"heatmap\":[{\"colorbar\":{\"outlinewidth\":0,\"ticks\":\"\"},\"colorscale\":[[0.0,\"#0d0887\"],[0.1111111111111111,\"#46039f\"],[0.2222222222222222,\"#7201a8\"],[0.3333333333333333,\"#9c179e\"],[0.4444444444444444,\"#bd3786\"],[0.5555555555555556,\"#d8576b\"],[0.6666666666666666,\"#ed7953\"],[0.7777777777777778,\"#fb9f3a\"],[0.8888888888888888,\"#fdca26\"],[1.0,\"#f0f921\"]],\"type\":\"heatmap\"}],\"histogram2dcontour\":[{\"colorbar\":{\"outlinewidth\":0,\"ticks\":\"\"},\"colorscale\":[[0.0,\"#0d0887\"],[0.1111111111111111,\"#46039f\"],[0.2222222222222222,\"#7201a8\"],[0.3333333333333333,\"#9c179e\"],[0.4444444444444444,\"#bd3786\"],[0.5555555555555556,\"#d8576b\"],[0.6666666666666666,\"#ed7953\"],[0.7777777777777778,\"#fb9f3a\"],[0.8888888888888888,\"#fdca26\"],[1.0,\"#f0f921\"]],\"type\":\"histogram2dcontour\"}],\"histogram2d\":[{\"colorbar\":{\"outlinewidth\":0,\"ticks\":\"\"},\"colorscale\":[[0.0,\"#0d0887\"],[0.1111111111111111,\"#46039f\"],[0.2222222222222222,\"#7201a8\"],[0.3333333333333333,\"#9c179e\"],[0.4444444444444444,\"#bd3786\"],[0.5555555555555556,\"#d8576b\"],[0.6666666666666666,\"#ed7953\"],[0.7777777777777778,\"#fb9f3a\"],[0.8888888888888888,\"#fdca26\"],[1.0,\"#f0f921\"]],\"type\":\"histogram2d\"}],\"histogram\":[{\"marker\":{\"pattern\":{\"fillmode\":\"overlay\",\"size\":10,\"solidity\":0.2}},\"type\":\"histogram\"}],\"mesh3d\":[{\"colorbar\":{\"outlinewidth\":0,\"ticks\":\"\"},\"type\":\"mesh3d\"}],\"parcoords\":[{\"line\":{\"colorbar\":{\"outlinewidth\":0,\"ticks\":\"\"}},\"type\":\"parcoords\"}],\"pie\":[{\"automargin\":true,\"type\":\"pie\"}],\"scatter3d\":[{\"line\":{\"colorbar\":{\"outlinewidth\":0,\"ticks\":\"\"}},\"marker\":{\"colorbar\":{\"outlinewidth\":0,\"ticks\":\"\"}},\"type\":\"scatter3d\"}],\"scattercarpet\":[{\"marker\":{\"colorbar\":{\"outlinewidth\":0,\"ticks\":\"\"}},\"type\":\"scattercarpet\"}],\"scattergeo\":[{\"marker\":{\"colorbar\":{\"outlinewidth\":0,\"ticks\":\"\"}},\"type\":\"scattergeo\"}],\"scattergl\":[{\"marker\":{\"colorbar\":{\"outlinewidth\":0,\"ticks\":\"\"}},\"type\":\"scattergl\"}],\"scattermapbox\":[{\"marker\":{\"colorbar\":{\"outlinewidth\":0,\"ticks\":\"\"}},\"type\":\"scattermapbox\"}],\"scatterpolargl\":[{\"marker\":{\"colorbar\":{\"outlinewidth\":0,\"ticks\":\"\"}},\"type\":\"scatterpolargl\"}],\"scatterpolar\":[{\"marker\":{\"colorbar\":{\"outlinewidth\":0,\"ticks\":\"\"}},\"type\":\"scatterpolar\"}],\"scatter\":[{\"fillpattern\":{\"fillmode\":\"overlay\",\"size\":10,\"solidity\":0.2},\"type\":\"scatter\"}],\"scatterternary\":[{\"marker\":{\"colorbar\":{\"outlinewidth\":0,\"ticks\":\"\"}},\"type\":\"scatterternary\"}],\"surface\":[{\"colorbar\":{\"outlinewidth\":0,\"ticks\":\"\"},\"colorscale\":[[0.0,\"#0d0887\"],[0.1111111111111111,\"#46039f\"],[0.2222222222222222,\"#7201a8\"],[0.3333333333333333,\"#9c179e\"],[0.4444444444444444,\"#bd3786\"],[0.5555555555555556,\"#d8576b\"],[0.6666666666666666,\"#ed7953\"],[0.7777777777777778,\"#fb9f3a\"],[0.8888888888888888,\"#fdca26\"],[1.0,\"#f0f921\"]],\"type\":\"surface\"}],\"table\":[{\"cells\":{\"fill\":{\"color\":\"#EBF0F8\"},\"line\":{\"color\":\"white\"}},\"header\":{\"fill\":{\"color\":\"#C8D4E3\"},\"line\":{\"color\":\"white\"}},\"type\":\"table\"}]},\"layout\":{\"annotationdefaults\":{\"arrowcolor\":\"#2a3f5f\",\"arrowhead\":0,\"arrowwidth\":1},\"autotypenumbers\":\"strict\",\"coloraxis\":{\"colorbar\":{\"outlinewidth\":0,\"ticks\":\"\"}},\"colorscale\":{\"diverging\":[[0,\"#8e0152\"],[0.1,\"#c51b7d\"],[0.2,\"#de77ae\"],[0.3,\"#f1b6da\"],[0.4,\"#fde0ef\"],[0.5,\"#f7f7f7\"],[0.6,\"#e6f5d0\"],[0.7,\"#b8e186\"],[0.8,\"#7fbc41\"],[0.9,\"#4d9221\"],[1,\"#276419\"]],\"sequential\":[[0.0,\"#0d0887\"],[0.1111111111111111,\"#46039f\"],[0.2222222222222222,\"#7201a8\"],[0.3333333333333333,\"#9c179e\"],[0.4444444444444444,\"#bd3786\"],[0.5555555555555556,\"#d8576b\"],[0.6666666666666666,\"#ed7953\"],[0.7777777777777778,\"#fb9f3a\"],[0.8888888888888888,\"#fdca26\"],[1.0,\"#f0f921\"]],\"sequentialminus\":[[0.0,\"#0d0887\"],[0.1111111111111111,\"#46039f\"],[0.2222222222222222,\"#7201a8\"],[0.3333333333333333,\"#9c179e\"],[0.4444444444444444,\"#bd3786\"],[0.5555555555555556,\"#d8576b\"],[0.6666666666666666,\"#ed7953\"],[0.7777777777777778,\"#fb9f3a\"],[0.8888888888888888,\"#fdca26\"],[1.0,\"#f0f921\"]]},\"colorway\":[\"#636efa\",\"#EF553B\",\"#00cc96\",\"#ab63fa\",\"#FFA15A\",\"#19d3f3\",\"#FF6692\",\"#B6E880\",\"#FF97FF\",\"#FECB52\"],\"font\":{\"color\":\"#2a3f5f\"},\"geo\":{\"bgcolor\":\"white\",\"lakecolor\":\"white\",\"landcolor\":\"white\",\"showlakes\":true,\"showland\":true,\"subunitcolor\":\"#C8D4E3\"},\"hoverlabel\":{\"align\":\"left\"},\"hovermode\":\"closest\",\"mapbox\":{\"style\":\"light\"},\"paper_bgcolor\":\"white\",\"plot_bgcolor\":\"white\",\"polar\":{\"angularaxis\":{\"gridcolor\":\"#EBF0F8\",\"linecolor\":\"#EBF0F8\",\"ticks\":\"\"},\"bgcolor\":\"white\",\"radialaxis\":{\"gridcolor\":\"#EBF0F8\",\"linecolor\":\"#EBF0F8\",\"ticks\":\"\"}},\"scene\":{\"xaxis\":{\"backgroundcolor\":\"white\",\"gridcolor\":\"#DFE8F3\",\"gridwidth\":2,\"linecolor\":\"#EBF0F8\",\"showbackground\":true,\"ticks\":\"\",\"zerolinecolor\":\"#EBF0F8\"},\"yaxis\":{\"backgroundcolor\":\"white\",\"gridcolor\":\"#DFE8F3\",\"gridwidth\":2,\"linecolor\":\"#EBF0F8\",\"showbackground\":true,\"ticks\":\"\",\"zerolinecolor\":\"#EBF0F8\"},\"zaxis\":{\"backgroundcolor\":\"white\",\"gridcolor\":\"#DFE8F3\",\"gridwidth\":2,\"linecolor\":\"#EBF0F8\",\"showbackground\":true,\"ticks\":\"\",\"zerolinecolor\":\"#EBF0F8\"}},\"shapedefaults\":{\"line\":{\"color\":\"#2a3f5f\"}},\"ternary\":{\"aaxis\":{\"gridcolor\":\"#DFE8F3\",\"linecolor\":\"#A2B1C6\",\"ticks\":\"\"},\"baxis\":{\"gridcolor\":\"#DFE8F3\",\"linecolor\":\"#A2B1C6\",\"ticks\":\"\"},\"bgcolor\":\"white\",\"caxis\":{\"gridcolor\":\"#DFE8F3\",\"linecolor\":\"#A2B1C6\",\"ticks\":\"\"}},\"title\":{\"x\":0.05},\"xaxis\":{\"automargin\":true,\"gridcolor\":\"#EBF0F8\",\"linecolor\":\"#EBF0F8\",\"ticks\":\"\",\"title\":{\"standoff\":15},\"zerolinecolor\":\"#EBF0F8\",\"zerolinewidth\":2},\"yaxis\":{\"automargin\":true,\"gridcolor\":\"#EBF0F8\",\"linecolor\":\"#EBF0F8\",\"ticks\":\"\",\"title\":{\"standoff\":15},\"zerolinecolor\":\"#EBF0F8\",\"zerolinewidth\":2}}},\"xaxis\":{\"anchor\":\"y\",\"domain\":[0.0,1.0],\"title\":{\"text\":\"Semaines de 2024\"},\"showline\":true,\"linecolor\":\"gray\",\"linewidth\":0.5,\"mirror\":true,\"showgrid\":true,\"gridcolor\":\"lightgray\",\"tickmode\":\"linear\",\"dtick\":\"M1\",\"tickformat\":\"%b %Y\",\"range\":[\"2023-12-31T00:00:00\",\"2024-11-24T00:00:00\"]},\"yaxis\":{\"anchor\":\"x\",\"domain\":[0.0,1.0],\"title\":{\"text\":\"Proportion par rapport au maximum\"},\"showline\":false,\"linecolor\":\"black\",\"linewidth\":1.5,\"mirror\":true,\"showgrid\":true,\"gridcolor\":\"lightgray\"},\"legend\":{\"title\":{\"text\":\"Type d'Interaction\"},\"tracegroupgap\":0,\"x\":0.01,\"y\":0.99,\"bgcolor\":\"rgba(255,255,255,0.7)\",\"bordercolor\":\"black\",\"borderwidth\":1},\"title\":{\"text\":\"Moyenne des interactions par tweet par semaine (normalis\\u00e9es)\"},\"width\":1100,\"height\":600,\"plot_bgcolor\":\"white\",\"hovermode\":\"x unified\"},                        {\"responsive\": true}                    ).then(function(){\n",
       "                            \n",
       "var gd = document.getElementById('f355ce18-5597-49b4-9708-6c554392016b');\n",
       "var x = new MutationObserver(function (mutations, observer) {{\n",
       "        var display = window.getComputedStyle(gd).display;\n",
       "        if (!display || display === 'none') {{\n",
       "            console.log([gd, 'removed!']);\n",
       "            Plotly.purge(gd);\n",
       "            observer.disconnect();\n",
       "        }}\n",
       "}});\n",
       "\n",
       "// Listen for the removal of the full notebook cells\n",
       "var notebookContainer = gd.closest('#notebook-container');\n",
       "if (notebookContainer) {{\n",
       "    x.observe(notebookContainer, {childList: true});\n",
       "}}\n",
       "\n",
       "// Listen for the clearing of the current output cell\n",
       "var outputEl = gd.closest('.output');\n",
       "if (outputEl) {{\n",
       "    x.observe(outputEl, {childList: true});\n",
       "}}\n",
       "\n",
       "                        })                };                });            </script>        </div>"
      ]
     },
     "metadata": {},
     "output_type": "display_data"
    }
   ],
   "source": [
    "\n",
    "# Grouper par semaine\n",
    "weekly_stats = df.groupby('YearWeek').agg(\n",
    "    TotalLikes=('Likes', 'sum'),\n",
    "    TotalRepost=('Repost', 'sum'),\n",
    "    TotalComments=('Comments', 'sum'),\n",
    "    NombreTweets=('YearWeek', 'size')\n",
    ")\n",
    "\n",
    "# Calcul des moyennes pondérées\n",
    "weekly_stats['MoyLikes'] = weekly_stats['TotalLikes'] / weekly_stats['NombreTweets']\n",
    "weekly_stats['MoyRepost'] = weekly_stats['TotalRepost'] / weekly_stats['NombreTweets']\n",
    "weekly_stats['MoyComments'] = weekly_stats['TotalComments'] / weekly_stats['NombreTweets']\n",
    "\n",
    "# Convertir YearWeek en dates réelles (début de semaine)\n",
    "weekly_stats['Date'] = pd.to_datetime(weekly_stats.index + '-0', format='%Y-%U-%w')\n",
    "\n",
    "# Normaliser les moyennes par rapport au maximum de chaque colonne\n",
    "columns_to_normalize = ['MoyLikes', 'MoyRepost', 'MoyComments']\n",
    "for col in columns_to_normalize:\n",
    "    weekly_stats[col + '_Norm'] = weekly_stats[col] / weekly_stats[col].max()\n",
    "\n",
    "# Mettre les données au format \"long\"\n",
    "long_format_means = weekly_stats.melt(\n",
    "    id_vars=['Date'], \n",
    "    value_vars=['MoyLikes_Norm', 'MoyRepost_Norm', 'MoyComments_Norm'], \n",
    "    var_name='Type d\\'interaction', \n",
    "    value_name='Valeur Normalisée'\n",
    ")\n",
    "\n",
    "# Remplacer les noms des interactions pour qu'ils apparaissent dans la légende\n",
    "long_format_means['Type d\\'interaction'] = long_format_means['Type d\\'interaction'].replace({\n",
    "    'MoyLikes_Norm': 'Moyenne des likes normalisée',\n",
    "    'MoyRepost_Norm': 'Moyenne des retweets normalisée',\n",
    "    'MoyComments_Norm': 'Moyenne des commentaires normalisée'\n",
    "})\n",
    "\n",
    "# Palette de couleurs plus visibles mais douces\n",
    "couleurs_visibles = ['#FFB347', '#6A5ACD', '#FF6347']  \n",
    "\n",
    "# Création du graphique interactif avec Plotly\n",
    "fig = px.line(\n",
    "    long_format_means,\n",
    "    x='Date',\n",
    "    y='Valeur Normalisée',\n",
    "    color='Type d\\'interaction',\n",
    "    title='Moyenne des interactions par tweet par semaine (normalisées)',\n",
    "    color_discrete_sequence=couleurs_visibles,\n",
    "    markers=True\n",
    ")\n",
    "\n",
    "# Personnalisation des axes et affichage des mois\n",
    "fig.update_xaxes(\n",
    "    title=\"Semaines de 2024\",\n",
    "    showline=True,\n",
    "    linecolor=\"gray\",\n",
    "    linewidth=0.5,\n",
    "    mirror=True,\n",
    "    showgrid=True,\n",
    "    gridcolor=\"lightgray\",\n",
    "    tickmode=\"linear\",\n",
    "    dtick=\"M1\",  # Espacement d'un mois\n",
    "    tickformat=\"%b %Y\",  # Format Mois Année\n",
    "    range=[weekly_stats['Date'].min(), weekly_stats['Date'].max()]  # Plage des dates\n",
    ")\n",
    "\n",
    "fig.update_yaxes(\n",
    "    title=\"Proportion par rapport au maximum\",\n",
    "    showline=False,\n",
    "    linecolor=\"black\",\n",
    "    linewidth=1.5,\n",
    "    mirror=True,\n",
    "    showgrid=True,\n",
    "    gridcolor=\"lightgray\"\n",
    ")\n",
    "\n",
    "# Ajuster la taille et le style de la figure\n",
    "fig.update_layout(\n",
    "    width=1100,\n",
    "    height=600,\n",
    "    template=\"plotly_white\",\n",
    "    plot_bgcolor=\"white\",\n",
    "    hovermode=\"x unified\",\n",
    "    legend=dict(\n",
    "        title=\"Type d'Interaction\",\n",
    "        x=0.01, y=0.99,\n",
    "        bgcolor='rgba(255,255,255,0.7)',\n",
    "        bordercolor='black',\n",
    "        borderwidth=1\n",
    "    )\n",
    ")\n",
    "\n",
    "# Afficher le graphique\n",
    "fig.show()\n"
   ]
  },
  {
   "cell_type": "markdown",
   "metadata": {},
   "source": [
    "On observe directement deux choses :\n",
    "- les pics observés en juin et en août 2024 n'ont pas été diminués par le nombre de tweets, ce qui signifie que certains tweets ont suscité beaucoup plus d'interactions que d'autres.\n",
    "- en novembre 2024, le nombre élevé des interactions s'expliquaient par un nombre de tweets beaucoup plus important à cette période là (ce qu'on a pu observer dans le premier graphique). De fait, les interactions n'ont pas été significativement plus importantes qu'à d'autres moments de l'année : les utilisateurs ont donc beaucoup plus tweeté que réagi.\n",
    "\n",
    "Tout cela, nous allons l'expliquer ci-dessous. "
   ]
  },
  {
   "cell_type": "markdown",
   "metadata": {},
   "source": [
    "### 2.3. Analyse des interactions par mois"
   ]
  },
  {
   "cell_type": "markdown",
   "metadata": {},
   "source": [
    "Face aux variations hebdomadaires des interactions, nous avons voulu élargir notre analyse à une échelle mensuelle. Nous avons choisi une représentation un peu différente, en regardant en cumulé les interactions. C'est ce qu'on peut voir dans le graphique suivant :"
   ]
  },
  {
   "cell_type": "code",
   "execution_count": 10,
   "metadata": {},
   "outputs": [
    {
     "name": "stderr",
     "output_type": "stream",
     "text": [
      "/tmp/ipykernel_81841/3343494294.py:43: FutureWarning: Series.__getitem__ treating keys as positions is deprecated. In a future version, integer keys will always be treated as labels (consistent with DataFrame behavior). To access a value by position, use `ser.iloc[pos]`\n",
      "  x_coord = dates[i]\n"
     ]
    },
    {
     "data": {
      "image/png": "[encoded data removed]",
      "text/plain": [
       "<Figure size 1200x800 with 1 Axes>"
      ]
     },
     "metadata": {},
     "output_type": "display_data"
    }
   ],
   "source": [
    "# Vérifiez que les colonnes nécessaires existent\n",
    "if not {'Likes', 'Views', 'Repost', 'Comments', 'ConvertedDate'}.issubset(dfmois.columns):\n",
    "    raise ValueError(\"Le fichier doit contenir les colonnes 'Likes', 'Views', 'Repost', 'Comments', et 'ConvertedDate'\")\n",
    "\n",
    "# Ajouter une colonne YearMonth\n",
    "dfmois['YearMonth'] = dfmois['ConvertedDate'].dt.strftime('%Y-%m')\n",
    "\n",
    "# Grouper par mois\n",
    "monthly_stats = dfmois.groupby('YearMonth').agg(\n",
    "    TotalLikes=('Likes', 'sum'),\n",
    "    TotalRepost=('Repost', 'sum'),\n",
    "    TotalComments=('Comments', 'sum'),\n",
    ")\n",
    "\n",
    "# Convertir YearMonth en date réelle (début de mois)\n",
    "monthly_stats['Date'] = pd.to_datetime(monthly_stats.index + '-01', format='%Y-%m-%d')\n",
    "\n",
    "# Initialisation des données pour l'histogramme empilé\n",
    "dates = monthly_stats['Date']\n",
    "likes = monthly_stats['TotalLikes']\n",
    "reposts = monthly_stats['TotalRepost']\n",
    "comments = monthly_stats['TotalComments']\n",
    "total = likes + reposts + comments  # Total cumulé pour chaque mois\n",
    "\n",
    "# Configuration du style Seaborn\n",
    "sns.set_style(\"whitegrid\")\n",
    "palette = sns.color_palette(\"pastel\")\n",
    "\n",
    "# Largeur des barres\n",
    "bar_width = 20  # Ajuster la largeur des barres\n",
    "\n",
    "# Mois à ne pas afficher\n",
    "mois_exclus = ['2024-01', '2024-02', '2024-03', '2024-04', '2024-05', '2024-07']\n",
    "\n",
    "# Création de l'histogramme empilé\n",
    "plt.figure(figsize=(12, 8))\n",
    "bars1 = plt.bar(dates, likes, width=bar_width, color=palette[4], label='Total des likes')\n",
    "bars2 = plt.bar(dates, reposts, width=bar_width, bottom=likes, color=palette[8], label='Total des retweets')\n",
    "bars3 = plt.bar(dates, comments, width=bar_width, bottom=likes + reposts, color=palette[3], label='Total des commentaires')\n",
    "\n",
    "# Ajouter les pourcentages sur les barres\n",
    "for i, (like, repost, comment, tot) in enumerate(zip(likes, reposts, comments, total)):\n",
    "    x_coord = dates[i]\n",
    "    if x_coord.strftime('%Y-%m') not in mois_exclus:  # Exclure certains mois\n",
    "        # Afficher les pourcentages\n",
    "        plt.text(x_coord, like / 2, f'{like / tot:.0%}', ha='center', va='center', fontsize=10, color='black')\n",
    "        plt.text(x_coord, like + repost / 2, f'{repost / tot:.0%}', ha='center', va='center', fontsize=10, color='black')\n",
    "        plt.text(x_coord, like + repost + comment / 2, f'{comment / tot:.0%}', ha='center', va='center', fontsize=10, color='black')\n",
    "\n",
    "# Personnalisation du graphique\n",
    "plt.title('Histogramme empilé des interactions par mois', fontsize=16)\n",
    "plt.xlabel('Mois de 2024', fontsize=12)\n",
    "plt.ylabel('Total cumulé des interactions', fontsize=12)\n",
    "plt.xticks(dates, dates.dt.strftime('%b %Y'), rotation=45)\n",
    "plt.legend(title='Type d\\'interaction')\n",
    "plt.tight_layout()\n",
    "\n",
    "# Afficher le graphique\n",
    "plt.show()\n"
   ]
  },
  {
   "cell_type": "markdown",
   "metadata": {},
   "source": [
    "La structure est étonnante : en effet, alors que le nombre de tweets atteint les 2000 durant la deuxième semaine de novembre, contre 250 environ en août, les interactions sont beaucoup (et de loin) plus nombreuses en août que durant les autres mois de l'année. \n",
    "\n",
    "C'est pour cela que nous allons voir ce qui s'est passé en août pour essayer de comprendre ce qui a été aussi significatif. Pour ce faire, nous allons regarder le nombre total d'interactions par jour."
   ]
  },
  {
   "cell_type": "code",
   "execution_count": null,
   "metadata": {},
   "outputs": [
    {
     "data": {
      "application/vnd.plotly.v1+json": {
       "config": {
        "plotlyServerURL": "https://plot.ly"
       },
       "data": [
        {
         "marker": {
          "color": "purple"
         },
         "name": "Total Global des Interactions",
         "type": "bar",
         "x": [
          "2024-08-01T00:00:00",
          "2024-08-02T00:00:00",
          "2024-08-03T00:00:00",
          "2024-08-04T00:00:00",
          "2024-08-05T00:00:00",
          "2024-08-06T00:00:00",
          "2024-08-07T00:00:00",
          "2024-08-08T00:00:00",
          "2024-08-09T00:00:00",
          "2024-08-10T00:00:00",
          "2024-08-11T00:00:00",
          "2024-08-12T00:00:00",
          "2024-08-13T00:00:00",
          "2024-08-14T00:00:00",
          "2024-08-15T00:00:00",
          "2024-08-16T00:00:00",
          "2024-08-17T00:00:00",
          "2024-08-18T00:00:00",
          "2024-08-19T00:00:00",
          "2024-08-20T00:00:00",
          "2024-08-21T00:00:00",
          "2024-08-22T00:00:00",
          "2024-08-23T00:00:00",
          "2024-08-24T00:00:00",
          "2024-08-25T00:00:00",
          "2024-08-26T00:00:00",
          "2024-08-27T00:00:00",
          "2024-08-28T00:00:00",
          "2024-08-29T00:00:00",
          "2024-08-30T00:00:00",
          "2024-08-31T00:00:00"
         ],
         "y": [
          26,
          148,
          19,
          405,
          223,
          3513,
          1937,
          226,
          47209,
          529,
          931,
          6705,
          42740,
          1471,
          160,
          266,
          13150,
          2833,
          13675,
          3579,
          473,
          57,
          792,
          34,
          1116,
          479,
          25,
          953,
          182,
          294,
          1353
         ]
        }
       ],
       "layout": {
        "bargap": 0.1,
        "hovermode": "x unified",
        "legend": {
         "bgcolor": "rgba(255,255,255,0.7)",
         "bordercolor": "black",
         "borderwidth": 1,
         "title": {
          "text": "Légende"
         },
         "x": 0.01,
         "y": 0.99
        },
        "plot_bgcolor": "white",
        "template": {
         "data": {
          "bar": [
           {
            "error_x": {
             "color": "#2a3f5f"
            },
            "error_y": {
             "color": "#2a3f5f"
            },
            "marker": {
             "line": {
              "color": "white",
              "width": 0.5
             },
             "pattern": {
              "fillmode": "overlay",
              "size": 10,
              "solidity": 0.2
             }
            },
            "type": "bar"
           }
          ],
          "barpolar": [
           {
            "marker": {
             "line": {
              "color": "white",
              "width": 0.5
             },
             "pattern": {
              "fillmode": "overlay",
              "size": 10,
              "solidity": 0.2
             }
            },
            "type": "barpolar"
           }
          ],
          "carpet": [
           {
            "aaxis": {
             "endlinecolor": "#2a3f5f",
             "gridcolor": "#C8D4E3",
             "linecolor": "#C8D4E3",
             "minorgridcolor": "#C8D4E3",
             "startlinecolor": "#2a3f5f"
            },
            "baxis": {
             "endlinecolor": "#2a3f5f",
             "gridcolor": "#C8D4E3",
             "linecolor": "#C8D4E3",
             "minorgridcolor": "#C8D4E3",
             "startlinecolor": "#2a3f5f"
            },
            "type": "carpet"
           }
          ],
          "choropleth": [
           {
            "colorbar": {
             "outlinewidth": 0,
             "ticks": ""
            },
            "type": "choropleth"
           }
          ],
          "contour": [
           {
            "colorbar": {
             "outlinewidth": 0,
             "ticks": ""
            },
            "colorscale": [
             [
              0,
              "#0d0887"
             ],
             [
              0.1111111111111111,
              "#46039f"
             ],
             [
              0.2222222222222222,
              "#7201a8"
             ],
             [
              0.3333333333333333,
              "#9c179e"
             ],
             [
              0.4444444444444444,
              "#bd3786"
             ],
             [
              0.5555555555555556,
              "#d8576b"
             ],
             [
              0.6666666666666666,
              "#ed7953"
             ],
             [
              0.7777777777777778,
              "#fb9f3a"
             ],
             [
              0.8888888888888888,
              "#fdca26"
             ],
             [
              1,
              "#f0f921"
             ]
            ],
            "type": "contour"
           }
          ],
          "contourcarpet": [
           {
            "colorbar": {
             "outlinewidth": 0,
             "ticks": ""
            },
            "type": "contourcarpet"
           }
          ],
          "heatmap": [
           {
            "colorbar": {
             "outlinewidth": 0,
             "ticks": ""
            },
            "colorscale": [
             [
              0,
              "#0d0887"
             ],
             [
              0.1111111111111111,
              "#46039f"
             ],
             [
              0.2222222222222222,
              "#7201a8"
             ],
             [
              0.3333333333333333,
              "#9c179e"
             ],
             [
              0.4444444444444444,
              "#bd3786"
             ],
             [
              0.5555555555555556,
              "#d8576b"
             ],
             [
              0.6666666666666666,
              "#ed7953"
             ],
             [
              0.7777777777777778,
              "#fb9f3a"
             ],
             [
              0.8888888888888888,
              "#fdca26"
             ],
             [
              1,
              "#f0f921"
             ]
            ],
            "type": "heatmap"
           }
          ],
          "heatmapgl": [
           {
            "colorbar": {
             "outlinewidth": 0,
             "ticks": ""
            },
            "colorscale": [
             [
              0,
              "#0d0887"
             ],
             [
              0.1111111111111111,
              "#46039f"
             ],
             [
              0.2222222222222222,
              "#7201a8"
             ],
             [
              0.3333333333333333,
              "#9c179e"
             ],
             [
              0.4444444444444444,
              "#bd3786"
             ],
             [
              0.5555555555555556,
              "#d8576b"
             ],
             [
              0.6666666666666666,
              "#ed7953"
             ],
             [
              0.7777777777777778,
              "#fb9f3a"
             ],
             [
              0.8888888888888888,
              "#fdca26"
             ],
             [
              1,
              "#f0f921"
             ]
            ],
            "type": "heatmapgl"
           }
          ],
          "histogram": [
           {
            "marker": {
             "pattern": {
              "fillmode": "overlay",
              "size": 10,
              "solidity": 0.2
             }
            },
            "type": "histogram"
           }
          ],
          "histogram2d": [
           {
            "colorbar": {
             "outlinewidth": 0,
             "ticks": ""
            },
            "colorscale": [
             [
              0,
              "#0d0887"
             ],
             [
              0.1111111111111111,
              "#46039f"
             ],
             [
              0.2222222222222222,
              "#7201a8"
             ],
             [
              0.3333333333333333,
              "#9c179e"
             ],
             [
              0.4444444444444444,
              "#bd3786"
             ],
             [
              0.5555555555555556,
              "#d8576b"
             ],
             [
              0.6666666666666666,
              "#ed7953"
             ],
             [
              0.7777777777777778,
              "#fb9f3a"
             ],
             [
              0.8888888888888888,
              "#fdca26"
             ],
             [
              1,
              "#f0f921"
             ]
            ],
            "type": "histogram2d"
           }
          ],
          "histogram2dcontour": [
           {
            "colorbar": {
             "outlinewidth": 0,
             "ticks": ""
            },
            "colorscale": [
             [
              0,
              "#0d0887"
             ],
             [
              0.1111111111111111,
              "#46039f"
             ],
             [
              0.2222222222222222,
              "#7201a8"
             ],
             [
              0.3333333333333333,
              "#9c179e"
             ],
             [
              0.4444444444444444,
              "#bd3786"
             ],
             [
              0.5555555555555556,
              "#d8576b"
             ],
             [
              0.6666666666666666,
              "#ed7953"
             ],
             [
              0.7777777777777778,
              "#fb9f3a"
             ],
             [
              0.8888888888888888,
              "#fdca26"
             ],
             [
              1,
              "#f0f921"
             ]
            ],
            "type": "histogram2dcontour"
           }
          ],
          "mesh3d": [
           {
            "colorbar": {
             "outlinewidth": 0,
             "ticks": ""
            },
            "type": "mesh3d"
           }
          ],
          "parcoords": [
           {
            "line": {
             "colorbar": {
              "outlinewidth": 0,
              "ticks": ""
             }
            },
            "type": "parcoords"
           }
          ],
          "pie": [
           {
            "automargin": true,
            "type": "pie"
           }
          ],
          "scatter": [
           {
            "fillpattern": {
             "fillmode": "overlay",
             "size": 10,
             "solidity": 0.2
            },
            "type": "scatter"
           }
          ],
          "scatter3d": [
           {
            "line": {
             "colorbar": {
              "outlinewidth": 0,
              "ticks": ""
             }
            },
            "marker": {
             "colorbar": {
              "outlinewidth": 0,
              "ticks": ""
             }
            },
            "type": "scatter3d"
           }
          ],
          "scattercarpet": [
           {
            "marker": {
             "colorbar": {
              "outlinewidth": 0,
              "ticks": ""
             }
            },
            "type": "scattercarpet"
           }
          ],
          "scattergeo": [
           {
            "marker": {
             "colorbar": {
              "outlinewidth": 0,
              "ticks": ""
             }
            },
            "type": "scattergeo"
           }
          ],
          "scattergl": [
           {
            "marker": {
             "colorbar": {
              "outlinewidth": 0,
              "ticks": ""
             }
            },
            "type": "scattergl"
           }
          ],
          "scattermapbox": [
           {
            "marker": {
             "colorbar": {
              "outlinewidth": 0,
              "ticks": ""
             }
            },
            "type": "scattermapbox"
           }
          ],
          "scatterpolar": [
           {
            "marker": {
             "colorbar": {
              "outlinewidth": 0,
              "ticks": ""
             }
            },
            "type": "scatterpolar"
           }
          ],
          "scatterpolargl": [
           {
            "marker": {
             "colorbar": {
              "outlinewidth": 0,
              "ticks": ""
             }
            },
            "type": "scatterpolargl"
           }
          ],
          "scatterternary": [
           {
            "marker": {
             "colorbar": {
              "outlinewidth": 0,
              "ticks": ""
             }
            },
            "type": "scatterternary"
           }
          ],
          "surface": [
           {
            "colorbar": {
             "outlinewidth": 0,
             "ticks": ""
            },
            "colorscale": [
             [
              0,
              "#0d0887"
             ],
             [
              0.1111111111111111,
              "#46039f"
             ],
             [
              0.2222222222222222,
              "#7201a8"
             ],
             [
              0.3333333333333333,
              "#9c179e"
             ],
             [
              0.4444444444444444,
              "#bd3786"
             ],
             [
              0.5555555555555556,
              "#d8576b"
             ],
             [
              0.6666666666666666,
              "#ed7953"
             ],
             [
              0.7777777777777778,
              "#fb9f3a"
             ],
             [
              0.8888888888888888,
              "#fdca26"
             ],
             [
              1,
              "#f0f921"
             ]
            ],
            "type": "surface"
           }
          ],
          "table": [
           {
            "cells": {
             "fill": {
              "color": "#EBF0F8"
             },
             "line": {
              "color": "white"
             }
            },
            "header": {
             "fill": {
              "color": "#C8D4E3"
             },
             "line": {
              "color": "white"
             }
            },
            "type": "table"
           }
          ]
         },
         "layout": {
          "annotationdefaults": {
           "arrowcolor": "#2a3f5f",
           "arrowhead": 0,
           "arrowwidth": 1
          },
          "autotypenumbers": "strict",
          "coloraxis": {
           "colorbar": {
            "outlinewidth": 0,
            "ticks": ""
           }
          },
          "colorscale": {
           "diverging": [
            [
             0,
             "#8e0152"
            ],
            [
             0.1,
             "#c51b7d"
            ],
            [
             0.2,
             "#de77ae"
            ],
            [
             0.3,
             "#f1b6da"
            ],
            [
             0.4,
             "#fde0ef"
            ],
            [
             0.5,
             "#f7f7f7"
            ],
            [
             0.6,
             "#e6f5d0"
            ],
            [
             0.7,
             "#b8e186"
            ],
            [
             0.8,
             "#7fbc41"
            ],
            [
             0.9,
             "#4d9221"
            ],
            [
             1,
             "#276419"
            ]
           ],
           "sequential": [
            [
             0,
             "#0d0887"
            ],
            [
             0.1111111111111111,
             "#46039f"
            ],
            [
             0.2222222222222222,
             "#7201a8"
            ],
            [
             0.3333333333333333,
             "#9c179e"
            ],
            [
             0.4444444444444444,
             "#bd3786"
            ],
            [
             0.5555555555555556,
             "#d8576b"
            ],
            [
             0.6666666666666666,
             "#ed7953"
            ],
            [
             0.7777777777777778,
             "#fb9f3a"
            ],
            [
             0.8888888888888888,
             "#fdca26"
            ],
            [
             1,
             "#f0f921"
            ]
           ],
           "sequentialminus": [
            [
             0,
             "#0d0887"
            ],
            [
             0.1111111111111111,
             "#46039f"
            ],
            [
             0.2222222222222222,
             "#7201a8"
            ],
            [
             0.3333333333333333,
             "#9c179e"
            ],
            [
             0.4444444444444444,
             "#bd3786"
            ],
            [
             0.5555555555555556,
             "#d8576b"
            ],
            [
             0.6666666666666666,
             "#ed7953"
            ],
            [
             0.7777777777777778,
             "#fb9f3a"
            ],
            [
             0.8888888888888888,
             "#fdca26"
            ],
            [
             1,
             "#f0f921"
            ]
           ]
          },
          "colorway": [
           "#636efa",
           "#EF553B",
           "#00cc96",
           "#ab63fa",
           "#FFA15A",
           "#19d3f3",
           "#FF6692",
           "#B6E880",
           "#FF97FF",
           "#FECB52"
          ],
          "font": {
           "color": "#2a3f5f"
          },
          "geo": {
           "bgcolor": "white",
           "lakecolor": "white",
           "landcolor": "white",
           "showlakes": true,
           "showland": true,
           "subunitcolor": "#C8D4E3"
          },
          "hoverlabel": {
           "align": "left"
          },
          "hovermode": "closest",
          "mapbox": {
           "style": "light"
          },
          "paper_bgcolor": "white",
          "plot_bgcolor": "white",
          "polar": {
           "angularaxis": {
            "gridcolor": "#EBF0F8",
            "linecolor": "#EBF0F8",
            "ticks": ""
           },
           "bgcolor": "white",
           "radialaxis": {
            "gridcolor": "#EBF0F8",
            "linecolor": "#EBF0F8",
            "ticks": ""
           }
          },
          "scene": {
           "xaxis": {
            "backgroundcolor": "white",
            "gridcolor": "#DFE8F3",
            "gridwidth": 2,
            "linecolor": "#EBF0F8",
            "showbackground": true,
            "ticks": "",
            "zerolinecolor": "#EBF0F8"
           },
           "yaxis": {
            "backgroundcolor": "white",
            "gridcolor": "#DFE8F3",
            "gridwidth": 2,
            "linecolor": "#EBF0F8",
            "showbackground": true,
            "ticks": "",
            "zerolinecolor": "#EBF0F8"
           },
           "zaxis": {
            "backgroundcolor": "white",
            "gridcolor": "#DFE8F3",
            "gridwidth": 2,
            "linecolor": "#EBF0F8",
            "showbackground": true,
            "ticks": "",
            "zerolinecolor": "#EBF0F8"
           }
          },
          "shapedefaults": {
           "line": {
            "color": "#2a3f5f"
           }
          },
          "ternary": {
           "aaxis": {
            "gridcolor": "#DFE8F3",
            "linecolor": "#A2B1C6",
            "ticks": ""
           },
           "baxis": {
            "gridcolor": "#DFE8F3",
            "linecolor": "#A2B1C6",
            "ticks": ""
           },
           "bgcolor": "white",
           "caxis": {
            "gridcolor": "#DFE8F3",
            "linecolor": "#A2B1C6",
            "ticks": ""
           }
          },
          "title": {
           "x": 0.05
          },
          "xaxis": {
           "automargin": true,
           "gridcolor": "#EBF0F8",
           "linecolor": "#EBF0F8",
           "ticks": "",
           "title": {
            "standoff": 15
           },
           "zerolinecolor": "#EBF0F8",
           "zerolinewidth": 2
          },
          "yaxis": {
           "automargin": true,
           "gridcolor": "#EBF0F8",
           "linecolor": "#EBF0F8",
           "ticks": "",
           "title": {
            "standoff": 15
           },
           "zerolinecolor": "#EBF0F8",
           "zerolinewidth": 2
          }
         }
        },
        "title": {
         "text": "Histogramme des interactions globales par jour en août 2024"
        },
        "xaxis": {
         "linecolor": "gray",
         "linewidth": 1,
         "showline": true,
         "tickangle": -45,
         "ticktext": [
          "01",
          "02",
          "03",
          "04",
          "05",
          "06",
          "07",
          "08",
          "09",
          "10",
          "11",
          "12",
          "13",
          "14",
          "15",
          "16",
          "17",
          "18",
          "19",
          "20",
          "21",
          "22",
          "23",
          "24",
          "25",
          "26",
          "27",
          "28",
          "29",
          "30",
          "31"
         ],
         "tickvals": [
          "2024-08-01T00:00:00",
          "2024-08-02T00:00:00",
          "2024-08-03T00:00:00",
          "2024-08-04T00:00:00",
          "2024-08-05T00:00:00",
          "2024-08-06T00:00:00",
          "2024-08-07T00:00:00",
          "2024-08-08T00:00:00",
          "2024-08-09T00:00:00",
          "2024-08-10T00:00:00",
          "2024-08-11T00:00:00",
          "2024-08-12T00:00:00",
          "2024-08-13T00:00:00",
          "2024-08-14T00:00:00",
          "2024-08-15T00:00:00",
          "2024-08-16T00:00:00",
          "2024-08-17T00:00:00",
          "2024-08-18T00:00:00",
          "2024-08-19T00:00:00",
          "2024-08-20T00:00:00",
          "2024-08-21T00:00:00",
          "2024-08-22T00:00:00",
          "2024-08-23T00:00:00",
          "2024-08-24T00:00:00",
          "2024-08-25T00:00:00",
          "2024-08-26T00:00:00",
          "2024-08-27T00:00:00",
          "2024-08-28T00:00:00",
          "2024-08-29T00:00:00",
          "2024-08-30T00:00:00",
          "2024-08-31T00:00:00"
         ],
         "title": {
          "text": "Jours du mois d'août"
         }
        },
        "yaxis": {
         "linecolor": "gray",
         "linewidth": 1,
         "showline": true,
         "title": {
          "text": "Total des interactions"
         }
        }
       }
      },
      "text/html": [
       "<div>                            <div id=\"749f7bbe-dd89-4353-909f-efa907bab7b1\" class=\"plotly-graph-div\" style=\"height:525px; width:100%;\"></div>            <script type=\"text/javascript\">                require([\"plotly\"], function(Plotly) {                    window.PLOTLYENV=window.PLOTLYENV || {};                                    if (document.getElementById(\"749f7bbe-dd89-4353-909f-efa907bab7b1\")) {                    Plotly.newPlot(                        \"749f7bbe-dd89-4353-909f-efa907bab7b1\",                        [{\"marker\":{\"color\":\"purple\"},\"name\":\"Total Global des Interactions\",\"x\":[\"2024-08-01T00:00:00\",\"2024-08-02T00:00:00\",\"2024-08-03T00:00:00\",\"2024-08-04T00:00:00\",\"2024-08-05T00:00:00\",\"2024-08-06T00:00:00\",\"2024-08-07T00:00:00\",\"2024-08-08T00:00:00\",\"2024-08-09T00:00:00\",\"2024-08-10T00:00:00\",\"2024-08-11T00:00:00\",\"2024-08-12T00:00:00\",\"2024-08-13T00:00:00\",\"2024-08-14T00:00:00\",\"2024-08-15T00:00:00\",\"2024-08-16T00:00:00\",\"2024-08-17T00:00:00\",\"2024-08-18T00:00:00\",\"2024-08-19T00:00:00\",\"2024-08-20T00:00:00\",\"2024-08-21T00:00:00\",\"2024-08-22T00:00:00\",\"2024-08-23T00:00:00\",\"2024-08-24T00:00:00\",\"2024-08-25T00:00:00\",\"2024-08-26T00:00:00\",\"2024-08-27T00:00:00\",\"2024-08-28T00:00:00\",\"2024-08-29T00:00:00\",\"2024-08-30T00:00:00\",\"2024-08-31T00:00:00\"],\"y\":[26,148,19,405,223,3513,1937,226,47209,529,931,6705,42740,1471,160,266,13150,2833,13675,3579,473,57,792,34,1116,479,25,953,182,294,1353],\"type\":\"bar\"}],                        {\"template\":{\"data\":{\"barpolar\":[{\"marker\":{\"line\":{\"color\":\"white\",\"width\":0.5},\"pattern\":{\"fillmode\":\"overlay\",\"size\":10,\"solidity\":0.2}},\"type\":\"barpolar\"}],\"bar\":[{\"error_x\":{\"color\":\"#2a3f5f\"},\"error_y\":{\"color\":\"#2a3f5f\"},\"marker\":{\"line\":{\"color\":\"white\",\"width\":0.5},\"pattern\":{\"fillmode\":\"overlay\",\"size\":10,\"solidity\":0.2}},\"type\":\"bar\"}],\"carpet\":[{\"aaxis\":{\"endlinecolor\":\"#2a3f5f\",\"gridcolor\":\"#C8D4E3\",\"linecolor\":\"#C8D4E3\",\"minorgridcolor\":\"#C8D4E3\",\"startlinecolor\":\"#2a3f5f\"},\"baxis\":{\"endlinecolor\":\"#2a3f5f\",\"gridcolor\":\"#C8D4E3\",\"linecolor\":\"#C8D4E3\",\"minorgridcolor\":\"#C8D4E3\",\"startlinecolor\":\"#2a3f5f\"},\"type\":\"carpet\"}],\"choropleth\":[{\"colorbar\":{\"outlinewidth\":0,\"ticks\":\"\"},\"type\":\"choropleth\"}],\"contourcarpet\":[{\"colorbar\":{\"outlinewidth\":0,\"ticks\":\"\"},\"type\":\"contourcarpet\"}],\"contour\":[{\"colorbar\":{\"outlinewidth\":0,\"ticks\":\"\"},\"colorscale\":[[0.0,\"#0d0887\"],[0.1111111111111111,\"#46039f\"],[0.2222222222222222,\"#7201a8\"],[0.3333333333333333,\"#9c179e\"],[0.4444444444444444,\"#bd3786\"],[0.5555555555555556,\"#d8576b\"],[0.6666666666666666,\"#ed7953\"],[0.7777777777777778,\"#fb9f3a\"],[0.8888888888888888,\"#fdca26\"],[1.0,\"#f0f921\"]],\"type\":\"contour\"}],\"heatmapgl\":[{\"colorbar\":{\"outlinewidth\":0,\"ticks\":\"\"},\"colorscale\":[[0.0,\"#0d0887\"],[0.1111111111111111,\"#46039f\"],[0.2222222222222222,\"#7201a8\"],[0.3333333333333333,\"#9c179e\"],[0.4444444444444444,\"#bd3786\"],[0.5555555555555556,\"#d8576b\"],[0.6666666666666666,\"#ed7953\"],[0.7777777777777778,\"#fb9f3a\"],[0.8888888888888888,\"#fdca26\"],[1.0,\"#f0f921\"]],\"type\":\"heatmapgl\"}],\"heatmap\":[{\"colorbar\":{\"outlinewidth\":0,\"ticks\":\"\"},\"colorscale\":[[0.0,\"#0d0887\"],[0.1111111111111111,\"#46039f\"],[0.2222222222222222,\"#7201a8\"],[0.3333333333333333,\"#9c179e\"],[0.4444444444444444,\"#bd3786\"],[0.5555555555555556,\"#d8576b\"],[0.6666666666666666,\"#ed7953\"],[0.7777777777777778,\"#fb9f3a\"],[0.8888888888888888,\"#fdca26\"],[1.0,\"#f0f921\"]],\"type\":\"heatmap\"}],\"histogram2dcontour\":[{\"colorbar\":{\"outlinewidth\":0,\"ticks\":\"\"},\"colorscale\":[[0.0,\"#0d0887\"],[0.1111111111111111,\"#46039f\"],[0.2222222222222222,\"#7201a8\"],[0.3333333333333333,\"#9c179e\"],[0.4444444444444444,\"#bd3786\"],[0.5555555555555556,\"#d8576b\"],[0.6666666666666666,\"#ed7953\"],[0.7777777777777778,\"#fb9f3a\"],[0.8888888888888888,\"#fdca26\"],[1.0,\"#f0f921\"]],\"type\":\"histogram2dcontour\"}],\"histogram2d\":[{\"colorbar\":{\"outlinewidth\":0,\"ticks\":\"\"},\"colorscale\":[[0.0,\"#0d0887\"],[0.1111111111111111,\"#46039f\"],[0.2222222222222222,\"#7201a8\"],[0.3333333333333333,\"#9c179e\"],[0.4444444444444444,\"#bd3786\"],[0.5555555555555556,\"#d8576b\"],[0.6666666666666666,\"#ed7953\"],[0.7777777777777778,\"#fb9f3a\"],[0.8888888888888888,\"#fdca26\"],[1.0,\"#f0f921\"]],\"type\":\"histogram2d\"}],\"histogram\":[{\"marker\":{\"pattern\":{\"fillmode\":\"overlay\",\"size\":10,\"solidity\":0.2}},\"type\":\"histogram\"}],\"mesh3d\":[{\"colorbar\":{\"outlinewidth\":0,\"ticks\":\"\"},\"type\":\"mesh3d\"}],\"parcoords\":[{\"line\":{\"colorbar\":{\"outlinewidth\":0,\"ticks\":\"\"}},\"type\":\"parcoords\"}],\"pie\":[{\"automargin\":true,\"type\":\"pie\"}],\"scatter3d\":[{\"line\":{\"colorbar\":{\"outlinewidth\":0,\"ticks\":\"\"}},\"marker\":{\"colorbar\":{\"outlinewidth\":0,\"ticks\":\"\"}},\"type\":\"scatter3d\"}],\"scattercarpet\":[{\"marker\":{\"colorbar\":{\"outlinewidth\":0,\"ticks\":\"\"}},\"type\":\"scattercarpet\"}],\"scattergeo\":[{\"marker\":{\"colorbar\":{\"outlinewidth\":0,\"ticks\":\"\"}},\"type\":\"scattergeo\"}],\"scattergl\":[{\"marker\":{\"colorbar\":{\"outlinewidth\":0,\"ticks\":\"\"}},\"type\":\"scattergl\"}],\"scattermapbox\":[{\"marker\":{\"colorbar\":{\"outlinewidth\":0,\"ticks\":\"\"}},\"type\":\"scattermapbox\"}],\"scatterpolargl\":[{\"marker\":{\"colorbar\":{\"outlinewidth\":0,\"ticks\":\"\"}},\"type\":\"scatterpolargl\"}],\"scatterpolar\":[{\"marker\":{\"colorbar\":{\"outlinewidth\":0,\"ticks\":\"\"}},\"type\":\"scatterpolar\"}],\"scatter\":[{\"fillpattern\":{\"fillmode\":\"overlay\",\"size\":10,\"solidity\":0.2},\"type\":\"scatter\"}],\"scatterternary\":[{\"marker\":{\"colorbar\":{\"outlinewidth\":0,\"ticks\":\"\"}},\"type\":\"scatterternary\"}],\"surface\":[{\"colorbar\":{\"outlinewidth\":0,\"ticks\":\"\"},\"colorscale\":[[0.0,\"#0d0887\"],[0.1111111111111111,\"#46039f\"],[0.2222222222222222,\"#7201a8\"],[0.3333333333333333,\"#9c179e\"],[0.4444444444444444,\"#bd3786\"],[0.5555555555555556,\"#d8576b\"],[0.6666666666666666,\"#ed7953\"],[0.7777777777777778,\"#fb9f3a\"],[0.8888888888888888,\"#fdca26\"],[1.0,\"#f0f921\"]],\"type\":\"surface\"}],\"table\":[{\"cells\":{\"fill\":{\"color\":\"#EBF0F8\"},\"line\":{\"color\":\"white\"}},\"header\":{\"fill\":{\"color\":\"#C8D4E3\"},\"line\":{\"color\":\"white\"}},\"type\":\"table\"}]},\"layout\":{\"annotationdefaults\":{\"arrowcolor\":\"#2a3f5f\",\"arrowhead\":0,\"arrowwidth\":1},\"autotypenumbers\":\"strict\",\"coloraxis\":{\"colorbar\":{\"outlinewidth\":0,\"ticks\":\"\"}},\"colorscale\":{\"diverging\":[[0,\"#8e0152\"],[0.1,\"#c51b7d\"],[0.2,\"#de77ae\"],[0.3,\"#f1b6da\"],[0.4,\"#fde0ef\"],[0.5,\"#f7f7f7\"],[0.6,\"#e6f5d0\"],[0.7,\"#b8e186\"],[0.8,\"#7fbc41\"],[0.9,\"#4d9221\"],[1,\"#276419\"]],\"sequential\":[[0.0,\"#0d0887\"],[0.1111111111111111,\"#46039f\"],[0.2222222222222222,\"#7201a8\"],[0.3333333333333333,\"#9c179e\"],[0.4444444444444444,\"#bd3786\"],[0.5555555555555556,\"#d8576b\"],[0.6666666666666666,\"#ed7953\"],[0.7777777777777778,\"#fb9f3a\"],[0.8888888888888888,\"#fdca26\"],[1.0,\"#f0f921\"]],\"sequentialminus\":[[0.0,\"#0d0887\"],[0.1111111111111111,\"#46039f\"],[0.2222222222222222,\"#7201a8\"],[0.3333333333333333,\"#9c179e\"],[0.4444444444444444,\"#bd3786\"],[0.5555555555555556,\"#d8576b\"],[0.6666666666666666,\"#ed7953\"],[0.7777777777777778,\"#fb9f3a\"],[0.8888888888888888,\"#fdca26\"],[1.0,\"#f0f921\"]]},\"colorway\":[\"#636efa\",\"#EF553B\",\"#00cc96\",\"#ab63fa\",\"#FFA15A\",\"#19d3f3\",\"#FF6692\",\"#B6E880\",\"#FF97FF\",\"#FECB52\"],\"font\":{\"color\":\"#2a3f5f\"},\"geo\":{\"bgcolor\":\"white\",\"lakecolor\":\"white\",\"landcolor\":\"white\",\"showlakes\":true,\"showland\":true,\"subunitcolor\":\"#C8D4E3\"},\"hoverlabel\":{\"align\":\"left\"},\"hovermode\":\"closest\",\"mapbox\":{\"style\":\"light\"},\"paper_bgcolor\":\"white\",\"plot_bgcolor\":\"white\",\"polar\":{\"angularaxis\":{\"gridcolor\":\"#EBF0F8\",\"linecolor\":\"#EBF0F8\",\"ticks\":\"\"},\"bgcolor\":\"white\",\"radialaxis\":{\"gridcolor\":\"#EBF0F8\",\"linecolor\":\"#EBF0F8\",\"ticks\":\"\"}},\"scene\":{\"xaxis\":{\"backgroundcolor\":\"white\",\"gridcolor\":\"#DFE8F3\",\"gridwidth\":2,\"linecolor\":\"#EBF0F8\",\"showbackground\":true,\"ticks\":\"\",\"zerolinecolor\":\"#EBF0F8\"},\"yaxis\":{\"backgroundcolor\":\"white\",\"gridcolor\":\"#DFE8F3\",\"gridwidth\":2,\"linecolor\":\"#EBF0F8\",\"showbackground\":true,\"ticks\":\"\",\"zerolinecolor\":\"#EBF0F8\"},\"zaxis\":{\"backgroundcolor\":\"white\",\"gridcolor\":\"#DFE8F3\",\"gridwidth\":2,\"linecolor\":\"#EBF0F8\",\"showbackground\":true,\"ticks\":\"\",\"zerolinecolor\":\"#EBF0F8\"}},\"shapedefaults\":{\"line\":{\"color\":\"#2a3f5f\"}},\"ternary\":{\"aaxis\":{\"gridcolor\":\"#DFE8F3\",\"linecolor\":\"#A2B1C6\",\"ticks\":\"\"},\"baxis\":{\"gridcolor\":\"#DFE8F3\",\"linecolor\":\"#A2B1C6\",\"ticks\":\"\"},\"bgcolor\":\"white\",\"caxis\":{\"gridcolor\":\"#DFE8F3\",\"linecolor\":\"#A2B1C6\",\"ticks\":\"\"}},\"title\":{\"x\":0.05},\"xaxis\":{\"automargin\":true,\"gridcolor\":\"#EBF0F8\",\"linecolor\":\"#EBF0F8\",\"ticks\":\"\",\"title\":{\"standoff\":15},\"zerolinecolor\":\"#EBF0F8\",\"zerolinewidth\":2},\"yaxis\":{\"automargin\":true,\"gridcolor\":\"#EBF0F8\",\"linecolor\":\"#EBF0F8\",\"ticks\":\"\",\"title\":{\"standoff\":15},\"zerolinecolor\":\"#EBF0F8\",\"zerolinewidth\":2}}},\"xaxis\":{\"title\":{\"text\":\"Jours du mois d'ao\\u00fbt\"},\"tickvals\":[\"2024-08-01T00:00:00\",\"2024-08-02T00:00:00\",\"2024-08-03T00:00:00\",\"2024-08-04T00:00:00\",\"2024-08-05T00:00:00\",\"2024-08-06T00:00:00\",\"2024-08-07T00:00:00\",\"2024-08-08T00:00:00\",\"2024-08-09T00:00:00\",\"2024-08-10T00:00:00\",\"2024-08-11T00:00:00\",\"2024-08-12T00:00:00\",\"2024-08-13T00:00:00\",\"2024-08-14T00:00:00\",\"2024-08-15T00:00:00\",\"2024-08-16T00:00:00\",\"2024-08-17T00:00:00\",\"2024-08-18T00:00:00\",\"2024-08-19T00:00:00\",\"2024-08-20T00:00:00\",\"2024-08-21T00:00:00\",\"2024-08-22T00:00:00\",\"2024-08-23T00:00:00\",\"2024-08-24T00:00:00\",\"2024-08-25T00:00:00\",\"2024-08-26T00:00:00\",\"2024-08-27T00:00:00\",\"2024-08-28T00:00:00\",\"2024-08-29T00:00:00\",\"2024-08-30T00:00:00\",\"2024-08-31T00:00:00\"],\"ticktext\":[\"01\",\"02\",\"03\",\"04\",\"05\",\"06\",\"07\",\"08\",\"09\",\"10\",\"11\",\"12\",\"13\",\"14\",\"15\",\"16\",\"17\",\"18\",\"19\",\"20\",\"21\",\"22\",\"23\",\"24\",\"25\",\"26\",\"27\",\"28\",\"29\",\"30\",\"31\"],\"tickangle\":-45,\"showline\":true,\"linecolor\":\"gray\",\"linewidth\":1},\"yaxis\":{\"title\":{\"text\":\"Total des interactions\"},\"showline\":true,\"linecolor\":\"gray\",\"linewidth\":1},\"legend\":{\"title\":{\"text\":\"L\\u00e9gende\"},\"x\":0.01,\"y\":0.99,\"bgcolor\":\"rgba(255,255,255,0.7)\",\"bordercolor\":\"black\",\"borderwidth\":1},\"title\":{\"text\":\"Histogramme des interactions globales par jour en ao\\u00fbt 2024\"},\"bargap\":0.1,\"plot_bgcolor\":\"white\",\"hovermode\":\"x unified\"},                        {\"responsive\": true}                    ).then(function(){\n",
       "                            \n",
       "var gd = document.getElementById('749f7bbe-dd89-4353-909f-efa907bab7b1');\n",
       "var x = new MutationObserver(function (mutations, observer) {{\n",
       "        var display = window.getComputedStyle(gd).display;\n",
       "        if (!display || display === 'none') {{\n",
       "            console.log([gd, 'removed!']);\n",
       "            Plotly.purge(gd);\n",
       "            observer.disconnect();\n",
       "        }}\n",
       "}});\n",
       "\n",
       "// Listen for the removal of the full notebook cells\n",
       "var notebookContainer = gd.closest('#notebook-container');\n",
       "if (notebookContainer) {{\n",
       "    x.observe(notebookContainer, {childList: true});\n",
       "}}\n",
       "\n",
       "// Listen for the clearing of the current output cell\n",
       "var outputEl = gd.closest('.output');\n",
       "if (outputEl) {{\n",
       "    x.observe(outputEl, {childList: true});\n",
       "}}\n",
       "\n",
       "                        })                };                });            </script>        </div>"
      ]
     },
     "metadata": {},
     "output_type": "display_data"
    }
   ],
   "source": [
    "\n",
    "# Filtrer pour Août 2024\n",
    "df_aout = df[(df['ConvertedDate'].dt.month == 8) & (df['ConvertedDate'].dt.year == 2024)].copy()\n",
    "\n",
    "# Créer une colonne pour le total global des interactions \n",
    "df_aout['TotalInteractions'] = df_aout['Likes'] + df_aout['Repost'] + df_aout['Comments']\n",
    "\n",
    "# Grouper par jour pour calculer les statistiques quotidiennes\n",
    "daily_stats = df_aout.groupby(df_aout['ConvertedDate'].dt.date).agg(\n",
    "    TotalLikes=('Likes', 'sum'),\n",
    "    TotalViews=('Views', 'sum'),\n",
    "    TotalRepost=('Repost', 'sum'),\n",
    "    TotalComments=('Comments', 'sum'),\n",
    "    Total=('TotalInteractions', 'sum'),\n",
    "    NombreTweets=('ConvertedDate', 'size') \n",
    ").reset_index()\n",
    "\n",
    "# Reconvertir la colonne ConvertedDate en datetime après le groupby\n",
    "daily_stats['ConvertedDate'] = pd.to_datetime(daily_stats['ConvertedDate'])\n",
    "\n",
    "# Création du graphique\n",
    "fig = go.Figure()\n",
    "\n",
    "# Ajout d'un histogramme pour le total des interactions\n",
    "fig.add_trace(go.Bar(\n",
    "    x=daily_stats['ConvertedDate'],\n",
    "    y=daily_stats['Total'],\n",
    "    marker_color='purple',\n",
    "    name='Total Global des Interactions'\n",
    "))\n",
    "\n",
    "# on personnalise le graphique\n",
    "fig.update_layout(\n",
    "    title=\"Histogramme des interactions globales par jour en août 2024\",\n",
    "    xaxis=dict(\n",
    "        title=\"Jours du mois d'août\",\n",
    "        tickvals=daily_stats['ConvertedDate'],\n",
    "        ticktext=daily_stats['ConvertedDate'].dt.strftime('%d'),\n",
    "        tickangle=-45,\n",
    "        showline=True,           # Ajouter une ligne pour l'axe X\n",
    "        linecolor=\"gray\",       # Couleur grise pour l'axe\n",
    "        linewidth=1            # Épaisseur \n",
    "    ),\n",
    "    yaxis=dict(\n",
    "        title=\"Total des interactions\",\n",
    "        showline=True,           # Ajouter une ligne pour l'axe Y\n",
    "        linecolor=\"gray\",       # Couleur grise pour l'axe\n",
    "        linewidth=1            # Épaisseur\n",
    "    ),\n",
    "    bargap=0.1,\n",
    "    template=\"plotly_white\",\n",
    "    plot_bgcolor=\"white\",  # Fond blanc pour le graphique\n",
    "    hovermode=\"x unified\",\n",
    "    legend=dict(\n",
    "        title=\"Légende\",\n",
    "        x=0.01, y=0.99,\n",
    "        bgcolor='rgba(255,255,255,0.7)',\n",
    "        bordercolor='black',\n",
    "        borderwidth=1\n",
    "    )\n",
    ")\n",
    "\n",
    "# Afficher le graphique\n",
    "fig.show()\n"
   ]
  },
  {
   "cell_type": "markdown",
   "metadata": {},
   "source": [
    "Deux jours ressortent ici, le 9 et le 13 août : il suffit dès lors de taper dans un moteur de recherche ces dates et \"twitter\" pour trouver ce qui a suscité autant de réaction.\n",
    "- *9 août* : un tweet de Elon Musk a déclenché beaucoup de retweets et de commentaires (https://x.com/elonmusk/status/1821952295866663423?lang=fr)\n",
    "- *13 août* : Elon Musk mène une interview de Donal Trump sur Twitter, ce qui a nécessairement entraîné des likes, des retweets et des commentaires des utilisateurs, sans nécessairement augmenter le nombre de tweets (https://www.rtl.fr/actu/international/elon-musk-interviewe-donald-trump-qu-il-soutient-pour-la-presidentielle-7900408157)\n",
    "\n",
    "Nous nous sommes restreint au mois d'août 2024, mais nous aurions aussi pu le faire avec juin : le procédé reste le même.\n"
   ]
  },
  {
   "cell_type": "markdown",
   "metadata": {},
   "source": [
    "## 3. Création d'un indice : le taux d'engagement\n",
    "\n",
    "Pour essayer de condenser toutes les informations précédentes en une seule mesure, nous avons calculer le taux d'engagement égal au nombre total d'interactions sur le nombre de tweets. Dit autrement, c'est le nombre de réactions que suscite en moyenne un tweet durant un mois."
   ]
  },
  {
   "cell_type": "code",
   "execution_count": 19,
   "metadata": {},
   "outputs": [
    {
     "data": {
      "application/vnd.plotly.v1+json": {
       "config": {
        "plotlyServerURL": "https://plot.ly"
       },
       "data": [
        {
         "marker": {
          "color": "skyblue"
         },
         "name": "Nombre de tweets",
         "opacity": 0.6,
         "type": "bar",
         "x": [
          "2024-01",
          "2024-02",
          "2024-03",
          "2024-04",
          "2024-05",
          "2024-06",
          "2024-07",
          "2024-08",
          "2024-09",
          "2024-10",
          "2024-11"
         ],
         "y": [
          562,
          476,
          601,
          530,
          507,
          472,
          718,
          2132,
          1255,
          1556,
          4902
         ],
         "yaxis": "y"
        },
        {
         "line": {
          "color": "orange",
          "width": 3
         },
         "marker": {
          "size": 8
         },
         "mode": "lines+markers",
         "name": "Taux d'engagement (par tweet)",
         "type": "scatter",
         "x": [
          "2024-01",
          "2024-02",
          "2024-03",
          "2024-04",
          "2024-05",
          "2024-06",
          "2024-07",
          "2024-08",
          "2024-09",
          "2024-10",
          "2024-11"
         ],
         "y": [
          12.138790035587188,
          40.220588235294116,
          9.29783693843594,
          16.883018867924527,
          9.398422090729783,
          120.8792372881356,
          6.114206128133705,
          68.24718574108817,
          19.122709163346613,
          26.198586118251928,
          18.687270501835986
         ],
         "yaxis": "y2"
        }
       ],
       "layout": {
        "barmode": "overlay",
        "legend": {
         "bgcolor": "rgba(255,255,255,0.7)",
         "title": {
          "text": "Légende"
         },
         "x": 0.01,
         "y": 0.99
        },
        "plot_bgcolor": "rgba(240,240,240,0.9)",
        "template": {
         "data": {
          "bar": [
           {
            "error_x": {
             "color": "#2a3f5f"
            },
            "error_y": {
             "color": "#2a3f5f"
            },
            "marker": {
             "line": {
              "color": "white",
              "width": 0.5
             },
             "pattern": {
              "fillmode": "overlay",
              "size": 10,
              "solidity": 0.2
             }
            },
            "type": "bar"
           }
          ],
          "barpolar": [
           {
            "marker": {
             "line": {
              "color": "white",
              "width": 0.5
             },
             "pattern": {
              "fillmode": "overlay",
              "size": 10,
              "solidity": 0.2
             }
            },
            "type": "barpolar"
           }
          ],
          "carpet": [
           {
            "aaxis": {
             "endlinecolor": "#2a3f5f",
             "gridcolor": "#C8D4E3",
             "linecolor": "#C8D4E3",
             "minorgridcolor": "#C8D4E3",
             "startlinecolor": "#2a3f5f"
            },
            "baxis": {
             "endlinecolor": "#2a3f5f",
             "gridcolor": "#C8D4E3",
             "linecolor": "#C8D4E3",
             "minorgridcolor": "#C8D4E3",
             "startlinecolor": "#2a3f5f"
            },
            "type": "carpet"
           }
          ],
          "choropleth": [
           {
            "colorbar": {
             "outlinewidth": 0,
             "ticks": ""
            },
            "type": "choropleth"
           }
          ],
          "contour": [
           {
            "colorbar": {
             "outlinewidth": 0,
             "ticks": ""
            },
            "colorscale": [
             [
              0,
              "#0d0887"
             ],
             [
              0.1111111111111111,
              "#46039f"
             ],
             [
              0.2222222222222222,
              "#7201a8"
             ],
             [
              0.3333333333333333,
              "#9c179e"
             ],
             [
              0.4444444444444444,
              "#bd3786"
             ],
             [
              0.5555555555555556,
              "#d8576b"
             ],
             [
              0.6666666666666666,
              "#ed7953"
             ],
             [
              0.7777777777777778,
              "#fb9f3a"
             ],
             [
              0.8888888888888888,
              "#fdca26"
             ],
             [
              1,
              "#f0f921"
             ]
            ],
            "type": "contour"
           }
          ],
          "contourcarpet": [
           {
            "colorbar": {
             "outlinewidth": 0,
             "ticks": ""
            },
            "type": "contourcarpet"
           }
          ],
          "heatmap": [
           {
            "colorbar": {
             "outlinewidth": 0,
             "ticks": ""
            },
            "colorscale": [
             [
              0,
              "#0d0887"
             ],
             [
              0.1111111111111111,
              "#46039f"
             ],
             [
              0.2222222222222222,
              "#7201a8"
             ],
             [
              0.3333333333333333,
              "#9c179e"
             ],
             [
              0.4444444444444444,
              "#bd3786"
             ],
             [
              0.5555555555555556,
              "#d8576b"
             ],
             [
              0.6666666666666666,
              "#ed7953"
             ],
             [
              0.7777777777777778,
              "#fb9f3a"
             ],
             [
              0.8888888888888888,
              "#fdca26"
             ],
             [
              1,
              "#f0f921"
             ]
            ],
            "type": "heatmap"
           }
          ],
          "heatmapgl": [
           {
            "colorbar": {
             "outlinewidth": 0,
             "ticks": ""
            },
            "colorscale": [
             [
              0,
              "#0d0887"
             ],
             [
              0.1111111111111111,
              "#46039f"
             ],
             [
              0.2222222222222222,
              "#7201a8"
             ],
             [
              0.3333333333333333,
              "#9c179e"
             ],
             [
              0.4444444444444444,
              "#bd3786"
             ],
             [
              0.5555555555555556,
              "#d8576b"
             ],
             [
              0.6666666666666666,
              "#ed7953"
             ],
             [
              0.7777777777777778,
              "#fb9f3a"
             ],
             [
              0.8888888888888888,
              "#fdca26"
             ],
             [
              1,
              "#f0f921"
             ]
            ],
            "type": "heatmapgl"
           }
          ],
          "histogram": [
           {
            "marker": {
             "pattern": {
              "fillmode": "overlay",
              "size": 10,
              "solidity": 0.2
             }
            },
            "type": "histogram"
           }
          ],
          "histogram2d": [
           {
            "colorbar": {
             "outlinewidth": 0,
             "ticks": ""
            },
            "colorscale": [
             [
              0,
              "#0d0887"
             ],
             [
              0.1111111111111111,
              "#46039f"
             ],
             [
              0.2222222222222222,
              "#7201a8"
             ],
             [
              0.3333333333333333,
              "#9c179e"
             ],
             [
              0.4444444444444444,
              "#bd3786"
             ],
             [
              0.5555555555555556,
              "#d8576b"
             ],
             [
              0.6666666666666666,
              "#ed7953"
             ],
             [
              0.7777777777777778,
              "#fb9f3a"
             ],
             [
              0.8888888888888888,
              "#fdca26"
             ],
             [
              1,
              "#f0f921"
             ]
            ],
            "type": "histogram2d"
           }
          ],
          "histogram2dcontour": [
           {
            "colorbar": {
             "outlinewidth": 0,
             "ticks": ""
            },
            "colorscale": [
             [
              0,
              "#0d0887"
             ],
             [
              0.1111111111111111,
              "#46039f"
             ],
             [
              0.2222222222222222,
              "#7201a8"
             ],
             [
              0.3333333333333333,
              "#9c179e"
             ],
             [
              0.4444444444444444,
              "#bd3786"
             ],
             [
              0.5555555555555556,
              "#d8576b"
             ],
             [
              0.6666666666666666,
              "#ed7953"
             ],
             [
              0.7777777777777778,
              "#fb9f3a"
             ],
             [
              0.8888888888888888,
              "#fdca26"
             ],
             [
              1,
              "#f0f921"
             ]
            ],
            "type": "histogram2dcontour"
           }
          ],
          "mesh3d": [
           {
            "colorbar": {
             "outlinewidth": 0,
             "ticks": ""
            },
            "type": "mesh3d"
           }
          ],
          "parcoords": [
           {
            "line": {
             "colorbar": {
              "outlinewidth": 0,
              "ticks": ""
             }
            },
            "type": "parcoords"
           }
          ],
          "pie": [
           {
            "automargin": true,
            "type": "pie"
           }
          ],
          "scatter": [
           {
            "fillpattern": {
             "fillmode": "overlay",
             "size": 10,
             "solidity": 0.2
            },
            "type": "scatter"
           }
          ],
          "scatter3d": [
           {
            "line": {
             "colorbar": {
              "outlinewidth": 0,
              "ticks": ""
             }
            },
            "marker": {
             "colorbar": {
              "outlinewidth": 0,
              "ticks": ""
             }
            },
            "type": "scatter3d"
           }
          ],
          "scattercarpet": [
           {
            "marker": {
             "colorbar": {
              "outlinewidth": 0,
              "ticks": ""
             }
            },
            "type": "scattercarpet"
           }
          ],
          "scattergeo": [
           {
            "marker": {
             "colorbar": {
              "outlinewidth": 0,
              "ticks": ""
             }
            },
            "type": "scattergeo"
           }
          ],
          "scattergl": [
           {
            "marker": {
             "colorbar": {
              "outlinewidth": 0,
              "ticks": ""
             }
            },
            "type": "scattergl"
           }
          ],
          "scattermapbox": [
           {
            "marker": {
             "colorbar": {
              "outlinewidth": 0,
              "ticks": ""
             }
            },
            "type": "scattermapbox"
           }
          ],
          "scatterpolar": [
           {
            "marker": {
             "colorbar": {
              "outlinewidth": 0,
              "ticks": ""
             }
            },
            "type": "scatterpolar"
           }
          ],
          "scatterpolargl": [
           {
            "marker": {
             "colorbar": {
              "outlinewidth": 0,
              "ticks": ""
             }
            },
            "type": "scatterpolargl"
           }
          ],
          "scatterternary": [
           {
            "marker": {
             "colorbar": {
              "outlinewidth": 0,
              "ticks": ""
             }
            },
            "type": "scatterternary"
           }
          ],
          "surface": [
           {
            "colorbar": {
             "outlinewidth": 0,
             "ticks": ""
            },
            "colorscale": [
             [
              0,
              "#0d0887"
             ],
             [
              0.1111111111111111,
              "#46039f"
             ],
             [
              0.2222222222222222,
              "#7201a8"
             ],
             [
              0.3333333333333333,
              "#9c179e"
             ],
             [
              0.4444444444444444,
              "#bd3786"
             ],
             [
              0.5555555555555556,
              "#d8576b"
             ],
             [
              0.6666666666666666,
              "#ed7953"
             ],
             [
              0.7777777777777778,
              "#fb9f3a"
             ],
             [
              0.8888888888888888,
              "#fdca26"
             ],
             [
              1,
              "#f0f921"
             ]
            ],
            "type": "surface"
           }
          ],
          "table": [
           {
            "cells": {
             "fill": {
              "color": "#EBF0F8"
             },
             "line": {
              "color": "white"
             }
            },
            "header": {
             "fill": {
              "color": "#C8D4E3"
             },
             "line": {
              "color": "white"
             }
            },
            "type": "table"
           }
          ]
         },
         "layout": {
          "annotationdefaults": {
           "arrowcolor": "#2a3f5f",
           "arrowhead": 0,
           "arrowwidth": 1
          },
          "autotypenumbers": "strict",
          "coloraxis": {
           "colorbar": {
            "outlinewidth": 0,
            "ticks": ""
           }
          },
          "colorscale": {
           "diverging": [
            [
             0,
             "#8e0152"
            ],
            [
             0.1,
             "#c51b7d"
            ],
            [
             0.2,
             "#de77ae"
            ],
            [
             0.3,
             "#f1b6da"
            ],
            [
             0.4,
             "#fde0ef"
            ],
            [
             0.5,
             "#f7f7f7"
            ],
            [
             0.6,
             "#e6f5d0"
            ],
            [
             0.7,
             "#b8e186"
            ],
            [
             0.8,
             "#7fbc41"
            ],
            [
             0.9,
             "#4d9221"
            ],
            [
             1,
             "#276419"
            ]
           ],
           "sequential": [
            [
             0,
             "#0d0887"
            ],
            [
             0.1111111111111111,
             "#46039f"
            ],
            [
             0.2222222222222222,
             "#7201a8"
            ],
            [
             0.3333333333333333,
             "#9c179e"
            ],
            [
             0.4444444444444444,
             "#bd3786"
            ],
            [
             0.5555555555555556,
             "#d8576b"
            ],
            [
             0.6666666666666666,
             "#ed7953"
            ],
            [
             0.7777777777777778,
             "#fb9f3a"
            ],
            [
             0.8888888888888888,
             "#fdca26"
            ],
            [
             1,
             "#f0f921"
            ]
           ],
           "sequentialminus": [
            [
             0,
             "#0d0887"
            ],
            [
             0.1111111111111111,
             "#46039f"
            ],
            [
             0.2222222222222222,
             "#7201a8"
            ],
            [
             0.3333333333333333,
             "#9c179e"
            ],
            [
             0.4444444444444444,
             "#bd3786"
            ],
            [
             0.5555555555555556,
             "#d8576b"
            ],
            [
             0.6666666666666666,
             "#ed7953"
            ],
            [
             0.7777777777777778,
             "#fb9f3a"
            ],
            [
             0.8888888888888888,
             "#fdca26"
            ],
            [
             1,
             "#f0f921"
            ]
           ]
          },
          "colorway": [
           "#636efa",
           "#EF553B",
           "#00cc96",
           "#ab63fa",
           "#FFA15A",
           "#19d3f3",
           "#FF6692",
           "#B6E880",
           "#FF97FF",
           "#FECB52"
          ],
          "font": {
           "color": "#2a3f5f"
          },
          "geo": {
           "bgcolor": "white",
           "lakecolor": "white",
           "landcolor": "white",
           "showlakes": true,
           "showland": true,
           "subunitcolor": "#C8D4E3"
          },
          "hoverlabel": {
           "align": "left"
          },
          "hovermode": "closest",
          "mapbox": {
           "style": "light"
          },
          "paper_bgcolor": "white",
          "plot_bgcolor": "white",
          "polar": {
           "angularaxis": {
            "gridcolor": "#EBF0F8",
            "linecolor": "#EBF0F8",
            "ticks": ""
           },
           "bgcolor": "white",
           "radialaxis": {
            "gridcolor": "#EBF0F8",
            "linecolor": "#EBF0F8",
            "ticks": ""
           }
          },
          "scene": {
           "xaxis": {
            "backgroundcolor": "white",
            "gridcolor": "#DFE8F3",
            "gridwidth": 2,
            "linecolor": "#EBF0F8",
            "showbackground": true,
            "ticks": "",
            "zerolinecolor": "#EBF0F8"
           },
           "yaxis": {
            "backgroundcolor": "white",
            "gridcolor": "#DFE8F3",
            "gridwidth": 2,
            "linecolor": "#EBF0F8",
            "showbackground": true,
            "ticks": "",
            "zerolinecolor": "#EBF0F8"
           },
           "zaxis": {
            "backgroundcolor": "white",
            "gridcolor": "#DFE8F3",
            "gridwidth": 2,
            "linecolor": "#EBF0F8",
            "showbackground": true,
            "ticks": "",
            "zerolinecolor": "#EBF0F8"
           }
          },
          "shapedefaults": {
           "line": {
            "color": "#2a3f5f"
           }
          },
          "ternary": {
           "aaxis": {
            "gridcolor": "#DFE8F3",
            "linecolor": "#A2B1C6",
            "ticks": ""
           },
           "baxis": {
            "gridcolor": "#DFE8F3",
            "linecolor": "#A2B1C6",
            "ticks": ""
           },
           "bgcolor": "white",
           "caxis": {
            "gridcolor": "#DFE8F3",
            "linecolor": "#A2B1C6",
            "ticks": ""
           }
          },
          "title": {
           "x": 0.05
          },
          "xaxis": {
           "automargin": true,
           "gridcolor": "#EBF0F8",
           "linecolor": "#EBF0F8",
           "ticks": "",
           "title": {
            "standoff": 15
           },
           "zerolinecolor": "#EBF0F8",
           "zerolinewidth": 2
          },
          "yaxis": {
           "automargin": true,
           "gridcolor": "#EBF0F8",
           "linecolor": "#EBF0F8",
           "ticks": "",
           "title": {
            "standoff": 15
           },
           "zerolinecolor": "#EBF0F8",
           "zerolinewidth": 2
          }
         }
        },
        "title": {
         "text": "Nombre de tweets et évolution du taux d'engagement mensuel"
        },
        "xaxis": {
         "tickangle": -45,
         "tickmode": "array",
         "ticktext": [
          "2024-01",
          "2024-02",
          "2024-03",
          "2024-04",
          "2024-05",
          "2024-06",
          "2024-07",
          "2024-08",
          "2024-09",
          "2024-10",
          "2024-11"
         ],
         "tickvals": [
          "2024-01",
          "2024-02",
          "2024-03",
          "2024-04",
          "2024-05",
          "2024-06",
          "2024-07",
          "2024-08",
          "2024-09",
          "2024-10",
          "2024-11"
         ],
         "title": {
          "text": "Mois de 2024"
         }
        },
        "yaxis": {
         "showgrid": true,
         "side": "left",
         "title": {
          "text": "Nombre de tweets"
         }
        },
        "yaxis2": {
         "overlaying": "y",
         "showgrid": false,
         "side": "right",
         "tickformat": ".0f",
         "title": {
          "text": "Taux d'engagement (par tweet)"
         }
        }
       }
      },
      "text/html": [
       "<div>                            <div id=\"fc027bd1-3252-44f2-84e1-3823c1e5c4f3\" class=\"plotly-graph-div\" style=\"height:525px; width:100%;\"></div>            <script type=\"text/javascript\">                require([\"plotly\"], function(Plotly) {                    window.PLOTLYENV=window.PLOTLYENV || {};                                    if (document.getElementById(\"fc027bd1-3252-44f2-84e1-3823c1e5c4f3\")) {                    Plotly.newPlot(                        \"fc027bd1-3252-44f2-84e1-3823c1e5c4f3\",                        [{\"marker\":{\"color\":\"skyblue\"},\"name\":\"Nombre de tweets\",\"opacity\":0.6,\"x\":[\"2024-01\",\"2024-02\",\"2024-03\",\"2024-04\",\"2024-05\",\"2024-06\",\"2024-07\",\"2024-08\",\"2024-09\",\"2024-10\",\"2024-11\"],\"y\":[562,476,601,530,507,472,718,2132,1255,1556,4902],\"yaxis\":\"y\",\"type\":\"bar\"},{\"line\":{\"color\":\"orange\",\"width\":3},\"marker\":{\"size\":8},\"mode\":\"lines+markers\",\"name\":\"Taux d'engagement (par tweet)\",\"x\":[\"2024-01\",\"2024-02\",\"2024-03\",\"2024-04\",\"2024-05\",\"2024-06\",\"2024-07\",\"2024-08\",\"2024-09\",\"2024-10\",\"2024-11\"],\"y\":[12.138790035587188,40.220588235294116,9.29783693843594,16.883018867924527,9.398422090729783,120.8792372881356,6.114206128133705,68.24718574108817,19.122709163346613,26.198586118251928,18.687270501835986],\"yaxis\":\"y2\",\"type\":\"scatter\"}],                        {\"template\":{\"data\":{\"barpolar\":[{\"marker\":{\"line\":{\"color\":\"white\",\"width\":0.5},\"pattern\":{\"fillmode\":\"overlay\",\"size\":10,\"solidity\":0.2}},\"type\":\"barpolar\"}],\"bar\":[{\"error_x\":{\"color\":\"#2a3f5f\"},\"error_y\":{\"color\":\"#2a3f5f\"},\"marker\":{\"line\":{\"color\":\"white\",\"width\":0.5},\"pattern\":{\"fillmode\":\"overlay\",\"size\":10,\"solidity\":0.2}},\"type\":\"bar\"}],\"carpet\":[{\"aaxis\":{\"endlinecolor\":\"#2a3f5f\",\"gridcolor\":\"#C8D4E3\",\"linecolor\":\"#C8D4E3\",\"minorgridcolor\":\"#C8D4E3\",\"startlinecolor\":\"#2a3f5f\"},\"baxis\":{\"endlinecolor\":\"#2a3f5f\",\"gridcolor\":\"#C8D4E3\",\"linecolor\":\"#C8D4E3\",\"minorgridcolor\":\"#C8D4E3\",\"startlinecolor\":\"#2a3f5f\"},\"type\":\"carpet\"}],\"choropleth\":[{\"colorbar\":{\"outlinewidth\":0,\"ticks\":\"\"},\"type\":\"choropleth\"}],\"contourcarpet\":[{\"colorbar\":{\"outlinewidth\":0,\"ticks\":\"\"},\"type\":\"contourcarpet\"}],\"contour\":[{\"colorbar\":{\"outlinewidth\":0,\"ticks\":\"\"},\"colorscale\":[[0.0,\"#0d0887\"],[0.1111111111111111,\"#46039f\"],[0.2222222222222222,\"#7201a8\"],[0.3333333333333333,\"#9c179e\"],[0.4444444444444444,\"#bd3786\"],[0.5555555555555556,\"#d8576b\"],[0.6666666666666666,\"#ed7953\"],[0.7777777777777778,\"#fb9f3a\"],[0.8888888888888888,\"#fdca26\"],[1.0,\"#f0f921\"]],\"type\":\"contour\"}],\"heatmapgl\":[{\"colorbar\":{\"outlinewidth\":0,\"ticks\":\"\"},\"colorscale\":[[0.0,\"#0d0887\"],[0.1111111111111111,\"#46039f\"],[0.2222222222222222,\"#7201a8\"],[0.3333333333333333,\"#9c179e\"],[0.4444444444444444,\"#bd3786\"],[0.5555555555555556,\"#d8576b\"],[0.6666666666666666,\"#ed7953\"],[0.7777777777777778,\"#fb9f3a\"],[0.8888888888888888,\"#fdca26\"],[1.0,\"#f0f921\"]],\"type\":\"heatmapgl\"}],\"heatmap\":[{\"colorbar\":{\"outlinewidth\":0,\"ticks\":\"\"},\"colorscale\":[[0.0,\"#0d0887\"],[0.1111111111111111,\"#46039f\"],[0.2222222222222222,\"#7201a8\"],[0.3333333333333333,\"#9c179e\"],[0.4444444444444444,\"#bd3786\"],[0.5555555555555556,\"#d8576b\"],[0.6666666666666666,\"#ed7953\"],[0.7777777777777778,\"#fb9f3a\"],[0.8888888888888888,\"#fdca26\"],[1.0,\"#f0f921\"]],\"type\":\"heatmap\"}],\"histogram2dcontour\":[{\"colorbar\":{\"outlinewidth\":0,\"ticks\":\"\"},\"colorscale\":[[0.0,\"#0d0887\"],[0.1111111111111111,\"#46039f\"],[0.2222222222222222,\"#7201a8\"],[0.3333333333333333,\"#9c179e\"],[0.4444444444444444,\"#bd3786\"],[0.5555555555555556,\"#d8576b\"],[0.6666666666666666,\"#ed7953\"],[0.7777777777777778,\"#fb9f3a\"],[0.8888888888888888,\"#fdca26\"],[1.0,\"#f0f921\"]],\"type\":\"histogram2dcontour\"}],\"histogram2d\":[{\"colorbar\":{\"outlinewidth\":0,\"ticks\":\"\"},\"colorscale\":[[0.0,\"#0d0887\"],[0.1111111111111111,\"#46039f\"],[0.2222222222222222,\"#7201a8\"],[0.3333333333333333,\"#9c179e\"],[0.4444444444444444,\"#bd3786\"],[0.5555555555555556,\"#d8576b\"],[0.6666666666666666,\"#ed7953\"],[0.7777777777777778,\"#fb9f3a\"],[0.8888888888888888,\"#fdca26\"],[1.0,\"#f0f921\"]],\"type\":\"histogram2d\"}],\"histogram\":[{\"marker\":{\"pattern\":{\"fillmode\":\"overlay\",\"size\":10,\"solidity\":0.2}},\"type\":\"histogram\"}],\"mesh3d\":[{\"colorbar\":{\"outlinewidth\":0,\"ticks\":\"\"},\"type\":\"mesh3d\"}],\"parcoords\":[{\"line\":{\"colorbar\":{\"outlinewidth\":0,\"ticks\":\"\"}},\"type\":\"parcoords\"}],\"pie\":[{\"automargin\":true,\"type\":\"pie\"}],\"scatter3d\":[{\"line\":{\"colorbar\":{\"outlinewidth\":0,\"ticks\":\"\"}},\"marker\":{\"colorbar\":{\"outlinewidth\":0,\"ticks\":\"\"}},\"type\":\"scatter3d\"}],\"scattercarpet\":[{\"marker\":{\"colorbar\":{\"outlinewidth\":0,\"ticks\":\"\"}},\"type\":\"scattercarpet\"}],\"scattergeo\":[{\"marker\":{\"colorbar\":{\"outlinewidth\":0,\"ticks\":\"\"}},\"type\":\"scattergeo\"}],\"scattergl\":[{\"marker\":{\"colorbar\":{\"outlinewidth\":0,\"ticks\":\"\"}},\"type\":\"scattergl\"}],\"scattermapbox\":[{\"marker\":{\"colorbar\":{\"outlinewidth\":0,\"ticks\":\"\"}},\"type\":\"scattermapbox\"}],\"scatterpolargl\":[{\"marker\":{\"colorbar\":{\"outlinewidth\":0,\"ticks\":\"\"}},\"type\":\"scatterpolargl\"}],\"scatterpolar\":[{\"marker\":{\"colorbar\":{\"outlinewidth\":0,\"ticks\":\"\"}},\"type\":\"scatterpolar\"}],\"scatter\":[{\"fillpattern\":{\"fillmode\":\"overlay\",\"size\":10,\"solidity\":0.2},\"type\":\"scatter\"}],\"scatterternary\":[{\"marker\":{\"colorbar\":{\"outlinewidth\":0,\"ticks\":\"\"}},\"type\":\"scatterternary\"}],\"surface\":[{\"colorbar\":{\"outlinewidth\":0,\"ticks\":\"\"},\"colorscale\":[[0.0,\"#0d0887\"],[0.1111111111111111,\"#46039f\"],[0.2222222222222222,\"#7201a8\"],[0.3333333333333333,\"#9c179e\"],[0.4444444444444444,\"#bd3786\"],[0.5555555555555556,\"#d8576b\"],[0.6666666666666666,\"#ed7953\"],[0.7777777777777778,\"#fb9f3a\"],[0.8888888888888888,\"#fdca26\"],[1.0,\"#f0f921\"]],\"type\":\"surface\"}],\"table\":[{\"cells\":{\"fill\":{\"color\":\"#EBF0F8\"},\"line\":{\"color\":\"white\"}},\"header\":{\"fill\":{\"color\":\"#C8D4E3\"},\"line\":{\"color\":\"white\"}},\"type\":\"table\"}]},\"layout\":{\"annotationdefaults\":{\"arrowcolor\":\"#2a3f5f\",\"arrowhead\":0,\"arrowwidth\":1},\"autotypenumbers\":\"strict\",\"coloraxis\":{\"colorbar\":{\"outlinewidth\":0,\"ticks\":\"\"}},\"colorscale\":{\"diverging\":[[0,\"#8e0152\"],[0.1,\"#c51b7d\"],[0.2,\"#de77ae\"],[0.3,\"#f1b6da\"],[0.4,\"#fde0ef\"],[0.5,\"#f7f7f7\"],[0.6,\"#e6f5d0\"],[0.7,\"#b8e186\"],[0.8,\"#7fbc41\"],[0.9,\"#4d9221\"],[1,\"#276419\"]],\"sequential\":[[0.0,\"#0d0887\"],[0.1111111111111111,\"#46039f\"],[0.2222222222222222,\"#7201a8\"],[0.3333333333333333,\"#9c179e\"],[0.4444444444444444,\"#bd3786\"],[0.5555555555555556,\"#d8576b\"],[0.6666666666666666,\"#ed7953\"],[0.7777777777777778,\"#fb9f3a\"],[0.8888888888888888,\"#fdca26\"],[1.0,\"#f0f921\"]],\"sequentialminus\":[[0.0,\"#0d0887\"],[0.1111111111111111,\"#46039f\"],[0.2222222222222222,\"#7201a8\"],[0.3333333333333333,\"#9c179e\"],[0.4444444444444444,\"#bd3786\"],[0.5555555555555556,\"#d8576b\"],[0.6666666666666666,\"#ed7953\"],[0.7777777777777778,\"#fb9f3a\"],[0.8888888888888888,\"#fdca26\"],[1.0,\"#f0f921\"]]},\"colorway\":[\"#636efa\",\"#EF553B\",\"#00cc96\",\"#ab63fa\",\"#FFA15A\",\"#19d3f3\",\"#FF6692\",\"#B6E880\",\"#FF97FF\",\"#FECB52\"],\"font\":{\"color\":\"#2a3f5f\"},\"geo\":{\"bgcolor\":\"white\",\"lakecolor\":\"white\",\"landcolor\":\"white\",\"showlakes\":true,\"showland\":true,\"subunitcolor\":\"#C8D4E3\"},\"hoverlabel\":{\"align\":\"left\"},\"hovermode\":\"closest\",\"mapbox\":{\"style\":\"light\"},\"paper_bgcolor\":\"white\",\"plot_bgcolor\":\"white\",\"polar\":{\"angularaxis\":{\"gridcolor\":\"#EBF0F8\",\"linecolor\":\"#EBF0F8\",\"ticks\":\"\"},\"bgcolor\":\"white\",\"radialaxis\":{\"gridcolor\":\"#EBF0F8\",\"linecolor\":\"#EBF0F8\",\"ticks\":\"\"}},\"scene\":{\"xaxis\":{\"backgroundcolor\":\"white\",\"gridcolor\":\"#DFE8F3\",\"gridwidth\":2,\"linecolor\":\"#EBF0F8\",\"showbackground\":true,\"ticks\":\"\",\"zerolinecolor\":\"#EBF0F8\"},\"yaxis\":{\"backgroundcolor\":\"white\",\"gridcolor\":\"#DFE8F3\",\"gridwidth\":2,\"linecolor\":\"#EBF0F8\",\"showbackground\":true,\"ticks\":\"\",\"zerolinecolor\":\"#EBF0F8\"},\"zaxis\":{\"backgroundcolor\":\"white\",\"gridcolor\":\"#DFE8F3\",\"gridwidth\":2,\"linecolor\":\"#EBF0F8\",\"showbackground\":true,\"ticks\":\"\",\"zerolinecolor\":\"#EBF0F8\"}},\"shapedefaults\":{\"line\":{\"color\":\"#2a3f5f\"}},\"ternary\":{\"aaxis\":{\"gridcolor\":\"#DFE8F3\",\"linecolor\":\"#A2B1C6\",\"ticks\":\"\"},\"baxis\":{\"gridcolor\":\"#DFE8F3\",\"linecolor\":\"#A2B1C6\",\"ticks\":\"\"},\"bgcolor\":\"white\",\"caxis\":{\"gridcolor\":\"#DFE8F3\",\"linecolor\":\"#A2B1C6\",\"ticks\":\"\"}},\"title\":{\"x\":0.05},\"xaxis\":{\"automargin\":true,\"gridcolor\":\"#EBF0F8\",\"linecolor\":\"#EBF0F8\",\"ticks\":\"\",\"title\":{\"standoff\":15},\"zerolinecolor\":\"#EBF0F8\",\"zerolinewidth\":2},\"yaxis\":{\"automargin\":true,\"gridcolor\":\"#EBF0F8\",\"linecolor\":\"#EBF0F8\",\"ticks\":\"\",\"title\":{\"standoff\":15},\"zerolinecolor\":\"#EBF0F8\",\"zerolinewidth\":2}}},\"xaxis\":{\"title\":{\"text\":\"Mois de 2024\"},\"tickangle\":-45,\"tickmode\":\"array\",\"tickvals\":[\"2024-01\",\"2024-02\",\"2024-03\",\"2024-04\",\"2024-05\",\"2024-06\",\"2024-07\",\"2024-08\",\"2024-09\",\"2024-10\",\"2024-11\"],\"ticktext\":[\"2024-01\",\"2024-02\",\"2024-03\",\"2024-04\",\"2024-05\",\"2024-06\",\"2024-07\",\"2024-08\",\"2024-09\",\"2024-10\",\"2024-11\"]},\"yaxis\":{\"title\":{\"text\":\"Nombre de tweets\"},\"side\":\"left\",\"showgrid\":true},\"yaxis2\":{\"title\":{\"text\":\"Taux d'engagement (par tweet)\"},\"side\":\"right\",\"overlaying\":\"y\",\"showgrid\":false,\"tickformat\":\".0f\"},\"legend\":{\"title\":{\"text\":\"L\\u00e9gende\"},\"x\":0.01,\"y\":0.99,\"bgcolor\":\"rgba(255,255,255,0.7)\"},\"title\":{\"text\":\"Nombre de tweets et \\u00e9volution du taux d'engagement mensuel\"},\"plot_bgcolor\":\"rgba(240,240,240,0.9)\",\"barmode\":\"overlay\"},                        {\"responsive\": true}                    ).then(function(){\n",
       "                            \n",
       "var gd = document.getElementById('fc027bd1-3252-44f2-84e1-3823c1e5c4f3');\n",
       "var x = new MutationObserver(function (mutations, observer) {{\n",
       "        var display = window.getComputedStyle(gd).display;\n",
       "        if (!display || display === 'none') {{\n",
       "            console.log([gd, 'removed!']);\n",
       "            Plotly.purge(gd);\n",
       "            observer.disconnect();\n",
       "        }}\n",
       "}});\n",
       "\n",
       "// Listen for the removal of the full notebook cells\n",
       "var notebookContainer = gd.closest('#notebook-container');\n",
       "if (notebookContainer) {{\n",
       "    x.observe(notebookContainer, {childList: true});\n",
       "}}\n",
       "\n",
       "// Listen for the clearing of the current output cell\n",
       "var outputEl = gd.closest('.output');\n",
       "if (outputEl) {{\n",
       "    x.observe(outputEl, {childList: true});\n",
       "}}\n",
       "\n",
       "                        })                };                });            </script>        </div>"
      ]
     },
     "metadata": {},
     "output_type": "display_data"
    }
   ],
   "source": [
    "\n",
    "# Fonction pour calculer les statistiques mensuelles\n",
    "def calculate_monthly_stats(df):\n",
    "    \"\"\"\n",
    "    Calculer les statistiques mensuelles : nombre de tweets et taux d'engagement.\n",
    "    \"\"\"\n",
    "    monthly_stats = df.groupby('YearMonth').agg(\n",
    "        TotalLikes=('Likes', 'sum'),\n",
    "        TotalComments=('Comments', 'sum'),\n",
    "        TotalRepost=('Repost', 'sum'),\n",
    "        NombreTweets=('YearMonth', 'size')\n",
    "    ).reset_index()\n",
    "\n",
    "    # Calculer le taux d'engagement\n",
    "    monthly_stats['Taux_Engagement'] = (\n",
    "        (monthly_stats['TotalLikes'] + monthly_stats['TotalComments'] + monthly_stats['TotalRepost'])\n",
    "        / monthly_stats['NombreTweets']\n",
    "    )\n",
    "    return monthly_stats\n",
    "\n",
    "# Calcul des statistiques\n",
    "monthly_stats = calculate_monthly_stats(df)\n",
    "\n",
    "# Création du graphique avec Plotly\n",
    "fig = go.Figure()\n",
    "\n",
    "# Ajouter les barres pour le nombre de tweets\n",
    "fig.add_trace(go.Bar(\n",
    "    x=monthly_stats['YearMonth'],\n",
    "    y=monthly_stats['NombreTweets'],\n",
    "    name='Nombre de tweets',\n",
    "    marker_color='skyblue',\n",
    "    opacity=0.6,\n",
    "    yaxis='y1'\n",
    "))\n",
    "\n",
    "# Ajouter la courbe pour le taux d'engagement avec une deuxième échelle\n",
    "fig.add_trace(go.Scatter(\n",
    "    x=monthly_stats['YearMonth'],\n",
    "    y=monthly_stats['Taux_Engagement'],\n",
    "    mode='lines+markers',\n",
    "    name=\"Taux d'engagement (par tweet)\",\n",
    "    line=dict(color='orange', width=3),\n",
    "    marker=dict(size=8),\n",
    "    yaxis='y2'\n",
    "))\n",
    "\n",
    "# Personnalisation des axes et du fond\n",
    "fig.update_layout(\n",
    "    title=\"Nombre de tweets et évolution du taux d'engagement mensuel\",\n",
    "    xaxis=dict(\n",
    "        title=\"Mois de 2024\",\n",
    "        tickangle=-45,\n",
    "        tickmode='array',  # Afficher tous les mois\n",
    "        tickvals=monthly_stats['YearMonth'],  # Valeurs des mois\n",
    "        ticktext=monthly_stats['YearMonth'],  # Libellé des mois\n",
    "    ),\n",
    "    yaxis=dict(\n",
    "        title=\"Nombre de tweets\",\n",
    "        side=\"left\",\n",
    "        showgrid=True\n",
    "    ),\n",
    "    yaxis2=dict(\n",
    "        title=\"Taux d'engagement (par tweet)\",\n",
    "        side=\"right\",\n",
    "        overlaying=\"y\",\n",
    "        showgrid=False,\n",
    "        tickformat=\".0f\"  # Supprime les décimales pour l'axe de droite\n",
    "    ),\n",
    "    template=\"plotly_white\",\n",
    "    #paper_bgcolor='rgba(230,230,230,0.8)',  # Fond grisé\n",
    "    plot_bgcolor='rgba(240,240,240,0.9)',   # Fond du graphique\n",
    "    barmode='overlay',\n",
    "    legend=dict(\n",
    "        title=\"Légende\",\n",
    "        x=0.01,  # Déplacer la légende vers la gauche\n",
    "        y=0.99,\n",
    "        bgcolor='rgba(255,255,255,0.7)'  # Fond semi-transparent pour la légende\n",
    "    )\n",
    ")\n",
    "\n",
    "# Afficher le graphique dans le notebook\n",
    "fig.show()\n"
   ]
  },
  {
   "cell_type": "markdown",
   "metadata": {},
   "source": [
    "On retrouve ce qu'on avait observé en juin et en août 2024, mais de façon plus significative en juin. C'est ce qu'on avait vu lors de la normalisation des moyennes, que les commentaires et les retweets avaient simultanément augmenté à cette période. Les tweets de juin et d'août 2024 ont beaucoup plus mobilisé les utilisateurs qu'en octobre et en novembre, ce qui peut s'expliquer - on l'a vu - par la croissance des nombres de tweets."
   ]
  }
 ],
 "metadata": {
  "kernelspec": {
   "display_name": "base",
   "language": "python",
   "name": "python3"
  },
  "language_info": {
   "codemirror_mode": {
    "name": "ipython",
    "version": 3
   },
   "file_extension": ".py",
   "mimetype": "text/x-python",
   "name": "python",
   "nbconvert_exporter": "python",
   "pygments_lexer": "ipython3",
   "version": "3.12.7"
  }
 },
 "nbformat": 4,
 "nbformat_minor": 2
}
